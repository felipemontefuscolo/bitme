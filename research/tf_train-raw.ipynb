{
 "cells": [
  {
   "cell_type": "code",
   "execution_count": 13,
   "metadata": {},
   "outputs": [],
   "source": [
    "import numpy as np\n",
    "from numpy.linalg import pinv, inv\n",
    "from solver import solve"
   ]
  },
  {
   "cell_type": "code",
   "execution_count": 6,
   "metadata": {},
   "outputs": [],
   "source": [
    "np.random.seed(3)\n",
    "x = np.random.rand(3,4)\n",
    "y = np.random.rand(2,4)\n",
    "A, b = solve(x, y)"
   ]
  },
  {
   "cell_type": "code",
   "execution_count": 9,
   "metadata": {},
   "outputs": [
    {
     "data": {
      "text/plain": [
       "array([[ 14.7325907 ,  -4.83187832,  -6.8645464 ],\n",
       "       [-18.4885509 ,   5.70767008,   8.79673898]])"
      ]
     },
     "execution_count": 9,
     "metadata": {},
     "output_type": "execute_result"
    }
   ],
   "source": [
    "# Z.dot(x) = y-b\n",
    "(y - b).dot(pinv(x))"
   ]
  },
  {
   "cell_type": "code",
   "execution_count": 11,
   "metadata": {},
   "outputs": [
    {
     "data": {
      "text/plain": [
       "array([[ 0.79307392,  0.45717429, -1.61648149],\n",
       "       [-1.58384314,  1.16240731,  1.8113318 ],\n",
       "       [ 3.68827256, -1.84737309, -2.76015822],\n",
       "       [ 1.19773412, -1.05232617,  0.80380748]])"
      ]
     },
     "execution_count": 11,
     "metadata": {},
     "output_type": "execute_result"
    }
   ],
   "source": [
    "pinv(x)"
   ]
  },
  {
   "cell_type": "code",
   "execution_count": 14,
   "metadata": {},
   "outputs": [
    {
     "data": {
      "text/plain": [
       "array([[ 0.79307392,  0.45717429, -1.61648149],\n",
       "       [-1.58384314,  1.16240731,  1.8113318 ],\n",
       "       [ 3.68827256, -1.84737309, -2.76015822],\n",
       "       [ 1.19773412, -1.05232617,  0.80380748]])"
      ]
     },
     "execution_count": 14,
     "metadata": {},
     "output_type": "execute_result"
    }
   ],
   "source": [
    "x.transpose().dot(inv(x.dot(x.transpose())))"
   ]
  },
  {
   "cell_type": "code",
   "execution_count": null,
   "metadata": {},
   "outputs": [],
   "source": [
    "from __future__ import absolute_import, division, print_function\n",
    "\n",
    "from tensorflow import keras\n",
    "from tensorflow.keras import layers\n",
    "import bisect\n",
    "import matplotlib.pyplot as plt\n",
    "import numpy as np\n",
    "import pandas as pd\n",
    "import pathlib\n",
    "import seaborn as sns\n",
    "import tensorflow as tf"
   ]
  },
  {
   "cell_type": "code",
   "execution_count": null,
   "metadata": {},
   "outputs": [],
   "source": [
    "from solver import solve, solve_logistic, sigmoid"
   ]
  },
  {
   "cell_type": "code",
   "execution_count": null,
   "metadata": {},
   "outputs": [],
   "source": [
    "ls /Users/felipe/bitcoin/data/ | grep training"
   ]
  },
  {
   "cell_type": "code",
   "execution_count": null,
   "metadata": {},
   "outputs": [],
   "source": [
    "def read_data(dates):\n",
    "    t = []\n",
    "    for date in dates:\n",
    "        tmp = pd.read_csv('/Users/felipe/bitcoin/data/{}-training.csv'.format(str(date)),\n",
    "                          index_col='time',\n",
    "                          parse_dates=True)\n",
    "        t.append(tmp)\n",
    "    return pd.concat(t)"
   ]
  },
  {
   "cell_type": "code",
   "execution_count": null,
   "metadata": {
    "collapsed": true
   },
   "outputs": [],
   "source": [
    "#train_dataset = t.sample(frac=0.8,random_state=0)\n",
    "#test_dataset = t.drop(train_dataset.index)\n",
    "train_dataset = read_data([20190515, 20190516, 20190517])\n",
    "test_dataset = read_data([20190521])\n",
    "train_stats = train_dataset.describe().transpose()\n",
    "# train_stats"
   ]
  },
  {
   "cell_type": "code",
   "execution_count": null,
   "metadata": {},
   "outputs": [],
   "source": [
    "x_cols = [i for i in train_dataset.columns if i not in ('longPnlAvg', 'shortPnlAvg')]\n",
    "y_cols = ['longPnlAvg', 'shortPnlAvg']\n",
    "\n",
    "train_labels = train_dataset[y_cols].values.transpose()\n",
    "test_labels = test_dataset[y_cols].values.transpose()\n",
    "train_dataset = train_dataset[x_cols].values.transpose()\n",
    "test_dataset = test_dataset[x_cols].values.transpose()"
   ]
  },
  {
   "cell_type": "code",
   "execution_count": null,
   "metadata": {},
   "outputs": [],
   "source": [
    "A, b = solve(train_dataset, train_labels)\n",
    "def predict(dataset, A, b):\n",
    "    return A.dot(dataset) + b"
   ]
  },
  {
   "cell_type": "code",
   "execution_count": null,
   "metadata": {},
   "outputs": [],
   "source": [
    "train_predictions = predict(train_dataset, A, b)"
   ]
  },
  {
   "cell_type": "code",
   "execution_count": null,
   "metadata": {},
   "outputs": [],
   "source": [
    "def get_good_x(labels, predictions, max_pnl_diff=8.15):\n",
    "    assert labels.shape == predictions.shape\n",
    "    y = np.abs(predictions - labels) <= max_pnl_diff\n",
    "    y = np.prod(y, axis=0)\n",
    "    return np.where(y > 0)[0]"
   ]
  },
  {
   "cell_type": "code",
   "execution_count": null,
   "metadata": {},
   "outputs": [],
   "source": [
    "good_x = get_good_x(train_labels, train_predictions)"
   ]
  },
  {
   "cell_type": "code",
   "execution_count": null,
   "metadata": {},
   "outputs": [],
   "source": []
  },
  {
   "cell_type": "code",
   "execution_count": null,
   "metadata": {},
   "outputs": [],
   "source": [
    "Yg = np.zeros(train_dataset.shape[1]).reshape(1, train_dataset.shape[1])\n",
    "Yg[:, good_x] = 1."
   ]
  },
  {
   "cell_type": "code",
   "execution_count": null,
   "metadata": {},
   "outputs": [],
   "source": []
  },
  {
   "cell_type": "code",
   "execution_count": null,
   "metadata": {},
   "outputs": [],
   "source": [
    "Ag, bg = solve()"
   ]
  },
  {
   "cell_type": "code",
   "execution_count": null,
   "metadata": {},
   "outputs": [],
   "source": [
    "test_dataset[:, good_x].shape"
   ]
  },
  {
   "cell_type": "code",
   "execution_count": null,
   "metadata": {},
   "outputs": [],
   "source": [
    "y = np.abs(test_predictions - test_labels)"
   ]
  },
  {
   "cell_type": "code",
   "execution_count": null,
   "metadata": {},
   "outputs": [],
   "source": [
    "del yh"
   ]
  },
  {
   "cell_type": "code",
   "execution_count": null,
   "metadata": {},
   "outputs": [],
   "source": [
    "np.sum(y[0] * y[1])"
   ]
  },
  {
   "cell_type": "code",
   "execution_count": null,
   "metadata": {},
   "outputs": [],
   "source": [
    "y, yh = is_good(test_labels, test_predictions)"
   ]
  },
  {
   "cell_type": "code",
   "execution_count": null,
   "metadata": {},
   "outputs": [],
   "source": [
    "test_dataset.mean()"
   ]
  },
  {
   "cell_type": "code",
   "execution_count": null,
   "metadata": {},
   "outputs": [],
   "source": [
    "test_predictions = A.dot(test_dataset) + b\n",
    "\n",
    "plt.scatter(test_labels.flatten(), test_predictions.flatten())\n",
    "plt.xlabel('True Values')\n",
    "plt.ylabel('Predictions')\n",
    "plt.axis('equal')\n",
    "plt.axis('square')\n",
    "plt.xlim([0,plt.xlim()[1]])\n",
    "plt.ylim([0,plt.ylim()[1]])\n",
    "_ = plt.plot([-100, 100], [-100, 100])"
   ]
  },
  {
   "cell_type": "code",
   "execution_count": null,
   "metadata": {
    "scrolled": true
   },
   "outputs": [],
   "source": [
    "error = test_predictions.flatten() - test_labels.flatten()\n",
    "plt.hist(error, bins = 25)\n",
    "plt.xlabel(\"Prediction Error\")\n",
    "_ = plt.ylabel(\"Count\")"
   ]
  },
  {
   "cell_type": "code",
   "execution_count": null,
   "metadata": {},
   "outputs": [],
   "source": [
    "max(error), min(error)"
   ]
  },
  {
   "cell_type": "code",
   "execution_count": null,
   "metadata": {},
   "outputs": [],
   "source": [
    "max(error), min(error)"
   ]
  },
  {
   "cell_type": "code",
   "execution_count": null,
   "metadata": {},
   "outputs": [],
   "source": [
    "test_predictions"
   ]
  },
  {
   "cell_type": "code",
   "execution_count": null,
   "metadata": {},
   "outputs": [],
   "source": [
    "sign_error = test_predictions.flatten() * test_labels.flatten()\n",
    "sum(sign_error < 0) / len(sign_error)"
   ]
  },
  {
   "cell_type": "code",
   "execution_count": null,
   "metadata": {},
   "outputs": [],
   "source": [
    "compare = pd.DataFrame({'buy_pred': test_predictions[:,0],\n",
    "                        'buy_label': test_labels.as_matrix()[:,0],\n",
    "                        'sell_pred': test_predictions[:,1],\n",
    "                        'sell_label': test_labels.as_matrix()[:,1]})"
   ]
  },
  {
   "cell_type": "code",
   "execution_count": null,
   "metadata": {},
   "outputs": [],
   "source": [
    "(compare['buy_label'].corr(compare['buy_pred']),\n",
    "compare['sell_label'].corr(compare['sell_pred']))"
   ]
  },
  {
   "cell_type": "code",
   "execution_count": null,
   "metadata": {},
   "outputs": [],
   "source": [
    "len(compare[(compare['buy_label'] >= 5) & (compare['buy_pred'] >= 5)])/ len(compare)"
   ]
  },
  {
   "cell_type": "code",
   "execution_count": null,
   "metadata": {},
   "outputs": [],
   "source": [
    "# tf.trainable_variables()"
   ]
  },
  {
   "cell_type": "code",
   "execution_count": null,
   "metadata": {},
   "outputs": [],
   "source": [
    "pd.DataFrame(model.get_weights()[0])\\\n",
    ".set_index(test_dataset.keys())\\\n",
    ".rename(columns={0: 'buyPnl', 1: 'sellPnl'})\\\n",
    ".apply(lambda x: abs(x))\\\n",
    ".sort_values(by='buyPnl')"
   ]
  },
  {
   "cell_type": "code",
   "execution_count": null,
   "metadata": {},
   "outputs": [],
   "source": [
    "def solve_logistic(x, y, learning_rate=0.1, max_iters=1000, tol=1.e-10, patience=10):\n",
    "    assert x.shape[1] == y.shape[1]\n",
    "    assert patience > 0\n",
    "    Nx = x.shape[0]\n",
    "    Ny = y.shape[0]\n",
    "    Nt = x.shape[1]\n",
    "    A = np.zeros(Nx * Ny).reshape(Ny, Nx)\n",
    "    b = np.zeros(Ny).reshape(Ny, 1)\n",
    "    ones = np.ones(Nt).reshape(Nt, 1)\n",
    "    r = []\n",
    "    k = 0\n",
    "    is_diverging = False\n",
    "    patience_left = patience\n",
    "    while k < max_iters:\n",
    "        S = sigmoid(A.dot(x) + b.dot(ones.transpose()))\n",
    "        R = S - y\n",
    "        dA = R.dot(x.transpose())\n",
    "        db = R.dot(ones)\n",
    "        A -= learning_rate * dA\n",
    "        b -= learning_rate * db\n",
    "        J = np.sum(-y * np.log(S) - (1. - y) * np.log(1 - S))\n",
    "        A_max = np.max(np.abs(A))\n",
    "        b_max = np.max(np.abs(b))\n",
    "        dA_err = np.max(np.abs(dA)) / max(A_max, tol)\n",
    "        db_err = np.max(np.abs(db)) / max(b_max, tol)\n",
    "        d_err = max(dA_err, db_err)\n",
    "        k += 1\n",
    "        if J <= tol:\n",
    "            r.append([J, d_err])\n",
    "            break\n",
    "        if r and r[-1][1] < d_err + tol:\n",
    "            is_diverging = True\n",
    "            patience_left -= 1\n",
    "            if patience_left == 0:\n",
    "                r.append([J, d_err])\n",
    "                break\n",
    "        else:\n",
    "            is_diverging = False\n",
    "            patience_left = patience\n",
    "            r.append([J, d_err])\n",
    "            \n",
    "    return A, b, r"
   ]
  },
  {
   "cell_type": "code",
   "execution_count": null,
   "metadata": {},
   "outputs": [],
   "source": [
    "help(np.linalg.norm)"
   ]
  },
  {
   "cell_type": "markdown",
   "metadata": {},
   "source": [
    "## Testing if $\\theta$ theory is valid"
   ]
  },
  {
   "cell_type": "code",
   "execution_count": null,
   "metadata": {},
   "outputs": [],
   "source": [
    "A_e = np.array([[10., 0.]])\n",
    "b_e = np.array([[.5]])\n",
    "x = np.array([[-1., 0, 1., 2.],\n",
    "              [0., 1., 2., 3.]])\n",
    "y = sigmoid(A_e.dot(x) + b_e)\n",
    "\n",
    "A, b, r = solve_logistic(x, y, learning_rate=1, max_iters=1000000, tol=1.e-14)\n",
    "\n",
    "def J(A, b, x, y):\n",
    "    J_ = -y * np.log(sigmoid(A.dot(x) + b)) - (1. - y) * np.log(1 - sigmoid(A.dot(x) + b))\n",
    "    return np.linalg.norm(J_)\n",
    "\n",
    "def R(A, b, x, y):\n",
    "    Nt = x.shape[1]\n",
    "    return sigmoid(A.dot(x) + b.dot(np.ones(Nt).reshape(1,Nt))) - y"
   ]
  },
  {
   "cell_type": "code",
   "execution_count": null,
   "metadata": {},
   "outputs": [],
   "source": [
    "J(A, b, x, y) - J(A_e, b_e, x, y)"
   ]
  },
  {
   "cell_type": "code",
   "execution_count": null,
   "metadata": {},
   "outputs": [],
   "source": [
    "np.linalg.norm(R(A, b, x, y), 'fro')"
   ]
  },
  {
   "cell_type": "code",
   "execution_count": null,
   "metadata": {},
   "outputs": [],
   "source": [
    "np.linalg.norm(R(A_e, b_e, x, y), 'fro')"
   ]
  },
  {
   "cell_type": "code",
   "execution_count": null,
   "metadata": {},
   "outputs": [],
   "source": [
    "A, A_e"
   ]
  },
  {
   "cell_type": "code",
   "execution_count": null,
   "metadata": {},
   "outputs": [],
   "source": [
    "b, b_e"
   ]
  },
  {
   "cell_type": "code",
   "execution_count": null,
   "metadata": {},
   "outputs": [],
   "source": []
  },
  {
   "cell_type": "code",
   "execution_count": null,
   "metadata": {},
   "outputs": [],
   "source": [
    "np.amax(x, 0)"
   ]
  },
  {
   "cell_type": "code",
   "execution_count": null,
   "metadata": {},
   "outputs": [],
   "source": [
    "np.vectorize(max)(x, 0.)"
   ]
  },
  {
   "cell_type": "code",
   "execution_count": null,
   "metadata": {},
   "outputs": [],
   "source": [
    "np.max(np.abs(x))"
   ]
  },
  {
   "cell_type": "code",
   "execution_count": null,
   "metadata": {},
   "outputs": [],
   "source": []
  }
 ],
 "metadata": {
  "kernelspec": {
   "display_name": "Python 3",
   "language": "python",
   "name": "python3"
  },
  "language_info": {
   "codemirror_mode": {
    "name": "ipython",
    "version": 3
   },
   "file_extension": ".py",
   "mimetype": "text/x-python",
   "name": "python",
   "nbconvert_exporter": "python",
   "pygments_lexer": "ipython3",
   "version": "3.6.8"
  }
 },
 "nbformat": 4,
 "nbformat_minor": 2
}
