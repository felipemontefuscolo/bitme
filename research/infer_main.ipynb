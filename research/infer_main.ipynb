{
 "cells": [
  {
   "cell_type": "code",
   "execution_count": 5,
   "metadata": {
    "scrolled": true
   },
   "outputs": [],
   "source": [
    "import argparse\n",
    "import inspect"
   ]
  },
  {
   "cell_type": "code",
   "execution_count": 19,
   "metadata": {},
   "outputs": [],
   "source": [
    "def main(var_1: str, var_2: float=2.0, var_3='hi'):\n",
    "    print('got: ')\n",
    "    print(var_1)\n",
    "    print(var_2)\n",
    "    print(var_3)\n",
    "    pass"
   ]
  },
  {
   "cell_type": "code",
   "execution_count": 20,
   "metadata": {},
   "outputs": [],
   "source": [
    "def main_aux():\n",
    "    signature = inspect.signature(main)  # type: inspect.Signature\n",
    "    pars = list(signature.parameters.values())\n",
    "    parser = argparse.ArgumentParser(description=inspect.getdoc(main))\n",
    "    for p in pars:\n",
    "        parser.add_argument(\n",
    "            '--{}'.format(p.name.replace('_', '-')),\n",
    "            default=None if p.default == inspect._empty else p.default,\n",
    "            type=p.annotation if type(p.annotation) is type else None)\n",
    "    args = parser.parse_args()\n",
    "    main(**args.__dict__)"
   ]
  },
  {
   "cell_type": "code",
   "execution_count": null,
   "metadata": {},
   "outputs": [],
   "source": []
  },
  {
   "cell_type": "code",
   "execution_count": 13,
   "metadata": {},
   "outputs": [],
   "source": [
    "def hi(x=2):\n",
    "    return inspect.signature(hi)"
   ]
  },
  {
   "cell_type": "code",
   "execution_count": null,
   "metadata": {},
   "outputs": [],
   "source": []
  },
  {
   "cell_type": "code",
   "execution_count": null,
   "metadata": {},
   "outputs": [],
   "source": []
  }
 ],
 "metadata": {
  "kernelspec": {
   "display_name": "Python 3",
   "language": "python",
   "name": "python3"
  },
  "language_info": {
   "codemirror_mode": {
    "name": "ipython",
    "version": 3
   },
   "file_extension": ".py",
   "mimetype": "text/x-python",
   "name": "python",
   "nbconvert_exporter": "python",
   "pygments_lexer": "ipython3",
   "version": "3.6.8"
  }
 },
 "nbformat": 4,
 "nbformat_minor": 2
}
