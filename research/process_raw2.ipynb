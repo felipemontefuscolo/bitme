{
 "cells": [
  {
   "cell_type": "code",
   "execution_count": 30,
   "metadata": {},
   "outputs": [],
   "source": [
    "import pandas as pd\n",
    "import numpy as np\n",
    "from mytools import add_max_return, ema\n",
    "import matplotlib.pyplot as plt\n",
    "# import bisect\n",
    "# %matplotlib notebook\n",
    "%matplotlib inline\n",
    "# import tensorflow"
   ]
  },
  {
   "cell_type": "code",
   "execution_count": 2,
   "metadata": {},
   "outputs": [],
   "source": [
    "INTERVAL = pd.Timedelta('10s')\n",
    "RETURN_HORIZON = INTERVAL*30\n",
    "DATA_PATH = '/Users/felipe/bitcoin/{type}/{date}.csv.gz'\n",
    "OUTPUT = '/Users/felipe/bitcoin/data/{date}-training.csv'\n",
    "SPANS = [2, 3, 6, 15, 30, 60]  # in inverval units"
   ]
  },
  {
   "cell_type": "code",
   "execution_count": 3,
   "metadata": {},
   "outputs": [],
   "source": [
    "FOR_DATE = '20190515'"
   ]
  },
  {
   "cell_type": "code",
   "execution_count": 4,
   "metadata": {},
   "outputs": [],
   "source": [
    "def date_parser(string):\n",
    "    return pd.Timestamp(f'{string[:10]} {string[11:]}')\n",
    "\n",
    "def read_trades(date):\n",
    "    date = str(date)\n",
    "    path = DATA_PATH.format(type='trades', date=date)\n",
    "    t = pd.read_csv(path,\n",
    "                    index_col='timestamp',\n",
    "                    parse_dates=True,\n",
    "                    date_parser=date_parser,\n",
    "                    usecols=['timestamp', 'symbol', 'price', 'side', 'size'])\n",
    "    t.index.name = 'time'\n",
    "    t = t[(t.symbol == 'XBTUSD') & (t.price > 1)]\n",
    "    t = t.dropna()\n",
    "    t.drop(columns={'symbol'}, inplace=True)\n",
    "    t = t[['price', 'side', 'size']]\n",
    "    return t\n",
    "\n",
    "def read_quotes(date):\n",
    "    date = str(date)\n",
    "    path = DATA_PATH.format(type='quotes', date=date)\n",
    "    t = pd.read_csv(path,\n",
    "                    index_col='timestamp',\n",
    "                    parse_dates=True,\n",
    "                    date_parser=date_parser,\n",
    "                    usecols=['timestamp', 'symbol', 'bidPrice', 'askPrice', 'bidSize', 'askSize'])\n",
    "    t.index.name = 'time'\n",
    "    t = t[(t.symbol == 'XBTUSD') & (t.bidPrice > 1) & (t.askPrice > 1) & (t.bidPrice < t.askPrice)]\n",
    "    t = t.dropna()\n",
    "    t.drop(columns={'symbol'}, inplace=True)\n",
    "    t = t[['bidPrice', 'askPrice', 'bidSize', 'askSize']]\n",
    "    return t"
   ]
  },
  {
   "cell_type": "code",
   "execution_count": 5,
   "metadata": {},
   "outputs": [],
   "source": [
    "def process_trades(interval, return_horizon):\n",
    "    t = read_trades(FOR_DATE)\n",
    "    t.loc[t.side == 'Sell', 'size'] *= -1\n",
    "    t.rename(columns={'size': 'boughtSum'}, inplace=True)\n",
    "    t['soldSum'] = t['boughtSum'].copy()\n",
    "    t = t[['boughtSum', 'soldSum']]\n",
    "    t.loc[:, 'boughtSum'].clip(lower=0, inplace=True)\n",
    "    t.loc[:, 'soldSum'].clip(upper=0, inplace=True)\n",
    "    t['soldSum'] *= -1\n",
    "    t = t.resample(interval).agg('sum').fillna(method='ffill')\n",
    "    t = t[['boughtSum', 'soldSum']]\n",
    "    # throw away first and last bucket, since they are incomplete\n",
    "    t = t.iloc[1:-return_horizon//interval]\n",
    "    return t"
   ]
  },
  {
   "cell_type": "code",
   "execution_count": 6,
   "metadata": {},
   "outputs": [
    {
     "data": {
      "text/html": [
       "<div>\n",
       "<style scoped>\n",
       "    .dataframe tbody tr th:only-of-type {\n",
       "        vertical-align: middle;\n",
       "    }\n",
       "\n",
       "    .dataframe tbody tr th {\n",
       "        vertical-align: top;\n",
       "    }\n",
       "\n",
       "    .dataframe thead th {\n",
       "        text-align: right;\n",
       "    }\n",
       "</style>\n",
       "<table border=\"1\" class=\"dataframe\">\n",
       "  <thead>\n",
       "    <tr style=\"text-align: right;\">\n",
       "      <th></th>\n",
       "      <th>boughtSum</th>\n",
       "      <th>soldSum</th>\n",
       "    </tr>\n",
       "    <tr>\n",
       "      <th>time</th>\n",
       "      <th></th>\n",
       "      <th></th>\n",
       "    </tr>\n",
       "  </thead>\n",
       "  <tbody>\n",
       "    <tr>\n",
       "      <td>2019-05-15 00:00:10</td>\n",
       "      <td>235036</td>\n",
       "      <td>12672</td>\n",
       "    </tr>\n",
       "    <tr>\n",
       "      <td>2019-05-15 00:00:20</td>\n",
       "      <td>1133215</td>\n",
       "      <td>54027</td>\n",
       "    </tr>\n",
       "    <tr>\n",
       "      <td>2019-05-15 00:00:30</td>\n",
       "      <td>209172</td>\n",
       "      <td>40211</td>\n",
       "    </tr>\n",
       "    <tr>\n",
       "      <td>2019-05-15 00:00:40</td>\n",
       "      <td>220380</td>\n",
       "      <td>12467</td>\n",
       "    </tr>\n",
       "    <tr>\n",
       "      <td>2019-05-15 00:00:50</td>\n",
       "      <td>171473</td>\n",
       "      <td>41690</td>\n",
       "    </tr>\n",
       "  </tbody>\n",
       "</table>\n",
       "</div>"
      ],
      "text/plain": [
       "                     boughtSum  soldSum\n",
       "time                                   \n",
       "2019-05-15 00:00:10     235036    12672\n",
       "2019-05-15 00:00:20    1133215    54027\n",
       "2019-05-15 00:00:30     209172    40211\n",
       "2019-05-15 00:00:40     220380    12467\n",
       "2019-05-15 00:00:50     171473    41690"
      ]
     },
     "execution_count": 6,
     "metadata": {},
     "output_type": "execute_result"
    }
   ],
   "source": [
    "t = process_trades(INTERVAL, RETURN_HORIZON)\n",
    "t.head()"
   ]
  },
  {
   "cell_type": "code",
   "execution_count": 10,
   "metadata": {},
   "outputs": [],
   "source": [
    "def process_quotes(interval, return_horizon):\n",
    "    q = read_quotes(FOR_DATE)\n",
    "    q = q.resample(interval).agg('mean').fillna(method='ffill')\n",
    "    q = q.rename(columns={c: f'{c}Avg' for c in q.columns})\n",
    "    # it's better to compute max profit after avg to be conservative, i.e., no super high profit\n",
    "    add_max_return(q, return_horizon, 'bidPriceAvg', 'askPriceAvg')\n",
    "    q = q.iloc[1:-return_horizon//interval]\n",
    "    return q"
   ]
  },
  {
   "cell_type": "code",
   "execution_count": 11,
   "metadata": {},
   "outputs": [
    {
     "data": {
      "text/html": [
       "<div>\n",
       "<style scoped>\n",
       "    .dataframe tbody tr th:only-of-type {\n",
       "        vertical-align: middle;\n",
       "    }\n",
       "\n",
       "    .dataframe tbody tr th {\n",
       "        vertical-align: top;\n",
       "    }\n",
       "\n",
       "    .dataframe thead th {\n",
       "        text-align: right;\n",
       "    }\n",
       "</style>\n",
       "<table border=\"1\" class=\"dataframe\">\n",
       "  <thead>\n",
       "    <tr style=\"text-align: right;\">\n",
       "      <th></th>\n",
       "      <th>bidPriceAvg</th>\n",
       "      <th>askPriceAvg</th>\n",
       "      <th>bidSizeAvg</th>\n",
       "      <th>askSizeAvg</th>\n",
       "      <th>maxLongReturn5min</th>\n",
       "      <th>maxShortReturn5min</th>\n",
       "    </tr>\n",
       "    <tr>\n",
       "      <th>time</th>\n",
       "      <th></th>\n",
       "      <th></th>\n",
       "      <th></th>\n",
       "      <th></th>\n",
       "      <th></th>\n",
       "      <th></th>\n",
       "    </tr>\n",
       "  </thead>\n",
       "  <tbody>\n",
       "    <tr>\n",
       "      <td>2019-05-15 00:00:10</td>\n",
       "      <td>7997.915789</td>\n",
       "      <td>7998.447368</td>\n",
       "      <td>412589.821053</td>\n",
       "      <td>212751.684211</td>\n",
       "      <td>0.006940</td>\n",
       "      <td>-0.000066</td>\n",
       "    </tr>\n",
       "    <tr>\n",
       "      <td>2019-05-15 00:00:20</td>\n",
       "      <td>8000.128342</td>\n",
       "      <td>8000.700535</td>\n",
       "      <td>171407.636364</td>\n",
       "      <td>133618.652406</td>\n",
       "      <td>0.006724</td>\n",
       "      <td>-0.000072</td>\n",
       "    </tr>\n",
       "    <tr>\n",
       "      <td>2019-05-15 00:00:30</td>\n",
       "      <td>8009.545946</td>\n",
       "      <td>8010.148649</td>\n",
       "      <td>115792.097297</td>\n",
       "      <td>7946.335135</td>\n",
       "      <td>0.005582</td>\n",
       "      <td>-0.000075</td>\n",
       "    </tr>\n",
       "    <tr>\n",
       "      <td>2019-05-15 00:00:40</td>\n",
       "      <td>8014.451807</td>\n",
       "      <td>8014.957831</td>\n",
       "      <td>94688.421687</td>\n",
       "      <td>105447.301205</td>\n",
       "      <td>0.005833</td>\n",
       "      <td>-0.000063</td>\n",
       "    </tr>\n",
       "    <tr>\n",
       "      <td>2019-05-15 00:00:50</td>\n",
       "      <td>8014.500000</td>\n",
       "      <td>8015.000000</td>\n",
       "      <td>287964.657025</td>\n",
       "      <td>789264.004132</td>\n",
       "      <td>0.006735</td>\n",
       "      <td>-0.000062</td>\n",
       "    </tr>\n",
       "  </tbody>\n",
       "</table>\n",
       "</div>"
      ],
      "text/plain": [
       "                     bidPriceAvg  askPriceAvg     bidSizeAvg     askSizeAvg  \\\n",
       "time                                                                          \n",
       "2019-05-15 00:00:10  7997.915789  7998.447368  412589.821053  212751.684211   \n",
       "2019-05-15 00:00:20  8000.128342  8000.700535  171407.636364  133618.652406   \n",
       "2019-05-15 00:00:30  8009.545946  8010.148649  115792.097297    7946.335135   \n",
       "2019-05-15 00:00:40  8014.451807  8014.957831   94688.421687  105447.301205   \n",
       "2019-05-15 00:00:50  8014.500000  8015.000000  287964.657025  789264.004132   \n",
       "\n",
       "                     maxLongReturn5min  maxShortReturn5min  \n",
       "time                                                        \n",
       "2019-05-15 00:00:10           0.006940           -0.000066  \n",
       "2019-05-15 00:00:20           0.006724           -0.000072  \n",
       "2019-05-15 00:00:30           0.005582           -0.000075  \n",
       "2019-05-15 00:00:40           0.005833           -0.000063  \n",
       "2019-05-15 00:00:50           0.006735           -0.000062  "
      ]
     },
     "execution_count": 11,
     "metadata": {},
     "output_type": "execute_result"
    }
   ],
   "source": [
    "q = process_quotes(INTERVAL, RETURN_HORIZON)\n",
    "q.head()"
   ]
  },
  {
   "cell_type": "code",
   "execution_count": 14,
   "metadata": {},
   "outputs": [
    {
     "data": {
      "text/plain": [
       "(8609, 8609)"
      ]
     },
     "execution_count": 14,
     "metadata": {},
     "output_type": "execute_result"
    }
   ],
   "source": [
    "len(q), len(t)"
   ]
  },
  {
   "cell_type": "code",
   "execution_count": 41,
   "metadata": {},
   "outputs": [],
   "source": [
    "df = pd.concat([t, q], axis=1).dropna()\n",
    "Y_cols = list(df.columns[-2:])\n",
    "X_cols = ['boughtSum', 'soldSum', 'bidPriceAvg', 'askPriceAvg', 'bidSizeAvg', 'askSizeAvg']\n",
    "df = df[Y_cols + X_cols]"
   ]
  },
  {
   "cell_type": "code",
   "execution_count": 27,
   "metadata": {},
   "outputs": [
    {
     "data": {
      "text/plain": [
       "(8609,                      maxLongReturn5min  maxShortReturn5min  boughtSum  \\\n",
       " time                                                                    \n",
       " 2019-05-15 00:00:10           0.006940           -0.000066     235036   \n",
       " 2019-05-15 00:00:20           0.006724           -0.000072    1133215   \n",
       " 2019-05-15 00:00:30           0.005582           -0.000075     209172   \n",
       " 2019-05-15 00:00:40           0.005833           -0.000063     220380   \n",
       " 2019-05-15 00:00:50           0.006735           -0.000062     171473   \n",
       " \n",
       "                      soldSum  bidPriceAvg  askPriceAvg     bidSizeAvg  \\\n",
       " time                                                                    \n",
       " 2019-05-15 00:00:10    12672  7997.915789  7998.447368  412589.821053   \n",
       " 2019-05-15 00:00:20    54027  8000.128342  8000.700535  171407.636364   \n",
       " 2019-05-15 00:00:30    40211  8009.545946  8010.148649  115792.097297   \n",
       " 2019-05-15 00:00:40    12467  8014.451807  8014.957831   94688.421687   \n",
       " 2019-05-15 00:00:50    41690  8014.500000  8015.000000  287964.657025   \n",
       " \n",
       "                         askSizeAvg  \n",
       " time                                \n",
       " 2019-05-15 00:00:10  212751.684211  \n",
       " 2019-05-15 00:00:20  133618.652406  \n",
       " 2019-05-15 00:00:30    7946.335135  \n",
       " 2019-05-15 00:00:40  105447.301205  \n",
       " 2019-05-15 00:00:50  789264.004132  )"
      ]
     },
     "execution_count": 27,
     "metadata": {},
     "output_type": "execute_result"
    }
   ],
   "source": [
    "len(df), df.head()"
   ]
  },
  {
   "cell_type": "code",
   "execution_count": 42,
   "metadata": {},
   "outputs": [],
   "source": [
    "spans = [2, 3, 6, 15, 30, 60, 1000]"
   ]
  },
  {
   "cell_type": "code",
   "execution_count": 43,
   "metadata": {},
   "outputs": [],
   "source": [
    "df = ema(df, spans, X_cols)"
   ]
  },
  {
   "cell_type": "code",
   "execution_count": 35,
   "metadata": {},
   "outputs": [],
   "source": [
    "bidPrices = [i for i in df.columns if 'bidPriceAvg' in i]"
   ]
  },
  {
   "cell_type": "code",
   "execution_count": 36,
   "metadata": {},
   "outputs": [
    {
     "data": {
      "text/plain": [
       "<matplotlib.axes._subplots.AxesSubplot at 0x10974a160>"
      ]
     },
     "execution_count": 36,
     "metadata": {},
     "output_type": "execute_result"
    },
    {
     "data": {
      "image/png": "[encoded data removed]",
      "text/plain": [
       "<matplotlib.figure.Figure at 0x10fbf9400>"
      ]
     },
     "metadata": {},
     "output_type": "display_data"
    }
   ],
   "source": [
    "df[bidPrices].plot()"
   ]
  },
  {
   "cell_type": "code",
   "execution_count": 44,
   "metadata": {},
   "outputs": [
    {
     "data": {
      "text/plain": [
       "<matplotlib.axes._subplots.AxesSubplot at 0x109a94630>"
      ]
     },
     "execution_count": 44,
     "metadata": {},
     "output_type": "execute_result"
    },
    {
     "data": {
      "image/png": "[encoded data removed]",
      "text/plain": [
       "<matplotlib.figure.Figure at 0x109a75cc0>"
      ]
     },
     "metadata": {},
     "output_type": "display_data"
    }
   ],
   "source": [
    "df[['bidPriceAvg', 'E1000bidPriceAvg']].plot()"
   ]
  },
  {
   "cell_type": "code",
   "execution_count": 72,
   "metadata": {},
   "outputs": [
    {
     "ename": "NameError",
     "evalue": "name 'df' is not defined",
     "output_type": "error",
     "traceback": [
      "\u001b[0;31m---------------------------------------------------------------------------\u001b[0m",
      "\u001b[0;31mNameError\u001b[0m                                 Traceback (most recent call last)",
      "\u001b[0;32m<ipython-input-72-00d1f155941f>\u001b[0m in \u001b[0;36m<module>\u001b[0;34m()\u001b[0m\n\u001b[0;32m----> 1\u001b[0;31m \u001b[0mdf\u001b[0m\u001b[0;34m.\u001b[0m\u001b[0mto_csv\u001b[0m\u001b[0;34m(\u001b[0m\u001b[0mOUTPUT\u001b[0m\u001b[0;34m.\u001b[0m\u001b[0mformat\u001b[0m\u001b[0;34m(\u001b[0m\u001b[0mdate\u001b[0m\u001b[0;34m=\u001b[0m\u001b[0mFOR_DATE\u001b[0m\u001b[0;34m)\u001b[0m\u001b[0;34m)\u001b[0m\u001b[0;34m\u001b[0m\u001b[0;34m\u001b[0m\u001b[0m\n\u001b[0m",
      "\u001b[0;31mNameError\u001b[0m: name 'df' is not defined"
     ]
    }
   ],
   "source": [
    "df.to_csv(OUTPUT.format(date=FOR_DATE))"
   ]
  },
  {
   "cell_type": "code",
   "execution_count": 351,
   "metadata": {},
   "outputs": [
    {
     "data": {
      "text/plain": [
       "pandas.core.indexes.datetimes.DatetimeIndex"
      ]
     },
     "execution_count": 351,
     "metadata": {},
     "output_type": "execute_result"
    }
   ],
   "source": [
    "type(df.index)"
   ]
  },
  {
   "cell_type": "code",
   "execution_count": null,
   "metadata": {},
   "outputs": [],
   "source": []
  }
 ],
 "metadata": {
  "kernelspec": {
   "display_name": "Python 3",
   "language": "python",
   "name": "python3"
  },
  "language_info": {
   "codemirror_mode": {
    "name": "ipython",
    "version": 3
   },
   "file_extension": ".py",
   "mimetype": "text/x-python",
   "name": "python",
   "nbconvert_exporter": "python",
   "pygments_lexer": "ipython3",
   "version": "3.6.8"
  }
 },
 "nbformat": 4,
 "nbformat_minor": 2
}
