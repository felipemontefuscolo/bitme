{
 "cells": [
  {
   "cell_type": "code",
   "execution_count": 1,
   "metadata": {},
   "outputs": [],
   "source": [
    "import numpy as np\n",
    "import pandas as pd"
   ]
  },
  {
   "cell_type": "code",
   "execution_count": 2,
   "metadata": {},
   "outputs": [],
   "source": [
    "import doctest"
   ]
  },
  {
   "cell_type": "code",
   "execution_count": 3,
   "metadata": {},
   "outputs": [],
   "source": [
    "def detect_heads(v, height) -> 'list of tuple (i,j,k)':\n",
    "    \"\"\" pi < pj > pk, such that |pj - pi| > hight and |pj - pk| > hight\n",
    "        i  <  j <  k, i and k the first index that makes a head\n",
    "        \n",
    "        >>> detect_heads([1,2,3,2,1], 1)\n",
    "        [(1, 2, 3)]\n",
    "        >>> detect_heads([1,2,3,2,1], 2)\n",
    "        [(0, 2, 4)]\n",
    "        >>> detect_heads([1,2,3,2,1], 3)\n",
    "        []\n",
    "        >>> detect_heads([5,4,3,2,1], 1)\n",
    "        []\n",
    "        >>> detect_heads([1,2,3,4,5], 1)\n",
    "        []\n",
    "        >>> detect_heads([1,2,3,4,3], 1)\n",
    "        [(2, 3, 4)]\n",
    "        >>> detect_heads([1,2,3,2,3,2,3], 1)\n",
    "        [(1, 2, 3), (3, 4, 5)]\n",
    "        >>> detect_heads([1,2,1,2,3,4,1], 3)\n",
    "        [(0, 5, 6)]\n",
    "    \"\"\"\n",
    "    assert height > 0\n",
    "    if len(v) < 2:\n",
    "        return []\n",
    "    i, j, k = 0, None, None\n",
    "    result = []\n",
    "    for idx, p in enumerate(v):\n",
    "        if j:\n",
    "            if p <= v[j] - height:\n",
    "                result.append((i, j, idx))\n",
    "                i, j, k = idx, None, None\n",
    "            elif p > v[j]:\n",
    "                j = idx\n",
    "                while p >= v[i+1] + height:\n",
    "                    i = i + 1\n",
    "            continue\n",
    "        elif p < v[i]:\n",
    "            i = idx\n",
    "        elif p >= v[i] + height:\n",
    "            j = idx\n",
    "            while p >= v[i+1] + height:\n",
    "                i = i + 1\n",
    "                \n",
    "    return result\n",
    "\n",
    "doctest.run_docstring_examples(detect_heads, globals(), verbose=False)"
   ]
  },
  {
   "cell_type": "code",
   "execution_count": 4,
   "metadata": {},
   "outputs": [],
   "source": [
    "def detect_vallies(v, height) -> 'list of tuple (i,j,k)':\n",
    "    \"\"\" pi > pj < pk, such that |pj - pi| > hight and |pj - pk| > hight\n",
    "        i  <  j <  k, i and k the first index that makes a valley\n",
    "        \n",
    "        >>> detect_vallies([3,2,1,2,3], 1)\n",
    "        [(1, 2, 3)]\n",
    "        >>> detect_vallies([3,2,1,2,3], 2)\n",
    "        [(0, 2, 4)]\n",
    "        >>> detect_vallies([3,2,1,2,3], 3)\n",
    "        []\n",
    "        >>> detect_vallies([5,4,3,2,1], 1)\n",
    "        []\n",
    "        >>> detect_vallies([1,2,3,4,5], 1)\n",
    "        []\n",
    "        >>> detect_vallies([4,3,2,1,2], 1)\n",
    "        [(2, 3, 4)]\n",
    "        >>> detect_vallies([3,2,1,2,1,2,1], 1)\n",
    "        [(1, 2, 3), (3, 4, 5)]\n",
    "        >>> detect_vallies([4,3,4,3,2,1,4], 3)\n",
    "        [(0, 5, 6)]\n",
    "    \"\"\"\n",
    "    return detect_heads([-i for i in v], height)\n",
    "\n",
    "doctest.run_docstring_examples(detect_vallies, globals(), verbose=False)"
   ]
  },
  {
   "cell_type": "code",
   "execution_count": 59,
   "metadata": {},
   "outputs": [],
   "source": [
    "def find_head_heights(v: list, peaks_idx: list) -> 'peak_heights':\n",
    "    \"\"\"\n",
    "    Returns the height of each peaks_idx[i]\n",
    "    Height is defined as v[i] - max(min_left, min_right)\n",
    "\n",
    "    There's no checks on `peaks_idx`!\n",
    "    \n",
    "    >>> find_head_heights([1,2,3,2,1,2,3,2,1,2,3,2,1,2,3], [2,6,10])\n",
    "    [2, 2, 2]\n",
    "    >>> find_head_heights([1,9,3,6,2,7,5], [1,3,5])\n",
    "    [6, 3, 2]\n",
    "    >>> find_head_heights([1,9,1,8], [1])\n",
    "    [8]\n",
    "    >>> find_head_heights([1], [])\n",
    "    []\n",
    "    >>> find_head_heights([1,9,3,6,2,7,5], [1,3,6])\n",
    "    Traceback (most recent call last):\n",
    "    ValueError: Height <= 0 detected at i=2, probably the input `peaks_idx` is wrong\n",
    "    \"\"\"\n",
    "    peak_heights =[float('nan') for i in peaks_idx]\n",
    "    n = len(peaks_idx)\n",
    "    for i in range(n):\n",
    "        min_left = min(v[peaks_idx[i-1] if i > 0 else 0:peaks_idx[i]])\n",
    "        min_right = min(v[peaks_idx[i]:peaks_idx[i+1] if i < n-1 else len(v)])\n",
    "        peak_heights[i] = v[peaks_idx[i]] - max(min_right, min_left)\n",
    "        if peak_heights[i] <= 0:\n",
    "            raise ValueError(f'Height <= 0 detected at i={i}, probably the input `peaks_idx` is wrong')\n",
    "    return peak_heights\n",
    "\n",
    "doctest.run_docstring_examples(find_head_heights, globals(), verbose=False)\n"
   ]
  },
  {
   "cell_type": "code",
   "execution_count": 88,
   "metadata": {},
   "outputs": [],
   "source": [
    "def detect_chain_of_heads(v, min_heights, max_heights=None, height=None) -> \"list of head's center\":\n",
    "    \"\"\" Returns that last sequence that matches min_heights & max_heights \n",
    "    \n",
    "    >>> detect_chain_of_heads([1,4,1,4,1,4], [3], height=1000)\n",
    "    [3]\n",
    "    >>> detect_chain_of_heads([1,4,1,4,1,4], [3,3], height=1000)\n",
    "    [1, 3]\n",
    "    >>> detect_chain_of_heads([1,9,1,8,1,7,1], [8, 7, 6], [9, 8, 7])\n",
    "    [1, 3, 5]\n",
    "    >>> detect_chain_of_heads([1,9,1,8,1,7,2], [8, 7, 6], [9, 8, 7])\n",
    "    []\n",
    "    \"\"\"\n",
    "    if max_heights is None:\n",
    "        if height is None:\n",
    "            raise ValueError('max_heights and height can\\'t both be None')\n",
    "        max_heights = [h + height for h in min_heights]\n",
    "    assert len(min_heights) == len(max_heights)\n",
    "    assert min(min_heights) > 0\n",
    "    if not min_heights:\n",
    "        return list()\n",
    "    \n",
    "    heads = [i[1] for i in detect_heads(v, min(min_heights))]\n",
    "    head_heights = find_head_heights(v, heads)\n",
    "    if len(heads) < len(min_heights):\n",
    "        return []\n",
    "\n",
    "    for i in range(len(heads)-1, len(min_heights) - 2, -1):\n",
    "        match = True\n",
    "        for k in range(len(min_heights)):\n",
    "            z = len(min_heights) - 1 - k\n",
    "            if not (min_heights[z] <= head_heights[i - k] <= max_heights[z]):\n",
    "                match = False\n",
    "                break\n",
    "        if match:\n",
    "            break\n",
    "    return heads[i - len(min_heights) + 1:i + 1]\n",
    "    \n",
    "doctest.run_docstring_examples(detect_chain_of_heads, globals(), verbose=False)\n"
   ]
  },
  {
   "cell_type": "markdown",
   "metadata": {},
   "source": [
    "# Test Everything"
   ]
  },
  {
   "cell_type": "code",
   "execution_count": null,
   "metadata": {},
   "outputs": [],
   "source": [
    "doctest.testmod(verbose=0)"
   ]
  },
  {
   "cell_type": "code",
   "execution_count": 89,
   "metadata": {},
   "outputs": [
    {
     "name": "stdout",
     "output_type": "stream",
     "text": [
      "hi\n",
      "hi\n",
      "hi\n"
     ]
    }
   ],
   "source": [
    "for  _ in range(3):\n",
    "    print('hi')"
   ]
  },
  {
   "cell_type": "code",
   "execution_count": 92,
   "metadata": {},
   "outputs": [
    {
     "ename": "SyntaxError",
     "evalue": "invalid syntax (<ipython-input-92-346f79d19bac>, line 2)",
     "output_type": "error",
     "traceback": [
      "\u001b[0;36m  File \u001b[0;32m\"<ipython-input-92-346f79d19bac>\"\u001b[0;36m, line \u001b[0;32m2\u001b[0m\n\u001b[0;31m    while k-=1 > 0:\u001b[0m\n\u001b[0m            ^\u001b[0m\n\u001b[0;31mSyntaxError\u001b[0m\u001b[0;31m:\u001b[0m invalid syntax\n"
     ]
    }
   ],
   "source": [
    "k = 3\n",
    "while k-=1 > 0:\n",
    "    print('k')"
   ]
  },
  {
   "cell_type": "code",
   "execution_count": null,
   "metadata": {},
   "outputs": [],
   "source": []
  }
 ],
 "metadata": {
  "kernelspec": {
   "display_name": "Python 3",
   "language": "python",
   "name": "python3"
  },
  "language_info": {
   "codemirror_mode": {
    "name": "ipython",
    "version": 3
   },
   "file_extension": ".py",
   "mimetype": "text/x-python",
   "name": "python",
   "nbconvert_exporter": "python",
   "pygments_lexer": "ipython3",
   "version": "3.6.8"
  }
 },
 "nbformat": 4,
 "nbformat_minor": 2
}
