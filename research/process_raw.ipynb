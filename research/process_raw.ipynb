{
 "cells": [
  {
   "cell_type": "code",
   "execution_count": null,
   "metadata": {},
   "outputs": [],
   "source": [
    "import pandas as pd\n",
    "import numpy as np\n",
    "import matplotlib.pyplot as plt\n",
    "import bisect\n",
    "%matplotlib notebook\n",
    "import tensorflow"
   ]
  },
  {
   "cell_type": "code",
   "execution_count": 71,
   "metadata": {},
   "outputs": [],
   "source": [
    "INTERVAL = '10s'\n",
    "HORIZON = pd.Timedelta(INTERVAL)*30  # forecast horizon\n",
    "DATA_PATH = '/Users/felipe/bitcoin/{type}/{date}.csv.gz'\n",
    "OUTPUT = '/Users/felipe/bitcoin/data/{date}-training.csv'\n",
    "SPANS = [2, 3, 6, 15, 30, 60]"
   ]
  },
  {
   "cell_type": "code",
   "execution_count": 60,
   "metadata": {},
   "outputs": [],
   "source": [
    "FOR_DATE = '20190515'"
   ]
  },
  {
   "cell_type": "code",
   "execution_count": 66,
   "metadata": {},
   "outputs": [],
   "source": [
    "def read_trades(date):\n",
    "    date = str(date)\n",
    "    path = DATA_PATH.format(type='trades', date=date)\n",
    "    t = pd.read_csv(path,\n",
    "                    index_col='timestamp',\n",
    "                    parse_dates=True,\n",
    "                    infer_datetime_format=True,\n",
    "                    usecols=['timestamp', 'symbol', 'price', 'side', 'size'])\n",
    "    t.index.name = 'time'\n",
    "    t = t[(t.symbol == 'XBTUSD') & (t.price > 1)]\n",
    "    t = t.dropna()\n",
    "    t.drop(columns={'symbol'}, inplace=True)\n",
    "    t = t[['price', 'side', 'size']]\n",
    "    return t\n",
    "\n",
    "def read_quotes(date):\n",
    "    date = str(date)\n",
    "    path = DATA_PATH.format(type='quotes', date=date)\n",
    "    t = pd.read_csv(path,\n",
    "                    index_col='timestamp',\n",
    "                    parse_dates=True,\n",
    "                    infer_datetime_format=True,\n",
    "                    usecols=['timestamp', 'symbol', 'bidPrice', 'askPrice', 'bidSize', 'askSize'])\n",
    "    t.index.name = 'time'\n",
    "    t = t[(t.symbol == 'XBTUSD') & (t.bidPrice > 1) & (t.askPrice > 1) & (t.bidPrice < t.askPrice)]\n",
    "    t = t.dropna()\n",
    "    t.drop(columns={'symbol'}, inplace=True)\n",
    "    t = t[['bidPrice', 'askPrice', 'bidSize', 'askSize']]\n",
    "    return t"
   ]
  },
  {
   "cell_type": "code",
   "execution_count": 67,
   "metadata": {},
   "outputs": [],
   "source": [
    "def ema(df, spans, columns):\n",
    "    \"\"\" computes ewm for each column, for each span in spans\"\"\"\n",
    "    dfs = [df]\n",
    "    for span in spans:\n",
    "        cols = {i: 'E{}{}'.format(span, i) for i in columns}\n",
    "        dfs.append(df[columns].ewm(span=span).mean().rename(columns=cols))\n",
    "    return pd.concat(dfs, axis=1)"
   ]
  },
  {
   "cell_type": "code",
   "execution_count": 68,
   "metadata": {},
   "outputs": [],
   "source": [
    "# cols 'symbol', 'side', 'price', 'size', 'tickDirection'\n",
    "t = read_trades(FOR_DATE)"
   ]
  },
  {
   "cell_type": "code",
   "execution_count": null,
   "metadata": {},
   "outputs": [],
   "source": [
    "t.loc[t.side == 'Sell', 'size'] *= -1\n",
    "t.rename(columns={'size': 'boughtSum'}, inplace=True)\n",
    "t['soldSum'] = t['boughtSum']\n",
    "t = t[['boughtSum', 'soldSum']]\n",
    "t['boughtSum'].clip_lower(0, inplace=True)\n",
    "t['soldSum'].clip_upper(0, inplace=True)\n",
    "t['soldSum'] *= -1\n",
    "t = t.resample(INTERVAL).agg('sum').fillna(method='ffill')\n",
    "t = t[['boughtSum', 'soldSum']]"
   ]
  },
  {
   "cell_type": "code",
   "execution_count": null,
   "metadata": {},
   "outputs": [],
   "source": [
    "t.head()"
   ]
  },
  {
   "cell_type": "code",
   "execution_count": null,
   "metadata": {},
   "outputs": [],
   "source": [
    "len(t)"
   ]
  },
  {
   "cell_type": "code",
   "execution_count": null,
   "metadata": {},
   "outputs": [],
   "source": [
    "q = read_timeseries(filename=QUOTES_PATH,\n",
    "                    cols=['bidPrice', 'askPrice', 'bidSize', 'askSize'])\n",
    "q = q[['bidPrice', 'askPrice', 'bidSize', 'askSize']]"
   ]
  },
  {
   "cell_type": "code",
   "execution_count": null,
   "metadata": {},
   "outputs": [],
   "source": [
    "def add_fcst(q, horizon=HORIZON):\n",
    "    with pd.option_context('mode.chained_assignment', None):\n",
    "        bidMax = q['bidPrice'].rolling(horizon).max()\n",
    "        askMin = q['askPrice'].rolling(horizon).min()\n",
    "        q['longPnl'] = bidMax - q['askPrice']\n",
    "        q['shortPnl'] = q['bidPrice'] - askMin\n",
    "    return q\n",
    "\n",
    "add_fcst(q)"
   ]
  },
  {
   "cell_type": "code",
   "execution_count": null,
   "metadata": {},
   "outputs": [],
   "source": []
  },
  {
   "cell_type": "code",
   "execution_count": null,
   "metadata": {},
   "outputs": [],
   "source": [
    "q['spread'] = (q['askPrice'] - q['bidPrice']) / 0.5  # in Tick unit\n",
    "q = q.resample(INTERVAL).agg('mean').fillna(method='ffill')\n",
    "q.rename(columns={c: c+'Avg' for c in q.columns}, inplace=True)"
   ]
  },
  {
   "cell_type": "code",
   "execution_count": null,
   "metadata": {},
   "outputs": [],
   "source": [
    "q.head()"
   ]
  },
  {
   "cell_type": "code",
   "execution_count": null,
   "metadata": {},
   "outputs": [],
   "source": [
    "len(q)"
   ]
  },
  {
   "cell_type": "code",
   "execution_count": null,
   "metadata": {},
   "outputs": [],
   "source": [
    "df = pd.concat([t, q], axis=1)\n",
    "Y_cols = ['longPnlAvg', 'shortPnlAvg']\n",
    "X_cols = ['boughtSum', 'soldSum', 'bidPriceAvg', 'askPriceAvg', 'bidSizeAvg', 'askSizeAvg', 'spreadAvg']\n",
    "df = df[Y_cols + X_cols]"
   ]
  },
  {
   "cell_type": "code",
   "execution_count": null,
   "metadata": {},
   "outputs": [],
   "source": [
    "len(df)"
   ]
  },
  {
   "cell_type": "code",
   "execution_count": null,
   "metadata": {},
   "outputs": [],
   "source": [
    "spans = [2, 3, 6, 15, 30, 60]"
   ]
  },
  {
   "cell_type": "code",
   "execution_count": null,
   "metadata": {},
   "outputs": [],
   "source": [
    "df = ema(df, spans, X_cols)"
   ]
  },
  {
   "cell_type": "code",
   "execution_count": null,
   "metadata": {},
   "outputs": [],
   "source": [
    "df.head()"
   ]
  },
  {
   "cell_type": "code",
   "execution_count": 72,
   "metadata": {},
   "outputs": [
    {
     "ename": "NameError",
     "evalue": "name 'df' is not defined",
     "traceback": [
      "\u001b[0;31m---------------------------------------------------------------------------\u001b[0m",
      "\u001b[0;31mNameError\u001b[0m                                 Traceback (most recent call last)",
      "\u001b[0;32m<ipython-input-72-00d1f155941f>\u001b[0m in \u001b[0;36m<module>\u001b[0;34m()\u001b[0m\n\u001b[0;32m----> 1\u001b[0;31m \u001b[0mdf\u001b[0m\u001b[0;34m.\u001b[0m\u001b[0mto_csv\u001b[0m\u001b[0;34m(\u001b[0m\u001b[0mOUTPUT\u001b[0m\u001b[0;34m.\u001b[0m\u001b[0mformat\u001b[0m\u001b[0;34m(\u001b[0m\u001b[0mdate\u001b[0m\u001b[0;34m=\u001b[0m\u001b[0mFOR_DATE\u001b[0m\u001b[0;34m)\u001b[0m\u001b[0;34m)\u001b[0m\u001b[0;34m\u001b[0m\u001b[0;34m\u001b[0m\u001b[0m\n\u001b[0m",
      "\u001b[0;31mNameError\u001b[0m: name 'df' is not defined"
     ],
     "output_type": "error"
    }
   ],
   "source": [
    "df.to_csv(OUTPUT.format(date=FOR_DATE))"
   ]
  },
  {
   "cell_type": "code",
   "execution_count": null,
   "metadata": {},
   "outputs": [],
   "source": [
    "len(df)"
   ]
  }
 ],
 "metadata": {
  "kernelspec": {
   "display_name": "Python 3",
   "language": "python",
   "name": "python3"
  },
  "language_info": {
   "codemirror_mode": {
    "name": "ipython",
    "version": 3
   },
   "file_extension": ".py",
   "mimetype": "text/x-python",
   "name": "python",
   "nbconvert_exporter": "python",
   "pygments_lexer": "ipython3",
   "version": "3.6.8"
  }
 },
 "nbformat": 4,
 "nbformat_minor": 2
}
