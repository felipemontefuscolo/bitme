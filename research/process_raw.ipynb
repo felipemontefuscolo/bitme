{
 "cells": [
  {
   "cell_type": "code",
   "execution_count": null,
   "metadata": {},
   "outputs": [],
   "source": [
    "import pandas as pd\n",
    "import numpy as np\n",
    "import matplotlib.pyplot as plt\n",
    "import bisect\n",
    "%matplotlib notebook\n",
    "import tensorflow"
   ]
  },
  {
   "cell_type": "code",
   "execution_count": 71,
   "metadata": {},
   "outputs": [],
   "source": [
    "INTERVAL = '10s'\n",
    "HORIZON = pd.Timedelta(INTERVAL)*30  # forecast horizon\n",
    "DATA_PATH = '/Users/felipe/bitcoin/{type}/{date}.csv.gz'\n",
    "OUTPUT = '/Users/felipe/bitcoin/data/{date}-training.csv'\n",
    "SPANS = [2, 3, 6, 15, 30, 60]  # inverval units"
   ]
  },
  {
   "cell_type": "code",
   "execution_count": 60,
   "metadata": {},
   "outputs": [],
   "source": [
    "FOR_DATE = '20190515'"
   ]
  },
  {
   "cell_type": "code",
   "execution_count": 66,
   "metadata": {},
   "outputs": [],
   "source": [
    "def read_trades(date):\n",
    "    date = str(date)\n",
    "    path = DATA_PATH.format(type='trades', date=date)\n",
    "    t = pd.read_csv(path,\n",
    "                    index_col='timestamp',\n",
    "                    parse_dates=True,\n",
    "                    infer_datetime_format=True,\n",
    "                    usecols=['timestamp', 'symbol', 'price', 'side', 'size'])\n",
    "    t.index.name = 'time'\n",
    "    t = t[(t.symbol == 'XBTUSD') & (t.price > 1)]\n",
    "    t = t.dropna()\n",
    "    t.drop(columns={'symbol'}, inplace=True)\n",
    "    t = t[['price', 'side', 'size']]\n",
    "    return t\n",
    "\n",
    "def read_quotes(date):\n",
    "    date = str(date)\n",
    "    path = DATA_PATH.format(type='quotes', date=date)\n",
    "    t = pd.read_csv(path,\n",
    "                    index_col='timestamp',\n",
    "                    parse_dates=True,\n",
    "                    infer_datetime_format=True,\n",
    "                    usecols=['timestamp', 'symbol', 'bidPrice', 'askPrice', 'bidSize', 'askSize'])\n",
    "    t.index.name = 'time'\n",
    "    t = t[(t.symbol == 'XBTUSD') & (t.bidPrice > 1) & (t.askPrice > 1) & (t.bidPrice < t.askPrice)]\n",
    "    t = t.dropna()\n",
    "    t.drop(columns={'symbol'}, inplace=True)\n",
    "    t = t[['bidPrice', 'askPrice', 'bidSize', 'askSize']]\n",
    "    return t"
   ]
  },
  {
   "cell_type": "code",
   "execution_count": 67,
   "metadata": {},
   "outputs": [],
   "source": [
    "def ema(df, spans, columns):\n",
    "    \"\"\" computes ewm for each column, for each span in spans\"\"\"\n",
    "    dfs = [df]\n",
    "    for span in spans:\n",
    "        cols = {i: f'E{span}{i}' for i in columns}\n",
    "        dfs.append(df[columns].ewm(span=span).mean().rename(columns=cols))\n",
    "    return pd.concat(dfs, axis=1)"
   ]
  },
  {
   "cell_type": "code",
   "execution_count": 68,
   "metadata": {},
   "outputs": [],
   "source": [
    "# cols 'symbol', 'side', 'price', 'size', 'tickDirection'\n",
    "t = read_trades(FOR_DATE)"
   ]
  },
  {
   "cell_type": "code",
   "execution_count": null,
   "metadata": {},
   "outputs": [],
   "source": [
    "t.loc[t.side == 'Sell', 'size'] *= -1\n",
    "t.rename(columns={'size': 'boughtSum'}, inplace=True)\n",
    "t['soldSum'] = t['boughtSum']\n",
    "t = t[['boughtSum', 'soldSum']]\n",
    "t['boughtSum'].clip_lower(0, inplace=True)\n",
    "t['soldSum'].clip_upper(0, inplace=True)\n",
    "t['soldSum'] *= -1\n",
    "t = t.resample(INTERVAL).agg('sum').fillna(method='ffill')\n",
    "t = t[['boughtSum', 'soldSum']]"
   ]
  },
  {
   "cell_type": "code",
   "execution_count": null,
   "metadata": {},
   "outputs": [],
   "source": [
    "t.head()"
   ]
  },
  {
   "cell_type": "code",
   "execution_count": null,
   "metadata": {},
   "outputs": [],
   "source": [
    "len(t)"
   ]
  },
  {
   "cell_type": "code",
   "execution_count": null,
   "metadata": {},
   "outputs": [],
   "source": [
    "q = read_timeseries(filename=QUOTES_PATH,\n",
    "                    cols=['bidPrice', 'askPrice', 'bidSize', 'askSize'])\n",
    "q = q[['bidPrice', 'askPrice', 'bidSize', 'askSize']]"
   ]
  },
  {
   "cell_type": "code",
   "execution_count": null,
   "metadata": {},
   "outputs": [],
   "source": [
    "def add_fcst(q, horizon=HORIZON):\n",
    "    with pd.option_context('mode.chained_assignment', None):\n",
    "        bidMax = q['bidPrice'].rolling(horizon).max()\n",
    "        askMin = q['askPrice'].rolling(horizon).min()\n",
    "        q['longPnl'] = bidMax - q['askPrice']\n",
    "        q['shortPnl'] = q['bidPrice'] - askMin\n",
    "    return q\n",
    "\n",
    "add_fcst(q)"
   ]
  },
  {
   "cell_type": "code",
   "execution_count": null,
   "metadata": {},
   "outputs": [],
   "source": []
  },
  {
   "cell_type": "code",
   "execution_count": null,
   "metadata": {},
   "outputs": [],
   "source": [
    "q['spread'] = (q['askPrice'] - q['bidPrice']) / 0.5  # in Tick unit\n",
    "q = q.resample(INTERVAL).agg('mean').fillna(method='ffill')\n",
    "q.rename(columns={c: c+'Avg' for c in q.columns}, inplace=True)"
   ]
  },
  {
   "cell_type": "code",
   "execution_count": null,
   "metadata": {},
   "outputs": [],
   "source": [
    "q.head()"
   ]
  },
  {
   "cell_type": "code",
   "execution_count": null,
   "metadata": {},
   "outputs": [],
   "source": [
    "len(q)"
   ]
  },
  {
   "cell_type": "code",
   "execution_count": null,
   "metadata": {},
   "outputs": [],
   "source": [
    "df = pd.concat([t, q], axis=1)\n",
    "Y_cols = ['longPnlAvg', 'shortPnlAvg']\n",
    "X_cols = ['boughtSum', 'soldSum', 'bidPriceAvg', 'askPriceAvg', 'bidSizeAvg', 'askSizeAvg', 'spreadAvg']\n",
    "df = df[Y_cols + X_cols]"
   ]
  },
  {
   "cell_type": "code",
   "execution_count": null,
   "metadata": {},
   "outputs": [],
   "source": [
    "len(df)"
   ]
  },
  {
   "cell_type": "code",
   "execution_count": null,
   "metadata": {},
   "outputs": [],
   "source": [
    "spans = [2, 3, 6, 15, 30, 60]"
   ]
  },
  {
   "cell_type": "code",
   "execution_count": null,
   "metadata": {},
   "outputs": [],
   "source": [
    "df = ema(df, spans, X_cols)"
   ]
  },
  {
   "cell_type": "code",
   "execution_count": null,
   "metadata": {},
   "outputs": [],
   "source": [
    "df.head()"
   ]
  },
  {
   "cell_type": "code",
   "execution_count": 72,
   "metadata": {},
   "outputs": [
    {
     "ename": "NameError",
     "evalue": "name 'df' is not defined",
     "output_type": "error",
     "traceback": [
      "\u001b[0;31m---------------------------------------------------------------------------\u001b[0m",
      "\u001b[0;31mNameError\u001b[0m                                 Traceback (most recent call last)",
      "\u001b[0;32m<ipython-input-72-00d1f155941f>\u001b[0m in \u001b[0;36m<module>\u001b[0;34m()\u001b[0m\n\u001b[0;32m----> 1\u001b[0;31m \u001b[0mdf\u001b[0m\u001b[0;34m.\u001b[0m\u001b[0mto_csv\u001b[0m\u001b[0;34m(\u001b[0m\u001b[0mOUTPUT\u001b[0m\u001b[0;34m.\u001b[0m\u001b[0mformat\u001b[0m\u001b[0;34m(\u001b[0m\u001b[0mdate\u001b[0m\u001b[0;34m=\u001b[0m\u001b[0mFOR_DATE\u001b[0m\u001b[0;34m)\u001b[0m\u001b[0;34m)\u001b[0m\u001b[0;34m\u001b[0m\u001b[0;34m\u001b[0m\u001b[0m\n\u001b[0m",
      "\u001b[0;31mNameError\u001b[0m: name 'df' is not defined"
     ]
    }
   ],
   "source": [
    "df.to_csv(OUTPUT.format(date=FOR_DATE))"
   ]
  },
  {
   "cell_type": "code",
   "execution_count": null,
   "metadata": {},
   "outputs": [],
   "source": [
    "len(df)"
   ]
  },
  {
   "cell_type": "code",
   "execution_count": 1,
   "metadata": {},
   "outputs": [],
   "source": [
    "import pandas as pd"
   ]
  },
  {
   "cell_type": "code",
   "execution_count": 6,
   "metadata": {},
   "outputs": [
    {
     "data": {
      "text/plain": [
       "\u001b[0;31mSignature:\u001b[0m \u001b[0mpd\u001b[0m\u001b[0;34m.\u001b[0m\u001b[0mDataFrame\u001b[0m\u001b[0;34m.\u001b[0m\u001b[0mrolling\u001b[0m\u001b[0;34m(\u001b[0m\u001b[0mself\u001b[0m\u001b[0;34m,\u001b[0m \u001b[0mwindow\u001b[0m\u001b[0;34m,\u001b[0m \u001b[0mmin_periods\u001b[0m\u001b[0;34m=\u001b[0m\u001b[0;32mNone\u001b[0m\u001b[0;34m,\u001b[0m \u001b[0mfreq\u001b[0m\u001b[0;34m=\u001b[0m\u001b[0;32mNone\u001b[0m\u001b[0;34m,\u001b[0m \u001b[0mcenter\u001b[0m\u001b[0;34m=\u001b[0m\u001b[0;32mFalse\u001b[0m\u001b[0;34m,\u001b[0m \u001b[0mwin_type\u001b[0m\u001b[0;34m=\u001b[0m\u001b[0;32mNone\u001b[0m\u001b[0;34m,\u001b[0m \u001b[0mon\u001b[0m\u001b[0;34m=\u001b[0m\u001b[0;32mNone\u001b[0m\u001b[0;34m,\u001b[0m \u001b[0maxis\u001b[0m\u001b[0;34m=\u001b[0m\u001b[0;36m0\u001b[0m\u001b[0;34m,\u001b[0m \u001b[0mclosed\u001b[0m\u001b[0;34m=\u001b[0m\u001b[0;32mNone\u001b[0m\u001b[0;34m)\u001b[0m\u001b[0;34m\u001b[0m\u001b[0;34m\u001b[0m\u001b[0m\n",
       "\u001b[0;31mDocstring:\u001b[0m\n",
       "Provides rolling window calculations.\n",
       "\n",
       ".. versionadded:: 0.18.0\n",
       "\n",
       "Parameters\n",
       "----------\n",
       "window : int, or offset\n",
       "    Size of the moving window. This is the number of observations used for\n",
       "    calculating the statistic. Each window will be a fixed size.\n",
       "\n",
       "    If its an offset then this will be the time period of each window. Each\n",
       "    window will be a variable sized based on the observations included in\n",
       "    the time-period. This is only valid for datetimelike indexes. This is\n",
       "    new in 0.19.0\n",
       "min_periods : int, default None\n",
       "    Minimum number of observations in window required to have a value\n",
       "    (otherwise result is NA). For a window that is specified by an offset,\n",
       "    this will default to 1.\n",
       "freq : string or DateOffset object, optional (default None)\n",
       "    .. deprecated:: 0.18.0\n",
       "       Frequency to conform the data to before computing the statistic.\n",
       "       Specified as a frequency string or DateOffset object.\n",
       "center : boolean, default False\n",
       "    Set the labels at the center of the window.\n",
       "win_type : string, default None\n",
       "    Provide a window type. See the notes below.\n",
       "on : string, optional\n",
       "    For a DataFrame, column on which to calculate\n",
       "    the rolling window, rather than the index\n",
       "closed : string, default None\n",
       "    Make the interval closed on the 'right', 'left', 'both' or\n",
       "    'neither' endpoints.\n",
       "    For offset-based windows, it defaults to 'right'.\n",
       "    For fixed windows, defaults to 'both'. Remaining cases not implemented\n",
       "    for fixed windows.\n",
       "\n",
       "    .. versionadded:: 0.20.0\n",
       "\n",
       "axis : int or string, default 0\n",
       "\n",
       "Returns\n",
       "-------\n",
       "a Window or Rolling sub-classed for the particular operation\n",
       "\n",
       "Examples\n",
       "--------\n",
       "\n",
       ">>> df = pd.DataFrame({'B': [0, 1, 2, np.nan, 4]})\n",
       ">>> df\n",
       "     B\n",
       "0  0.0\n",
       "1  1.0\n",
       "2  2.0\n",
       "3  NaN\n",
       "4  4.0\n",
       "\n",
       "Rolling sum with a window length of 2, using the 'triang'\n",
       "window type.\n",
       "\n",
       ">>> df.rolling(2, win_type='triang').sum()\n",
       "     B\n",
       "0  NaN\n",
       "1  1.0\n",
       "2  2.5\n",
       "3  NaN\n",
       "4  NaN\n",
       "\n",
       "Rolling sum with a window length of 2, min_periods defaults\n",
       "to the window length.\n",
       "\n",
       ">>> df.rolling(2).sum()\n",
       "     B\n",
       "0  NaN\n",
       "1  1.0\n",
       "2  3.0\n",
       "3  NaN\n",
       "4  NaN\n",
       "\n",
       "Same as above, but explicity set the min_periods\n",
       "\n",
       ">>> df.rolling(2, min_periods=1).sum()\n",
       "     B\n",
       "0  0.0\n",
       "1  1.0\n",
       "2  3.0\n",
       "3  2.0\n",
       "4  4.0\n",
       "\n",
       "A ragged (meaning not-a-regular frequency), time-indexed DataFrame\n",
       "\n",
       ">>> df = pd.DataFrame({'B': [0, 1, 2, np.nan, 4]},\n",
       "....:                 index = [pd.Timestamp('20130101 09:00:00'),\n",
       "....:                          pd.Timestamp('20130101 09:00:02'),\n",
       "....:                          pd.Timestamp('20130101 09:00:03'),\n",
       "....:                          pd.Timestamp('20130101 09:00:05'),\n",
       "....:                          pd.Timestamp('20130101 09:00:06')])\n",
       "\n",
       ">>> df\n",
       "                       B\n",
       "2013-01-01 09:00:00  0.0\n",
       "2013-01-01 09:00:02  1.0\n",
       "2013-01-01 09:00:03  2.0\n",
       "2013-01-01 09:00:05  NaN\n",
       "2013-01-01 09:00:06  4.0\n",
       "\n",
       "\n",
       "Contrasting to an integer rolling window, this will roll a variable\n",
       "length window corresponding to the time period.\n",
       "The default for min_periods is 1.\n",
       "\n",
       ">>> df.rolling('2s').sum()\n",
       "                       B\n",
       "2013-01-01 09:00:00  0.0\n",
       "2013-01-01 09:00:02  1.0\n",
       "2013-01-01 09:00:03  3.0\n",
       "2013-01-01 09:00:05  NaN\n",
       "2013-01-01 09:00:06  4.0\n",
       "\n",
       "Notes\n",
       "-----\n",
       "By default, the result is set to the right edge of the window. This can be\n",
       "changed to the center of the window by setting ``center=True``.\n",
       "\n",
       "The `freq` keyword is used to conform time series data to a specified\n",
       "frequency by resampling the data. This is done with the default parameters\n",
       "of :meth:`~pandas.Series.resample` (i.e. using the `mean`).\n",
       "\n",
       "To learn more about the offsets & frequency strings, please see `this link\n",
       "<http://pandas.pydata.org/pandas-docs/stable/timeseries.html#offset-aliases>`__.\n",
       "\n",
       "The recognized win_types are:\n",
       "\n",
       "* ``boxcar``\n",
       "* ``triang``\n",
       "* ``blackman``\n",
       "* ``hamming``\n",
       "* ``bartlett``\n",
       "* ``parzen``\n",
       "* ``bohman``\n",
       "* ``blackmanharris``\n",
       "* ``nuttall``\n",
       "* ``barthann``\n",
       "* ``kaiser`` (needs beta)\n",
       "* ``gaussian`` (needs std)\n",
       "* ``general_gaussian`` (needs power, width)\n",
       "* ``slepian`` (needs width).\n",
       "\n",
       "If ``win_type=None`` all points are evenly weighted. To learn more about\n",
       "different window types see `scipy.signal window functions\n",
       "<https://docs.scipy.org/doc/scipy/reference/signal.html#window-functions>`__.\n",
       "\u001b[0;31mFile:\u001b[0m      ~/anaconda3/lib/python3.6/site-packages/pandas/core/generic.py\n",
       "\u001b[0;31mType:\u001b[0m      function\n"
      ]
     },
     "metadata": {},
     "output_type": "display_data"
    }
   ],
   "source": [
    "%pinfo pd.DataFrame.rolling"
   ]
  },
  {
   "cell_type": "code",
   "execution_count": null,
   "metadata": {},
   "outputs": [],
   "source": []
  }
 ],
 "metadata": {
  "kernelspec": {
   "display_name": "Python 3",
   "language": "python",
   "name": "python3"
  },
  "language_info": {
   "codemirror_mode": {
    "name": "ipython",
    "version": 3
   },
   "file_extension": ".py",
   "mimetype": "text/x-python",
   "name": "python",
   "nbconvert_exporter": "python",
   "pygments_lexer": "ipython3",
   "version": "3.6.8"
  }
 },
 "nbformat": 4,
 "nbformat_minor": 2
}
