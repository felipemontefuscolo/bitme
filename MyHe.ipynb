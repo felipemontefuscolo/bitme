{
 "cells": [
  {
   "cell_type": "code",
   "execution_count": 19,
   "metadata": {},
   "outputs": [],
   "source": [
    "import numpy as np\n",
    "import pandas as pd\n",
    "import math\n",
    "import sys, os\n",
    "import matplotlib.pyplot as plt\n",
    "%matplotlib inline"
   ]
  },
  {
   "cell_type": "code",
   "execution_count": 45,
   "metadata": {},
   "outputs": [],
   "source": [
    "class Book:\n",
    "    max_price = 20\n",
    "    qties = np.array([0]*max_price)\n",
    "    def __init__(self, p=10, s=0):\n",
    "        self.qties[0:p-s] = 1\n",
    "        self.qties[p+s+1:] = 1\n",
    "        self.bid_idx = p - s -1\n",
    "        self.ask_idx = p + s + 1\n",
    "\n",
    "    def plot(self, time, ax=None):\n",
    "        if ax is None:\n",
    "            y = np.arange(len(self.qties))[self.qties != 0]\n",
    "            x = [time] * len(y)\n",
    "            plt.plot(x,y, 'rs')\n",
    "    \n",
    "    def bid(self):\n",
    "        return self.qties[self.bid_idx]\n",
    "    \n",
    "    def ask(self):\n",
    "        return self.qties[self.ask_idx]\n",
    "    \n",
    "    def buy(self, qty):\n",
    "        while qty > 0:\n",
    "            qty -= min(qty, self.qties[self.ask_idx])\n",
    "            self.qties[self.ask_idx] -= qty\n",
    "            if self.qties[self.ask_idx] == 0:\n",
    "                self.ask_idx += 1\n",
    "    \n",
    "    def sell(self, qty):\n",
    "        while qty > 0:\n",
    "            qty -= min(qty, self.qties[self.bid_idx])\n",
    "            self.qties[self.bid_idx] -= qty\n",
    "            if self.qties[self.bid_idx] == 0:\n",
    "                self.bid_idx -= 1\n",
    "        \n",
    "    \n",
    "class Taker:\n",
    "    def __init__(self, fcst, s):\n",
    "        self.fcst = fcst\n",
    "        self.s = s\n",
    "\n",
    "class Maker:\n",
    "    def __init__(self):\n",
    "        pass"
   ]
  },
  {
   "cell_type": "code",
   "execution_count": 57,
   "metadata": {},
   "outputs": [],
   "source": []
  },
  {
   "cell_type": "code",
   "execution_count": 63,
   "metadata": {},
   "outputs": [
    {
     "name": "stdout",
     "output_type": "stream",
     "text": [
      "11\n"
     ]
    },
    {
     "data": {
      "image/png": "[encoded data removed]",
      "text/plain": [
       "<matplotlib.figure.Figure at 0x119cc81d0>"
      ]
     },
     "metadata": {},
     "output_type": "display_data"
    }
   ],
   "source": [
    "b = Book()\n",
    "print(b.ask_idx)\n",
    "b.buy(1)\n",
    "b.plot(0)"
   ]
  },
  {
   "cell_type": "code",
   "execution_count": 62,
   "metadata": {},
   "outputs": [
    {
     "data": {
      "text/plain": [
       "11"
      ]
     },
     "execution_count": 62,
     "metadata": {},
     "output_type": "execute_result"
    }
   ],
   "source": [
    "b.ask_idx"
   ]
  },
  {
   "cell_type": "code",
   "execution_count": null,
   "metadata": {},
   "outputs": [],
   "source": []
  }
 ],
 "metadata": {
  "kernelspec": {
   "display_name": "Python 3",
   "language": "python",
   "name": "python3"
  },
  "language_info": {
   "codemirror_mode": {
    "name": "ipython",
    "version": 3
   },
   "file_extension": ".py",
   "mimetype": "text/x-python",
   "name": "python",
   "nbconvert_exporter": "python",
   "pygments_lexer": "ipython3",
   "version": "3.6.4"
  }
 },
 "nbformat": 4,
 "nbformat_minor": 2
}
