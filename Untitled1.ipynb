{
 "cells": [
  {
   "cell_type": "code",
   "execution_count": null,
   "metadata": {},
   "outputs": [],
   "source": [
    "df = read_data('/Users/felipe/bitme/data/bitmex_1day.csv')\n",
    "df.reset_index('time', inplace=True)\n",
    "df.head()"
   ]
  },
  {
   "cell_type": "code",
   "execution_count": null,
   "metadata": {},
   "outputs": [],
   "source": [
    "fills = read_data('/Users/felipe/bitme/output/fills.csv')\n",
    "pnls = read_data('/Users/felipe/bitme/output/pnl.csv')\n",
    "buys = fills.loc[fills['side'] == 'buy'][['price']]\n",
    "sells = fills.loc[fills['side'] == 'sell'][['price']]\n",
    "liqs = fills.loc[fills['order_type'] == 'market'][['price']]\n",
    "pnls[['cum_pnl']]"
   ]
  },
  {
   "cell_type": "code",
   "execution_count": null,
   "metadata": {},
   "outputs": [],
   "source": [
    "import plotly.plotly as py\n",
    "import plotly.graph_objs as go\n",
    "from plotly.offline import download_plotlyjs, init_notebook_mode, plot, iplot\n",
    "import plotly.offline as offline\n",
    "\n",
    "offline.init_notebook_mode(connected=True)\n",
    "from datetime import datetime\n",
    "import pandas as pd\n",
    "\n",
    "def parse(s):\n",
    "    #return datetime.strptime(s, '%Y-%m-%d %H:%M:%S')\n",
    "    return pd.Timestamp(s)\n",
    "\n",
    "trace = go.Candlestick(x=df.time,\n",
    "                open=df.open,\n",
    "                high=df.high,\n",
    "                low=df.low,\n",
    "                close=df.close,\n",
    "                      name='ohlc')\n",
    "\n",
    "trace2 = go.Scatter(\n",
    "    x = buys.index,\n",
    "    y = buys['price'],\n",
    "    name = 'Buy',\n",
    "    mode = 'markers',\n",
    "    marker = dict(\n",
    "        size = 10,\n",
    "        color = 'rgba(182, 255, 193, .9)',\n",
    "        line = dict(\n",
    "            width = 2,\n",
    "        )\n",
    "    )\n",
    ")\n",
    "\n",
    "trace3 = go.Scatter(\n",
    "    x = sells.index,\n",
    "    y = sells['price'],\n",
    "    name = 'Sell',\n",
    "    mode = 'markers',\n",
    "    marker = dict(\n",
    "        size = 7,\n",
    "        color = 'rgba(255, 182, 193, .9)',\n",
    "        line = dict(\n",
    "            width = 1,\n",
    "        )\n",
    "    )\n",
    ")\n",
    "\n",
    "trace4 = go.Scatter(\n",
    "    x = pnls.index,\n",
    "    y = pnls['cum_pnl'],\n",
    "    name = 'P&L',\n",
    "    mode = 'lines+markers',\n",
    "    marker = dict(\n",
    "        size = 5,\n",
    "        color = 'rgba(193, 182, 255, .9)',\n",
    "        line = dict(\n",
    "            width = 1,\n",
    "        )\n",
    "    ),\n",
    "    yaxis='y2'\n",
    ")\n",
    "\n",
    "data = [trace, trace2, trace3, trace4]\n",
    "\n",
    "layout = go.Layout(\n",
    "    title='Double Y Axis Example',\n",
    "    yaxis=dict(\n",
    "        title='Price'\n",
    "    ),\n",
    "    yaxis2=dict(\n",
    "        title='BTC',\n",
    "        titlefont=dict(\n",
    "            color='rgb(148, 103, 189)'\n",
    "        ),\n",
    "        tickfont=dict(\n",
    "            color='rgb(148, 103, 189)'\n",
    "        ),\n",
    "        overlaying='y',\n",
    "        side='right'\n",
    "    ),\n",
    "    xaxis = dict(\n",
    "        rangeslider = dict(\n",
    "            visible = False\n",
    "        )\n",
    "    ),\n",
    "    xaxis2 = dict()\n",
    ")\n",
    "\n",
    "\n",
    "fig = go.Figure(data=data,layout=layout)\n",
    "offline.iplot(fig, filename='/Users/felipe/bitme/simple_ohlc')\n",
    "#offline.iplot(fig)#"
   ]
  },
  {
   "cell_type": "code",
   "execution_count": null,
   "metadata": {},
   "outputs": [],
   "source": [
    "offline.plot(fig, filename='/Users/felipe/bitme/simple_ohlc.html')"
   ]
  },
  {
   "cell_type": "code",
   "execution_count": null,
   "metadata": {},
   "outputs": [],
   "source": [
    "fills.head()"
   ]
  },
  {
   "cell_type": "code",
   "execution_count": null,
   "metadata": {},
   "outputs": [],
   "source": [
    "s = [{'close': 6833,\n",
    "  'foreignNotional': 641097,\n",
    "  'high': 6835.5,\n",
    "  'homeNotional': 93.81274770000002,\n",
    "  'lastSize': 500,\n",
    "  'low': 6833,\n",
    "  'open': 6835,\n",
    "  'symbol': 'XBTUSD',\n",
    "  'timestamp': '2018-06-12T11:35:00.000Z',\n",
    "  'trades': 230,\n",
    "  'turnover': 9381274770,\n",
    "  'volume': 641097,\n",
    "  'vwap': 6833.8687},\n",
    " {'close': 6831.5,\n",
    "  'foreignNotional': 879729,\n",
    "  'high': 6833.5,\n",
    "  'homeNotional': 128.77249317999997,\n",
    "  'lastSize': 20,\n",
    "  'low': 6831,\n",
    "  'open': 6833,\n",
    "  'symbol': 'XBTUSD',\n",
    "  'timestamp': '2018-06-12T11:36:00.000Z',\n",
    "  'trades': 158,\n",
    "  'turnover': 12877249318,\n",
    "  'volume': 879729,\n",
    "  'vwap': 6832.0011}]"
   ]
  },
  {
   "cell_type": "code",
   "execution_count": null,
   "metadata": {},
   "outputs": [],
   "source": [
    "a = pd.DataFrame(data=s); a = a.set_index('timestamp'); a.index \n",
    "a"
   ]
  },
  {
   "cell_type": "code",
   "execution_count": null,
   "metadata": {},
   "outputs": [],
   "source": [
    "from typing import Union\n",
    "def to_ohlcv(data: Union[pd.DataFrame, list] = None, filename=None) -> pd.DataFrame:\n",
    "\n",
    "    if filename is not None:\n",
    "        if data is not None:\n",
    "            raise ValueError(\"XOR(filename==None, data==None) should be True\")\n",
    "        data = pd.read_csv(filename)\n",
    "\n",
    "    if isinstance(data, list):\n",
    "        df = pd.DataFrame(data=data, dtype='float64')\n",
    "    else:\n",
    "        df = data\n",
    "    if 'timestamp' in df.columns:\n",
    "        df.set_index('timestamp', inplace=True)\n",
    "    elif 'time' in df.columns:\n",
    "        df.set_index('time', inplace=True)\n",
    "    df = df[['open', 'high', 'low', 'close', 'volume']]\n",
    "    df.index = pd.to_datetime(df.index)\n",
    "\n",
    "    return df"
   ]
  },
  {
   "cell_type": "code",
   "execution_count": null,
   "metadata": {},
   "outputs": [],
   "source": [
    "z = to_ohlcv(filename='/Users/felipe/bitme/data/sample2.csv')"
   ]
  },
  {
   "cell_type": "code",
   "execution_count": null,
   "metadata": {},
   "outputs": [],
   "source": [
    "z['open'][3] = 15000.0"
   ]
  },
  {
   "cell_type": "code",
   "execution_count": null,
   "metadata": {},
   "outputs": [],
   "source": [
    "z"
   ]
  },
  {
   "cell_type": "code",
   "execution_count": null,
   "metadata": {},
   "outputs": [],
   "source": [
    "df = z.copy()\n",
    "idx = df['low'] > df['open']\n",
    "c = df.copy()\n",
    "c['low'][idx] = df['open']\n",
    "df = c\n",
    "df"
   ]
  },
  {
   "cell_type": "code",
   "execution_count": null,
   "metadata": {},
   "outputs": [],
   "source": [
    "df - z"
   ]
  },
  {
   "cell_type": "code",
   "execution_count": null,
   "metadata": {},
   "outputs": [],
   "source": [
    "c['low'][idx]\n",
    "#df['open']"
   ]
  },
  {
   "cell_type": "code",
   "execution_count": null,
   "metadata": {},
   "outputs": [],
   "source": [
    "from abc import ABCMeta, abstractmethod, abstractproperty\n",
    "class B(metaclass=ABCMeta):\n",
    "    @property\n",
    "    @abstractmethod\n",
    "    def x(self):\n",
    "        pass\n",
    "\n",
    "class A:\n",
    "    def __init__(self, z=666):\n",
    "        self.x=z\n",
    "        pass\n",
    "    def ha(self):\n",
    "        self = A(123)\n",
    "    x = 1\n"
   ]
  },
  {
   "cell_type": "code",
   "execution_count": null,
   "metadata": {},
   "outputs": [],
   "source": [
    "a = A()\n",
    "#a.x = 3\n",
    "a.__dict__['x']  = 666\n",
    "a.x"
   ]
  },
  {
   "cell_type": "code",
   "execution_count": null,
   "metadata": {},
   "outputs": [],
   "source": [
    "a = A()\n",
    "a.ha()\n",
    "a.x"
   ]
  },
  {
   "cell_type": "code",
   "execution_count": null,
   "metadata": {},
   "outputs": [],
   "source": [
    "a.print()"
   ]
  },
  {
   "cell_type": "code",
   "execution_count": null,
   "metadata": {},
   "outputs": [],
   "source": [
    "import sys\n",
    "import contextlib\n",
    "@contextlib.contextmanager\n",
    "def smart_open(filename=None):\n",
    "    if filename and filename != '-':\n",
    "        fh = open(filename, 'w')\n",
    "    else:\n",
    "        fh = sys.stdout\n",
    "\n",
    "    try:\n",
    "        yield fh\n",
    "    finally:\n",
    "        if fh is not sys.stdout:\n",
    "            fh.close()"
   ]
  },
  {
   "cell_type": "code",
   "execution_count": null,
   "metadata": {},
   "outputs": [],
   "source": [
    "\n",
    "with smart_open('/Users/felipe/KICKME') as f:\n",
    "    print('hahaha', file='-') \n",
    "    "
   ]
  },
  {
   "cell_type": "code",
   "execution_count": null,
   "metadata": {},
   "outputs": [],
   "source": [
    "import argparse"
   ]
  },
  {
   "cell_type": "code",
   "execution_count": null,
   "metadata": {},
   "outputs": [],
   "source": [
    "a = argparse.ArgumentParser()"
   ]
  },
  {
   "cell_type": "code",
   "execution_count": 1,
   "metadata": {},
   "outputs": [],
   "source": [
    "def f():\n",
    "    for i in range(3):\n",
    "        yield i"
   ]
  },
  {
   "cell_type": "code",
   "execution_count": 2,
   "metadata": {},
   "outputs": [
    {
     "name": "stdout",
     "output_type": "stream",
     "text": [
      "0\n",
      "1\n",
      "2\n"
     ]
    }
   ],
   "source": [
    "for i in f():\n",
    "    print(i)"
   ]
  },
  {
   "cell_type": "code",
   "execution_count": 24,
   "metadata": {},
   "outputs": [],
   "source": [
    "initial = 7.3  # btc\n",
    "p1 = 6000\n",
    "p2l = 6123\n",
    "p2s = 6000 - 123"
   ]
  },
  {
   "cell_type": "code",
   "execution_count": 25,
   "metadata": {},
   "outputs": [],
   "source": [
    "N = initial * p1"
   ]
  },
  {
   "cell_type": "code",
   "execution_count": 26,
   "metadata": {},
   "outputs": [
    {
     "data": {
      "text/plain": [
       "0.1466438020578147"
      ]
     },
     "execution_count": 26,
     "metadata": {},
     "output_type": "execute_result"
    }
   ],
   "source": [
    "long = N*(1./ p1 - 1./p2l)\n",
    "long"
   ]
  },
  {
   "cell_type": "code",
   "execution_count": 27,
   "metadata": {},
   "outputs": [
    {
     "data": {
      "text/plain": [
       "0.15278203164880094"
      ]
     },
     "execution_count": 27,
     "metadata": {},
     "output_type": "execute_result"
    }
   ],
   "source": [
    "short_ = -N*(1./ p1 - 1./p2s)\n",
    "short_"
   ]
  },
  {
   "cell_type": "code",
   "execution_count": 28,
   "metadata": {},
   "outputs": [
    {
     "data": {
      "text/plain": [
       "(45595.8, 43800.0)"
      ]
     },
     "execution_count": 28,
     "metadata": {},
     "output_type": "execute_result"
    }
   ],
   "source": [
    "(initial + long) * p2l, (initial + short_) * p2s, "
   ]
  },
  {
   "cell_type": "code",
   "execution_count": 29,
   "metadata": {},
   "outputs": [
    {
     "data": {
      "text/plain": [
       "(897.8999999999993, 897.9000000000032)"
      ]
     },
     "execution_count": 29,
     "metadata": {},
     "output_type": "execute_result"
    }
   ],
   "source": [
    "long * p2l, short_ * p2s, "
   ]
  },
  {
   "cell_type": "code",
   "execution_count": 30,
   "metadata": {},
   "outputs": [],
   "source": [
    "# N*(1./ p1 - 1./p2l) * p2l = N*(p2l/p1 - 1)  Long\n",
    "# N*(1./ p2s - 1./p1) * p2s = N*(1 - p2s/p1)  short"
   ]
  },
  {
   "cell_type": "code",
   "execution_count": null,
   "metadata": {},
   "outputs": [],
   "source": [
    "# N*((p1 + e)/p1 - 1) = N*e/p1  Long\n",
    "# N*(1 - ((p1 - e))/p1) =   short"
   ]
  },
  {
   "cell_type": "code",
   "execution_count": null,
   "metadata": {},
   "outputs": [],
   "source": []
  }
 ],
 "metadata": {
  "kernelspec": {
   "display_name": "Python 3",
   "language": "python",
   "name": "python3"
  },
  "language_info": {
   "codemirror_mode": {
    "name": "ipython",
    "version": 3
   },
   "file_extension": ".py",
   "mimetype": "text/x-python",
   "name": "python",
   "nbconvert_exporter": "python",
   "pygments_lexer": "ipython3",
   "version": "3.6.4"
  }
 },
 "nbformat": 4,
 "nbformat_minor": 2
}
