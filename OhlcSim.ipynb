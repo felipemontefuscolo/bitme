{
 "cells": [
  {
   "cell_type": "code",
   "execution_count": 89,
   "metadata": {},
   "outputs": [],
   "source": [
    "import pandas as pd\n",
    "import numpy as np"
   ]
  },
  {
   "cell_type": "code",
   "execution_count": 90,
   "metadata": {},
   "outputs": [
    {
     "name": "stdout",
     "output_type": "stream",
     "text": [
      "XBTUSDC_1.csv     XBTUSDC_15.csv    XBTUSDC_60.csv\r\n",
      "XBTUSDC_1440.csv  XBTUSDC_5.csv     XBTUSDC_720.csv\r\n"
     ]
    }
   ],
   "source": [
    "ls data"
   ]
  },
  {
   "cell_type": "code",
   "execution_count": 91,
   "metadata": {},
   "outputs": [],
   "source": [
    "df = pd.read_csv('data/XBTUSDC_60.csv', header=None,\n",
    "                 names=['time', 'open', 'high', 'low', 'close', 'volume', 'trades'])\n",
    "df.set_index('time', inplace=True)\n",
    "df.index = pd.DatetimeIndex(df.index * 1e+9)"
   ]
  },
  {
   "cell_type": "code",
   "execution_count": 97,
   "metadata": {},
   "outputs": [
    {
     "data": {
      "text/html": [
       "<div>\n",
       "<style scoped>\n",
       "    .dataframe tbody tr th:only-of-type {\n",
       "        vertical-align: middle;\n",
       "    }\n",
       "\n",
       "    .dataframe tbody tr th {\n",
       "        vertical-align: top;\n",
       "    }\n",
       "\n",
       "    .dataframe thead th {\n",
       "        text-align: right;\n",
       "    }\n",
       "</style>\n",
       "<table border=\"1\" class=\"dataframe\">\n",
       "  <thead>\n",
       "    <tr style=\"text-align: right;\">\n",
       "      <th></th>\n",
       "      <th>open</th>\n",
       "      <th>high</th>\n",
       "      <th>low</th>\n",
       "      <th>close</th>\n",
       "      <th>volume</th>\n",
       "      <th>trades</th>\n",
       "    </tr>\n",
       "    <tr>\n",
       "      <th>time</th>\n",
       "      <th></th>\n",
       "      <th></th>\n",
       "      <th></th>\n",
       "      <th></th>\n",
       "      <th></th>\n",
       "      <th></th>\n",
       "    </tr>\n",
       "  </thead>\n",
       "  <tbody>\n",
       "    <tr>\n",
       "      <th>2020-01-08 15:00:00</th>\n",
       "      <td>8300.00</td>\n",
       "      <td>8300.00</td>\n",
       "      <td>8300.00</td>\n",
       "      <td>8300.00</td>\n",
       "      <td>0.002410</td>\n",
       "      <td>2</td>\n",
       "    </tr>\n",
       "    <tr>\n",
       "      <th>2020-01-08 16:00:00</th>\n",
       "      <td>8217.51</td>\n",
       "      <td>8217.51</td>\n",
       "      <td>8217.51</td>\n",
       "      <td>8217.51</td>\n",
       "      <td>0.012290</td>\n",
       "      <td>2</td>\n",
       "    </tr>\n",
       "    <tr>\n",
       "      <th>2020-01-08 17:00:00</th>\n",
       "      <td>7900.01</td>\n",
       "      <td>7949.99</td>\n",
       "      <td>7870.00</td>\n",
       "      <td>7949.99</td>\n",
       "      <td>0.052487</td>\n",
       "      <td>10</td>\n",
       "    </tr>\n",
       "    <tr>\n",
       "      <th>2020-01-08 18:00:00</th>\n",
       "      <td>7949.99</td>\n",
       "      <td>8000.00</td>\n",
       "      <td>7870.99</td>\n",
       "      <td>7870.99</td>\n",
       "      <td>0.038592</td>\n",
       "      <td>8</td>\n",
       "    </tr>\n",
       "    <tr>\n",
       "      <th>2020-01-08 20:00:00</th>\n",
       "      <td>7870.98</td>\n",
       "      <td>7999.99</td>\n",
       "      <td>7870.00</td>\n",
       "      <td>7999.99</td>\n",
       "      <td>0.044715</td>\n",
       "      <td>5</td>\n",
       "    </tr>\n",
       "  </tbody>\n",
       "</table>\n",
       "</div>"
      ],
      "text/plain": [
       "                        open     high      low    close    volume  trades\n",
       "time                                                                     \n",
       "2020-01-08 15:00:00  8300.00  8300.00  8300.00  8300.00  0.002410       2\n",
       "2020-01-08 16:00:00  8217.51  8217.51  8217.51  8217.51  0.012290       2\n",
       "2020-01-08 17:00:00  7900.01  7949.99  7870.00  7949.99  0.052487      10\n",
       "2020-01-08 18:00:00  7949.99  8000.00  7870.99  7870.99  0.038592       8\n",
       "2020-01-08 20:00:00  7870.98  7999.99  7870.00  7999.99  0.044715       5"
      ]
     },
     "execution_count": 97,
     "metadata": {},
     "output_type": "execute_result"
    }
   ],
   "source": [
    "df.head()"
   ]
  },
  {
   "cell_type": "code",
   "execution_count": 118,
   "metadata": {},
   "outputs": [],
   "source": [
    "class Trader1:\n",
    "    # Bollinger: https://www.investopedia.com/trading/using-bollinger-bands-to-gauge-trends/#:~:text=Using%20the%20bands%20as%20overbought,have%20deviated%20from%20the%20mean.\n",
    "    def __init__(self, n_cycles, n_devs, qty):\n",
    "        # EMA = Closing price x multiplier + EMA (previous day) x (1-multiplier)\n",
    "        # \n",
    "        # BOLU=MA(TP,n)+m∗σ[TP,n]\n",
    "        # BOLD=MA(TP,n)−m∗σ[TP,n]\n",
    "        # where:\n",
    "        # BOLU=Upper Bollinger Band\n",
    "        # BOLD=Lower Bollinger Band\n",
    "        # MA=Moving average\n",
    "        # TP (typical price)=(High+Low+Close)÷3\n",
    "        # n=Number of days in smoothing period\n",
    "        # m=Number of standard deviations\n",
    "        # σ[TP,n]=Standard Deviation over last n periods of TP\n",
    "        self.N = n_cycles\n",
    "        self.M = n_devs\n",
    "        self.qty = qty\n",
    "        self.prices = []\n",
    "        \n",
    "        self.sma = None\n",
    "        self.upper = None\n",
    "        self.lower = None\n",
    "        self.std = None\n",
    "    \n",
    "        self.position = 0\n",
    "        self.trades = []\n",
    "    \n",
    "    def update(self, cycle, ohlc: dict):\n",
    "        _, high, low, close = self._unpack(ohlc)\n",
    "        \n",
    "        price = (high + low + close) / 3.\n",
    "        \n",
    "        self.prices.append(price)\n",
    "        if len(self.prices) > self.N:\n",
    "            self.prices.pop(0)\n",
    "            \n",
    "        if len(self.prices) == self.N:\n",
    "            self.sma = np.mean(self.prices)\n",
    "            self.std = np.std(self.prices)\n",
    "            self.upper = self.sma + self.std\n",
    "            self.lower = self.sma - self.std\n",
    "    \n",
    "    def trade(self) -> float:  # return number of shares to trade\n",
    "        if len(self.prices) < self.N:\n",
    "            return None\n",
    "    \n",
    "        # buy\n",
    "        if self.prices[-1] < self.lower and self.position <= 0:\n",
    "            self.position += self.qty\n",
    "            return self.qty\n",
    "    \n",
    "        # sell\n",
    "        if self.prices[-1] > self.upper and self.position >= 0:\n",
    "            self.position -= self.qty\n",
    "            return -self.qty\n",
    "        \n",
    "    \n",
    "    @staticmethod\n",
    "    def _unpack(ohlc: dict):\n",
    "        return ohlc['open'], ohlc['high'], ohlc['low'], ohlc['close']"
   ]
  },
  {
   "cell_type": "code",
   "execution_count": 56,
   "metadata": {},
   "outputs": [],
   "source": [
    "assert all((df.high - df.low) >= 0)"
   ]
  },
  {
   "cell_type": "code",
   "execution_count": 102,
   "metadata": {},
   "outputs": [
    {
     "data": {
      "text/plain": [
       "(114.68306082114233, 172.63341179012235)"
      ]
     },
     "execution_count": 102,
     "metadata": {},
     "output_type": "execute_result"
    }
   ],
   "source": [
    "df.close.rolling(3).std().mean(), df.close.rolling(3).std().std()"
   ]
  },
  {
   "cell_type": "code",
   "execution_count": 134,
   "metadata": {},
   "outputs": [],
   "source": [
    "def trade(df, model):\n",
    "    trades = pd.DataFrame(index=df.index)\n",
    "    trades['qty'] = [0] * len(trades)\n",
    "    \n",
    "    for i, (cycle, ohlc) in enumerate(df.iterrows()):\n",
    "        model.update(cycle, ohlc)\n",
    "        qty = model.trade()\n",
    "        if qty:\n",
    "            trades.iloc[i] = qty\n",
    "    return trades\n",
    "\n",
    "def account(df, trades):\n",
    "    qty_left = trades.qty.sum()\n",
    "    last_price = df.iloc[-1].close\n",
    "    \n",
    "    pnl = qty_left * last_price + np.dot(trades.qty.values[:-1], df.close.values[1:])\n",
    "    return pnl"
   ]
  },
  {
   "cell_type": "code",
   "execution_count": 126,
   "metadata": {},
   "outputs": [],
   "source": [
    "trades = trade(df, Trader1(20, 1, 0.001))"
   ]
  },
  {
   "cell_type": "code",
   "execution_count": 131,
   "metadata": {},
   "outputs": [
    {
     "data": {
      "text/plain": [
       "755"
      ]
     },
     "execution_count": 131,
     "metadata": {},
     "output_type": "execute_result"
    }
   ],
   "source": [
    "trades[trades.qty != 0].size"
   ]
  },
  {
   "cell_type": "code",
   "execution_count": 135,
   "metadata": {},
   "outputs": [
    {
     "data": {
      "text/plain": [
       "-94.45592999999977"
      ]
     },
     "execution_count": 135,
     "metadata": {},
     "output_type": "execute_result"
    }
   ],
   "source": [
    "account(df, trades)"
   ]
  },
  {
   "cell_type": "code",
   "execution_count": null,
   "metadata": {},
   "outputs": [],
   "source": []
  }
 ],
 "metadata": {
  "kernelspec": {
   "display_name": "Python 3",
   "language": "python",
   "name": "python3"
  },
  "language_info": {
   "codemirror_mode": {
    "name": "ipython",
    "version": 3
   },
   "file_extension": ".py",
   "mimetype": "text/x-python",
   "name": "python",
   "nbconvert_exporter": "python",
   "pygments_lexer": "ipython3",
   "version": "3.7.4"
  }
 },
 "nbformat": 4,
 "nbformat_minor": 4
}
