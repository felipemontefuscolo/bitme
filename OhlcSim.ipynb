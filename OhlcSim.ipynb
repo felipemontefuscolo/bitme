{
 "cells": [
  {
   "cell_type": "markdown",
   "metadata": {},
   "source": [
    "# Imports"
   ]
  },
  {
   "cell_type": "code",
   "execution_count": 1,
   "metadata": {},
   "outputs": [
    {
     "data": {
      "text/plain": [
       "2"
      ]
     },
     "execution_count": 1,
     "metadata": {},
     "output_type": "execute_result"
    }
   ],
   "source": [
    "1+1"
   ]
  },
  {
   "cell_type": "code",
   "execution_count": 1,
   "metadata": {},
   "outputs": [
    {
     "data": {
      "text/plain": [
       "'en_US.UTF-8'"
      ]
     },
     "execution_count": 1,
     "metadata": {},
     "output_type": "execute_result"
    }
   ],
   "source": [
    "import pandas as pd\n",
    "import numpy as np\n",
    "import math\n",
    "from itertools import product\n",
    "from tqdm.notebook import tqdm, trange\n",
    "from matplotlib import pyplot as plt\n",
    "from time import sleep\n",
    "import os\n",
    "\n",
    "import matplotlib.pyplot as plt\n",
    "from matplotlib.collections import PatchCollection\n",
    "from matplotlib.patches import Rectangle\n",
    "from matplotlib.dates import date2num, num2date\n",
    "from collections import defaultdict\n",
    "from scipy import stats\n",
    "from collections import Counter\n",
    "from typing import NamedTuple, List\n",
    "from collections import deque\n",
    "\n",
    "# to print dollars\n",
    "import locale\n",
    "locale.setlocale( locale.LC_ALL, '' )"
   ]
  },
  {
   "cell_type": "code",
   "execution_count": 2,
   "metadata": {},
   "outputs": [],
   "source": [
    "df = pd.read_csv('data/XBTUSDC_1.csv', header=None,\n",
    "                 names=['time', 'open', 'high', 'low', 'close', 'volume', 'trades'])\n",
    "df.set_index('time', inplace=True)\n",
    "df.index = pd.DatetimeIndex(df.index * 1e+9)"
   ]
  },
  {
   "cell_type": "code",
   "execution_count": 3,
   "metadata": {},
   "outputs": [],
   "source": [
    "from dataclasses import dataclass\n",
    "#@dataclass\n",
    "class Score:\n",
    "    def __init__(self, freq: float, num: int, predictor: list, response: int, apy: float=0.):\n",
    "        self.freq = round(freq, 2)\n",
    "        self.num = num\n",
    "        self.predictor = predictor\n",
    "        self.response = response\n",
    "        self.apy = round(apy, 2)\n",
    "        \n",
    "    def __repr__(self):\n",
    "        return (f'Score(apy={round(self.apy, 2)}, freq={round(self.freq, 2)}, num={self.num},'\n",
    "                f'predictor={self.predictor}, response={self.response})')\n",
    "    \n",
    "    def __lt__(self, other):\n",
    "        return (self.apy, self.freq, self.num) < (other.apy, other.freq, other.num)"
   ]
  },
  {
   "cell_type": "markdown",
   "metadata": {},
   "source": [
    "# Trader1"
   ]
  },
  {
   "cell_type": "code",
   "execution_count": 4,
   "metadata": {},
   "outputs": [],
   "source": [
    "class Trader1:\n",
    "    # Bollinger: https://www.investopedia.com/trading/using-bollinger-bands-to-gauge-trends/#:~:text=Using%20the%20bands%20as%20overbought,have%20deviated%20from%20the%20mean.\n",
    "    def __init__(self, n_cycles, n_devs, qty, take_at=0.005, fee=0.0026):\n",
    "        # qty = quantity to trade at a time\n",
    "        # EMA = Closing price x multiplier + EMA (previous day) x (1-multiplier)\n",
    "        # \n",
    "        # BOLU=MA(TP,n)+m∗σ[TP,n]\n",
    "        # BOLD=MA(TP,n)−m∗σ[TP,n]\n",
    "        # where:\n",
    "        # BOLU=Upper Bollinger Band\n",
    "        # BOLD=Lower Bollinger Band\n",
    "        # MA=Moving average\n",
    "        # TP (typical price)=(High+Low+Close)÷3\n",
    "        # n=Number of cycles in smoothing period ... n_cycles\n",
    "        # m=Number of standard deviations ... n_devs\n",
    "        # σ[TP,n]=Standard Deviation over last n periods of TP\n",
    "        #\n",
    "        # take_at = take profit at p0 * (1 + someting% + 2*fee)\n",
    "        self.N = n_cycles\n",
    "        self.M = n_devs\n",
    "        self.qty = qty\n",
    "        self.take_at = take_at\n",
    "        self.fee = fee\n",
    "        self.prices = np.array([0.] * self.N)\n",
    "        \n",
    "        self.sma = None\n",
    "        self.upper = None\n",
    "        self.lower = None\n",
    "        self.var = None\n",
    "        self.std = None\n",
    "        self.open_price = None\n",
    "        self.profit_price = None\n",
    "        self.loss_price = None\n",
    "    \n",
    "        self.position = 0\n",
    "        self.trades = []\n",
    "        \n",
    "        self.warming_up = True\n",
    "        self.i = 0\n",
    "    \n",
    "    def update(self, cycle, ohlc: dict, price):\n",
    "        _, high, low, close = self._unpack(ohlc)\n",
    "\n",
    "        last_price = self.prices[self.i]\n",
    "        self.prices[self.i] = price\n",
    "        self.i += 1\n",
    "        if self.i == len(self.prices):\n",
    "            self.i = 0\n",
    "            if self.warming_up:\n",
    "                self.warming_up = False\n",
    "                self.sma = np.mean(self.prices)\n",
    "                self.var = np.var(self.prices)\n",
    "                self.std = math.sqrt(self.var)\n",
    "                self.upper = self.sma + self.M * self.std\n",
    "                self.lower = self.sma - self.M * self.std\n",
    "                return\n",
    "\n",
    "        if not self.warming_up:\n",
    "            old_sma = self.sma\n",
    "            self.sma += (price - last_price) / self.N\n",
    "            self.var += (price - self.sma + last_price - old_sma)*(price - last_price)/(self.N)\n",
    "            self.var = self.check_var(self.var)\n",
    "            self.std = math.sqrt(self.var)\n",
    "            self.upper = self.sma + self.M * self.std\n",
    "            self.lower = self.sma - self.M * self.std\n",
    "            \n",
    "    def check(self, x):\n",
    "        if np.abs(x) > 0.01:\n",
    "            raise\n",
    "    \n",
    "    def check_var(self, var):\n",
    "        if var < 0:\n",
    "            if abs(var) >= 1.e-4:\n",
    "                raise Exception(f'var was {var}')\n",
    "            return 0.\n",
    "        return var\n",
    "    \n",
    "    def trade(self) -> float:  # return number of shares to trade\n",
    "        if self.warming_up:\n",
    "            return None\n",
    "        price = self.prices[self.i]\n",
    "        # buy\n",
    "        if price < self.lower and self.position <= 0:\n",
    "            if self.position == 0:\n",
    "                self.open_price = price\n",
    "                self.profit_price = price + self.take_at + 2*self.fee\n",
    "                self.loss_price = price - (self.take_at + 2*self.fee)\n",
    "            self.position += self.qty\n",
    "            return self.qty\n",
    "    \n",
    "        # sell\n",
    "        if price > self.upper and self.position >= 0:\n",
    "            if self.position == 0:\n",
    "                self.open_price = price\n",
    "                self.loss_price = price + self.take_at + 2*self.fee\n",
    "                self.profit_price = price - (self.take_at + 2*self.fee)\n",
    "            self.position -= self.qty\n",
    "            return -self.qty\n",
    "        \n",
    "        # profit\n",
    "        if self.position > 0:\n",
    "            if not self.loss_price <= price <= self.profit_price:\n",
    "                self.position -= self.qty\n",
    "                return -self.qty\n",
    "        elif self.position < 0:\n",
    "            if not self.profit_price <= price <= self.loss_price:\n",
    "                self.position += self.qty\n",
    "                return +self.qty\n",
    "    \n",
    "    @staticmethod\n",
    "    def _unpack(ohlc: dict):\n",
    "        return ohlc['open'], ohlc['high'], ohlc['low'], ohlc['close']"
   ]
  },
  {
   "cell_type": "markdown",
   "metadata": {},
   "source": [
    "# DcatTrader"
   ]
  },
  {
   "cell_type": "code",
   "execution_count": 5,
   "metadata": {},
   "outputs": [],
   "source": [
    "# Model that assumes we have aggregated information from the future\n",
    "class DcatTrader:\n",
    "    def __init__(self, window, actual_prices, take_min, qty, fee):\n",
    "        self.y = self.get_y2(window, actual_prices)\n",
    "        self.i = -1\n",
    "        self.position = 0\n",
    "        self.entry_price = 0\n",
    "        self.price = 0\n",
    "        self.take_min = take_min\n",
    "        self.qty = qty\n",
    "        self.fee = fee\n",
    "        \n",
    "    def update(self, _, __, price):\n",
    "        self.i += 1\n",
    "        self.price = price\n",
    "        \n",
    "        pass\n",
    "    \n",
    "    def trade(self):\n",
    "        if np.isnan(self.y[self.i]):\n",
    "            return\n",
    "        \n",
    "        # effective pnl% in terms of return r:\n",
    "        #    pnl/(p0*|q|) = r*sign(q) - fee*(2+r)\n",
    "        #                 = r*(sign(q) - f) - 2*fee\n",
    "        \n",
    "        t = self.take_min\n",
    "        f = self.fee\n",
    "        if self.position == 0:\n",
    "            r = self.y[self.i]\n",
    "            \n",
    "            is_good_buy = r >= (t+2*f)/(1-f)\n",
    "            is_good_sell = r <= -(t+2*f)/(1+f)\n",
    "        else:\n",
    "            r = (self.price - self.entry_price)/self.entry_price\n",
    "            \n",
    "            is_good_buy = self.position < 0 and r <= -(t+2*f)/(1+f)\n",
    "            is_good_sell = self.position > 0 and r >= (t+2*f)/(1-f)\n",
    "            \n",
    "        if is_good_buy:\n",
    "            self.entry_price = self.price if self.position == 0 else np.nan\n",
    "            self.position += self.qty  \n",
    "            return self.qty\n",
    "        elif is_good_sell:\n",
    "            self.entry_price = self.price if self.position == 0 else np.nan\n",
    "            self.position -= self.qty \n",
    "            return -self.qty          \n",
    "            \n",
    "        return 0\n",
    "    \n",
    "    def get_y2(self, w, prices):\n",
    "                \n",
    "        ma = prices.iloc[::-1].rolling(w).max()\n",
    "        mi = prices.iloc[::-1].rolling(w).min()\n",
    "        s = (ma + mi).iloc[::-1]\n",
    "        return (.5*(s - 2.*prices)/prices)"
   ]
  },
  {
   "cell_type": "markdown",
   "metadata": {},
   "source": [
    "# Pattern Trader"
   ]
  },
  {
   "cell_type": "code",
   "execution_count": 6,
   "metadata": {},
   "outputs": [],
   "source": [
    "class PatternTrader:\n",
    "    QTY = 0.01\n",
    "    \n",
    "    def __init__(self, price_increment: int,\n",
    "                 patterns: List[Score],\n",
    "                 budget=None):\n",
    "        self.dp = price_increment\n",
    "        self.patterns = patterns\n",
    "        self.max_window = max(len(i.predictor) for i in patterns)\n",
    "        self.ret_bps = deque()\n",
    "        self.last_p = np.nan\n",
    "        self.triggered = False  # True when cross 1% return\n",
    "        \n",
    "        self.position = 0\n",
    "        \n",
    "        self.cycle = None\n",
    "        self.max_budget = budget\n",
    "        self.current_budget = budget\n",
    "        self.max_position = 0\n",
    "        \n",
    "        self.last_price = 0\n",
    "        \n",
    "        #self.debug_prices = []\n",
    "        \n",
    "    def update(self, cycle, ohlc, price):\n",
    "        self.last_price = price\n",
    "        self.cycle = cycle\n",
    "        log_p_bps = int(np.log(price) * 1e4)\n",
    "        current_p = (log_p_bps // price_increment) * price_increment\n",
    "        \n",
    "        if not self.ret_bps or abs(current_p - self.last_p) >= price_increment:\n",
    "            self.ret_bps.append(current_p - self.last_p)\n",
    "            self.last_p = current_p\n",
    "            \n",
    "            self.triggered = True\n",
    "            #print('Hey!!!!!!!!!!!!!')\n",
    "        else:\n",
    "            self.triggered = False\n",
    "\n",
    "        if len(self.ret_bps) > self.max_window:\n",
    "            self.ret_bps.popleft()\n",
    "        \n",
    "        #if self.triggered:\n",
    "        #    self.debug_prices.append((cycle, current_p, self.ret_bps[-1]))\n",
    "    \n",
    "    def trade(self):\n",
    "        r = self.ret_bps[-1]\n",
    "        if self.triggered:\n",
    "            prediction = self.predict(self.ret_bps, self.patterns)\n",
    "            qty = np.sign(prediction) * self.QTY\n",
    "            if np.sign(self.position) == -np.sign(qty):\n",
    "                qty -= self.position\n",
    "            \n",
    "            if qty != 0:\n",
    "                # TODO: add a method .update_position(qty)\n",
    "                # that also update our dollar/crypto budget                    \n",
    "                if self._check_budget(qty, self.last_price):\n",
    "                    self._update_position(qty)\n",
    "                    return qty\n",
    "    \n",
    "    def _update_position(self, qty) -> None:\n",
    "        self.position += qty\n",
    "        self.position = round(self.position, 6)\n",
    "        if abs(self.position) > abs(self.max_position):\n",
    "            self.max_position = self.position\n",
    "    \n",
    "    def _check_budget(self, qty, price):\n",
    "        # Return if it has budget to trade, and if so, update the budget\n",
    "        if self.max_budget:        \n",
    "            q = qty\n",
    "            p = self.position\n",
    "            # Amazing formula, works for short and long\n",
    "            after = self.current_budget + (abs(p) - abs(p + q))*price\n",
    "            if after < 0:\n",
    "                return False\n",
    "            self.current_budget = after\n",
    "            \n",
    "        return True     \n",
    "    \n",
    "    #@staticmethod\n",
    "    def predict(self, returns, best_scores):\n",
    "        #print(f'Predicting: {self.ret_bps}')\n",
    "        returns = tuple(returns)\n",
    "        for s in best_scores:\n",
    "            seq, prediction = s.predictor, s.response\n",
    "            if len(returns) >= len(seq):\n",
    "                if returns[-len(seq):] == seq:\n",
    "                    return prediction    \n",
    "        return 0"
   ]
  },
  {
   "cell_type": "code",
   "execution_count": 109,
   "metadata": {},
   "outputs": [],
   "source": [
    "def trade(df, model):\n",
    "    # model needs to have .update(cycle, ohlc) and trade()\n",
    "    # return the trades\n",
    "\n",
    "    trades = pd.Series(0., index=df.index)\n",
    "    \n",
    "    for i, (cycle, ohlc) in enumerate(df.iterrows()):\n",
    "        model.update(cycle, ohlc, ohlc['close'])\n",
    "        qty = model.trade()\n",
    "        if qty:\n",
    "            trades.iloc[i] = qty\n",
    "    \n",
    "#     # This is to make accounting easier\n",
    "#     s = trades.sum()\n",
    "#     if not np.isclose(s, 0.):\n",
    "#         trades.iloc[-1] = -s\n",
    "        \n",
    "    return trades\n",
    "\n",
    "\n",
    "def robustness(pnls, prices):\n",
    "    # It should tell how much the model depends on the market\n",
    "    returns = (prices.shift(-1) - prices)/prices\n",
    "    idx = pnls != 0\n",
    "    a = pnls[idx][:-1].corr(prices[idx][:-1])\n",
    "    return 1 - a*a\n",
    "\n",
    "\n",
    "def sharpe(pnls):\n",
    "    return np.sum(pnls) / np.std(pnls)\n",
    "\n",
    "def compute_accounting(prices, trades, fee=0.0026):\n",
    "\n",
    "    #assert np.isclose(trades.sum(), 0.), 'Should not hold position at the end'\n",
    "    assert prices.index.equals(trades.index)\n",
    "    position = trades.cumsum()\n",
    "    \n",
    "    # transaction volume\n",
    "    fees = (prices * trades * fee).abs()\n",
    "    balance = -(prices * trades * (1+np.sign(trades)*fee)).cumsum()\n",
    "    book = prices * position * (1-np.sign(position)*fee)\n",
    "    \n",
    "    unrealized = book + balance\n",
    "    pnl = pd.Series(0., index=unrealized.index)\n",
    "    \n",
    "    closed_pos = position.diff().abs() - position.abs().diff() > 0  # it's always >= 0\n",
    "    u = unrealized.loc[closed_pos]\n",
    "\n",
    "    if len(u) > 0:\n",
    "        first = u.iloc[0] if len(unrealized) > 0 else 0.\n",
    "        pnl.loc[closed_pos] = u.diff().fillna(first)\n",
    "    \n",
    "#to debug:    \n",
    "#     return pd.DataFrame({'closed_pos': closed_pos, 'position': position,\n",
    "#                         'prices': prices, 'trades': trades,\n",
    "#                         'p*t':prices * trades, 'balance': balance,\n",
    "#                         'book': book, 'unrealized': unrealized, 'pnl': pnl})\n",
    "    return pd.DataFrame({'pnl': pnl, 'unrealized': unrealized, 'fees': fees, 'balance': balance},\n",
    "                          index=prices.index)\n",
    "    \n",
    "\n",
    "def test_pnl1():\n",
    "    prices = pd.Series(range(11, 23), index=pd.date_range('20160606', periods=12))\n",
    "    trades = pd.Series([0,1,0,2,0,-1,0,-1,0,-1,0,0], index=prices.index)\n",
    "    a = compute_accounting(prices, trades, fee=0)\n",
    "    assert a.pnl.sum() == a.unrealized.iloc[-1]\n",
    "    assert a.unrealized.iloc[-1] == 14  # -12 - 14*2 + 16 + 18 + 20\n",
    "    assert len(a.pnl[a.pnl != 0]) == 3\n",
    "    return a\n",
    "    \n",
    "def test_pnl2():    \n",
    "    prices = pd.Series(range(11, 23), index=pd.date_range('20160606', periods=12))\n",
    "    trades = pd.Series([0,1,0,-1,0,1,0,-1,-1,0,1,0], index=prices.index)\n",
    "    a = compute_accounting(prices, trades, fee=0)\n",
    "    assert a.pnl.sum() == a.unrealized.iloc[-1]\n",
    "    assert a.unrealized.iloc[-1] == 2  # -12 + 14 - 16 + 18 + 19 - 21\n",
    "    assert len(a.pnl[a.pnl != 0]) == 3\n",
    "\n",
    "def test_pnl3():    \n",
    "    prices = pd.Series(reversed(range(11, 23)), index=pd.date_range('20160606', periods=12))\n",
    "    trades = pd.Series([0,1,0,-1,0,1,0,-1,-1,0,1,0], index=prices.index)\n",
    "    a = compute_accounting(prices, trades, fee=0)\n",
    "    assert a.pnl.sum() == a.unrealized.iloc[-1]\n",
    "    assert a.unrealized.iloc[-1] == -2  # -12 + 14 - 16 + 18 + 19 - 21\n",
    "    assert len(a.pnl[a.pnl != 0]) == 3\n",
    "\n",
    "def test_pnl4():    \n",
    "    prices = pd.Series(reversed(range(11, 23)), index=pd.date_range('20160606', periods=12))\n",
    "    trades = -pd.Series([0,1,0,-1,0,1,0,-1,-1,0,1,0], index=prices.index)\n",
    "    a = compute_accounting(prices, trades, fee=0)\n",
    "    assert a.pnl.sum() == a.unrealized.iloc[-1]\n",
    "    assert a.unrealized.iloc[-1] == 2  # -12 + 14 - 16 + 18 + 19 - 21\n",
    "    assert len(a.pnl[a.pnl != 0]) == 3\n",
    "\n",
    "def test_pnl5():    \n",
    "    prices = pd.Series([11,12,13,14,14])\n",
    "    trades = pd.Series([1,-1,1,0,0])\n",
    "    fee=1. # <----- ATTENTION ON THIS\n",
    "    a = compute_accounting(prices, trades, fee=fee)\n",
    "    assert a.unrealized.iloc[-1] == -48.\n",
    "    assert len(a.pnl[a.pnl != 0]) == 1\n",
    "    return a\n",
    "\n",
    "def test_pnl6():\n",
    "    prices = pd.Series(range(11, 23), index=pd.date_range('20160606', periods=12))\n",
    "    trades = pd.Series([0,1,0,-2,0,+3,0,-4,0,+5,0,0], index=prices.index)\n",
    "    a = compute_accounting(prices, trades, fee=0)\n",
    "    assert a.pnl.sum() + 3*(22-20) == a.unrealized.iloc[-1]\n",
    "    assert a.unrealized.iloc[-1] == 6, a.unrealized.iloc[-1]  # -12 + 2*14  -3*16  +4*18  -5*20 +3*23\n",
    "    assert len(a.pnl[a.pnl != 0]) == 4\n",
    "    return a\n",
    "\n",
    "_ = test_pnl1()\n",
    "_ = test_pnl2()\n",
    "_ = test_pnl3()\n",
    "_ = test_pnl4()\n",
    "_ = test_pnl5()\n",
    "a = test_pnl6()"
   ]
  },
  {
   "cell_type": "markdown",
   "metadata": {},
   "source": [
    "# Run Sim"
   ]
  },
  {
   "cell_type": "code",
   "execution_count": 110,
   "metadata": {},
   "outputs": [],
   "source": [
    "def dd(x):  # to print dollars\n",
    "    return locale.currency(x, grouping=True)"
   ]
  },
  {
   "cell_type": "code",
   "execution_count": 111,
   "metadata": {},
   "outputs": [
    {
     "name": "stdout",
     "output_type": "stream",
     "text": [
      "sharpe = -704.9499243379918\n",
      "realized pnl = -$549.87\n",
      "un-realized pnl = -$554.34\n",
      "balance = -$1,140.63\n",
      "APY = 0.4\n",
      "pnl < 0=535\n",
      "pnl > 0=409\n",
      "# trades=945\n",
      "fees=$1,392.43\n",
      "CPU times: user 8.01 s, sys: 18.2 ms, total: 8.03 s\n",
      "Wall time: 8.07 s\n"
     ]
    }
   ],
   "source": [
    "%%time\n",
    "trader = PatternTrader(100, best_score_max, budget=100)\n",
    "trades = trade(df, trader)\n",
    "acc = compute_accounting(df.close, trades)\n",
    "print(f'sharpe = {sharpe(acc.pnl)}')\n",
    "print(f'realized pnl = {dd(acc.pnl.sum())}')\n",
    "print(f'un-realized pnl = {dd(acc.unrealized.iloc[-1])}')\n",
    "print(f'balance = {dd(acc.balance.iloc[-1])}')\n",
    "apy_factor = 365 / (trades.index[-1] - trades.index[0]).days\n",
    "print(f'APY = {round(acc.unrealized.iloc[-1] / acc.balance.iloc[-1] * apy_factor, 2)}')\n",
    "print(f'pnl < 0={len(acc.pnl[acc.pnl < 0])}')\n",
    "print(f'pnl > 0={len(acc.pnl[acc.pnl > 0])}')\n",
    "print(f'# trades={len(trades[trades != 0])}')\n",
    "print(f'fees={dd(acc.fees.sum())}')\n",
    "\n",
    "#sharpe(acc.pnl), len(acc.pnl[acc.pnl < 0]), len(acc.pnl[acc.pnl > 0]), len(trades[trades != 0])"
   ]
  },
  {
   "cell_type": "code",
   "execution_count": 113,
   "metadata": {},
   "outputs": [
    {
     "data": {
      "text/plain": [
       "<AxesSubplot:xlabel='time'>"
      ]
     },
     "execution_count": 113,
     "metadata": {},
     "output_type": "execute_result"
    },
    {
     "data": {
      "image/png": "[encoded data removed]",
      "text/plain": [
       "<Figure size 432x288 with 1 Axes>"
      ]
     },
     "metadata": {
      "needs_background": "light"
     },
     "output_type": "display_data"
    }
   ],
   "source": [
    "acc.pnl.plot()"
   ]
  },
  {
   "cell_type": "code",
   "execution_count": 135,
   "metadata": {},
   "outputs": [
    {
     "data": {
      "text/plain": [
       "279.3407001000105"
      ]
     },
     "execution_count": 135,
     "metadata": {},
     "output_type": "execute_result"
    }
   ],
   "source": [
    "trader.current_budget"
   ]
  },
  {
   "cell_type": "code",
   "execution_count": 136,
   "metadata": {},
   "outputs": [
    {
     "data": {
      "text/plain": [
       "0.11"
      ]
     },
     "execution_count": 136,
     "metadata": {},
     "output_type": "execute_result"
    }
   ],
   "source": [
    "trader.max_position"
   ]
  },
  {
   "cell_type": "code",
   "execution_count": 124,
   "metadata": {},
   "outputs": [
    {
     "data": {
      "text/plain": [
       "0.07000000000000044"
      ]
     },
     "execution_count": 124,
     "metadata": {},
     "output_type": "execute_result"
    }
   ],
   "source": [
    "sum(trades)"
   ]
  },
  {
   "cell_type": "code",
   "execution_count": 122,
   "metadata": {},
   "outputs": [
    {
     "data": {
      "text/plain": [
       "<AxesSubplot:xlabel='time'>"
      ]
     },
     "execution_count": 122,
     "metadata": {},
     "output_type": "execute_result"
    },
    {
     "data": {
      "image/png": "[encoded data removed]",
      "text/plain": [
       "<Figure size 432x288 with 1 Axes>"
      ]
     },
     "metadata": {
      "needs_background": "light"
     },
     "output_type": "display_data"
    }
   ],
   "source": [
    "acc.pnl.plot()"
   ]
  },
  {
   "cell_type": "code",
   "execution_count": 493,
   "metadata": {},
   "outputs": [],
   "source": [
    "b = trader.debug_prices"
   ]
  },
  {
   "cell_type": "code",
   "execution_count": 494,
   "metadata": {},
   "outputs": [],
   "source": [
    "a = get_trend(prices)"
   ]
  },
  {
   "cell_type": "code",
   "execution_count": 495,
   "metadata": {},
   "outputs": [
    {
     "data": {
      "text/plain": [
       "(16674, 16672)"
      ]
     },
     "execution_count": 495,
     "metadata": {},
     "output_type": "execute_result"
    }
   ],
   "source": [
    "len(a), len(b)"
   ]
  },
  {
   "cell_type": "code",
   "execution_count": 506,
   "metadata": {},
   "outputs": [
    {
     "data": {
      "text/html": [
       "<div>\n",
       "<style scoped>\n",
       "    .dataframe tbody tr th:only-of-type {\n",
       "        vertical-align: middle;\n",
       "    }\n",
       "\n",
       "    .dataframe tbody tr th {\n",
       "        vertical-align: top;\n",
       "    }\n",
       "\n",
       "    .dataframe thead th {\n",
       "        text-align: right;\n",
       "    }\n",
       "</style>\n",
       "<table border=\"1\" class=\"dataframe\">\n",
       "  <thead>\n",
       "    <tr style=\"text-align: right;\">\n",
       "      <th></th>\n",
       "      <th>0</th>\n",
       "      <th>1</th>\n",
       "      <th>2</th>\n",
       "    </tr>\n",
       "  </thead>\n",
       "  <tbody>\n",
       "    <tr>\n",
       "      <th>16667</th>\n",
       "      <td>2021-03-31 22:23:00</td>\n",
       "      <td>109800</td>\n",
       "      <td>100.0</td>\n",
       "    </tr>\n",
       "    <tr>\n",
       "      <th>16668</th>\n",
       "      <td>2021-03-31 23:00:00</td>\n",
       "      <td>109700</td>\n",
       "      <td>-100.0</td>\n",
       "    </tr>\n",
       "    <tr>\n",
       "      <th>16669</th>\n",
       "      <td>2021-03-31 23:10:00</td>\n",
       "      <td>109800</td>\n",
       "      <td>100.0</td>\n",
       "    </tr>\n",
       "    <tr>\n",
       "      <th>16670</th>\n",
       "      <td>2021-03-31 23:12:00</td>\n",
       "      <td>109700</td>\n",
       "      <td>-100.0</td>\n",
       "    </tr>\n",
       "    <tr>\n",
       "      <th>16671</th>\n",
       "      <td>2021-03-31 23:13:00</td>\n",
       "      <td>109800</td>\n",
       "      <td>100.0</td>\n",
       "    </tr>\n",
       "  </tbody>\n",
       "</table>\n",
       "</div>"
      ],
      "text/plain": [
       "                        0       1      2\n",
       "16667 2021-03-31 22:23:00  109800  100.0\n",
       "16668 2021-03-31 23:00:00  109700 -100.0\n",
       "16669 2021-03-31 23:10:00  109800  100.0\n",
       "16670 2021-03-31 23:12:00  109700 -100.0\n",
       "16671 2021-03-31 23:13:00  109800  100.0"
      ]
     },
     "execution_count": 506,
     "metadata": {},
     "output_type": "execute_result"
    }
   ],
   "source": [
    "b.tail()"
   ]
  },
  {
   "cell_type": "code",
   "execution_count": 507,
   "metadata": {},
   "outputs": [
    {
     "data": {
      "text/html": [
       "<div>\n",
       "<style scoped>\n",
       "    .dataframe tbody tr th:only-of-type {\n",
       "        vertical-align: middle;\n",
       "    }\n",
       "\n",
       "    .dataframe tbody tr th {\n",
       "        vertical-align: top;\n",
       "    }\n",
       "\n",
       "    .dataframe thead th {\n",
       "        text-align: right;\n",
       "    }\n",
       "</style>\n",
       "<table border=\"1\" class=\"dataframe\">\n",
       "  <thead>\n",
       "    <tr style=\"text-align: right;\">\n",
       "      <th></th>\n",
       "      <th>price</th>\n",
       "      <th>return</th>\n",
       "    </tr>\n",
       "    <tr>\n",
       "      <th>time</th>\n",
       "      <th></th>\n",
       "      <th></th>\n",
       "    </tr>\n",
       "  </thead>\n",
       "  <tbody>\n",
       "    <tr>\n",
       "      <th>2021-03-31 22:23:00</th>\n",
       "      <td>109800</td>\n",
       "      <td>100</td>\n",
       "    </tr>\n",
       "    <tr>\n",
       "      <th>2021-03-31 23:00:00</th>\n",
       "      <td>109700</td>\n",
       "      <td>-100</td>\n",
       "    </tr>\n",
       "    <tr>\n",
       "      <th>2021-03-31 23:10:00</th>\n",
       "      <td>109800</td>\n",
       "      <td>100</td>\n",
       "    </tr>\n",
       "    <tr>\n",
       "      <th>2021-03-31 23:12:00</th>\n",
       "      <td>109700</td>\n",
       "      <td>-100</td>\n",
       "    </tr>\n",
       "    <tr>\n",
       "      <th>2021-03-31 23:13:00</th>\n",
       "      <td>109800</td>\n",
       "      <td>100</td>\n",
       "    </tr>\n",
       "  </tbody>\n",
       "</table>\n",
       "</div>"
      ],
      "text/plain": [
       "                      price  return\n",
       "time                               \n",
       "2021-03-31 22:23:00  109800     100\n",
       "2021-03-31 23:00:00  109700    -100\n",
       "2021-03-31 23:10:00  109800     100\n",
       "2021-03-31 23:12:00  109700    -100\n",
       "2021-03-31 23:13:00  109800     100"
      ]
     },
     "execution_count": 507,
     "metadata": {},
     "output_type": "execute_result"
    }
   ],
   "source": [
    "a.tail()"
   ]
  },
  {
   "cell_type": "code",
   "execution_count": 478,
   "metadata": {},
   "outputs": [
    {
     "data": {
      "text/plain": [
       "90140.22522452753"
      ]
     },
     "execution_count": 478,
     "metadata": {},
     "output_type": "execute_result"
    }
   ],
   "source": [
    "np.log(8217.51) * 10000"
   ]
  },
  {
   "cell_type": "code",
   "execution_count": 476,
   "metadata": {},
   "outputs": [
    {
     "data": {
      "text/plain": [
       "time\n",
       "2020-01-08 15:29:00     8300.00\n",
       "2020-01-08 15:33:00     8300.00\n",
       "2020-01-08 16:09:00     8217.51\n",
       "2020-01-08 16:20:00     8217.51\n",
       "2020-01-08 17:43:00     7900.01\n",
       "                         ...   \n",
       "2021-03-31 23:39:00    58800.00\n",
       "2021-03-31 23:41:00    58800.00\n",
       "2021-03-31 23:42:00    58800.00\n",
       "2021-03-31 23:50:00    58850.67\n",
       "2021-03-31 23:52:00    58781.48\n",
       "Name: close, Length: 80826, dtype: float64"
      ]
     },
     "execution_count": 476,
     "metadata": {},
     "output_type": "execute_result"
    }
   ],
   "source": [
    "df.close"
   ]
  },
  {
   "cell_type": "code",
   "execution_count": 212,
   "metadata": {},
   "outputs": [
    {
     "data": {
      "text/plain": [
       "(1741, 1741)"
      ]
     },
     "execution_count": 212,
     "metadata": {},
     "output_type": "execute_result"
    }
   ],
   "source": [
    "len(trades[trades>0]), len(trades[trades<0])"
   ]
  },
  {
   "cell_type": "code",
   "execution_count": 173,
   "metadata": {},
   "outputs": [
    {
     "data": {
      "text/plain": [
       "2231"
      ]
     },
     "execution_count": 173,
     "metadata": {},
     "output_type": "execute_result"
    }
   ],
   "source": [
    "len(trades[trades != 0])"
   ]
  },
  {
   "cell_type": "code",
   "execution_count": null,
   "metadata": {},
   "outputs": [],
   "source": [
    "%%time\n",
    "trades = trade(df, Trader1(10, 2, 0.002))\n",
    "acc = compute_accounting(df, trades)\n",
    "sharpe(acc.pnl), sharpe(acc.adjusted_pnl)"
   ]
  },
  {
   "cell_type": "code",
   "execution_count": 434,
   "metadata": {},
   "outputs": [
    {
     "name": "stdout",
     "output_type": "stream",
     "text": [
      "sharpe(acc.pnl)=10028.055323091203\n",
      "acc.pnl=1005.4595969483163\n",
      "len(acc.pnl[acc.pnl < 0])=1\n",
      "len(acc.pnl[acc.pnl > 0])=1921\n",
      "len(trades[trades != 0])=3844\n",
      "CPU times: user 7.05 s, sys: 12.9 ms, total: 7.06 s\n",
      "Wall time: 7.11 s\n"
     ]
    }
   ],
   "source": [
    "%%time\n",
    "trades = trade(df, DcatTrader(75, actual_prices=df.close,\n",
    "                              take_min=0.007, qty=0.002, fee=0.0026))\n",
    "acc = compute_accounting(df.close, trades)\n",
    "#rob = robustness(acc.pnl, df.close)\n",
    "print(f'sharpe(acc.pnl)={sharpe(acc.pnl)}')\n",
    "print(f'acc.pnl={acc.pnl.sum()}')\n",
    "print(f'len(acc.pnl[acc.pnl < 0])={len(acc.pnl[acc.pnl < 0])}')\n",
    "print(f'len(acc.pnl[acc.pnl > 0])={len(acc.pnl[acc.pnl > 0])}')\n",
    "print(f'len(trades[trades != 0])={len(trades[trades != 0])}')# (6058.5075476589045, -8191.272070021878), (33, 1103)"
   ]
  },
  {
   "cell_type": "code",
   "execution_count": null,
   "metadata": {},
   "outputs": [],
   "source": []
  },
  {
   "cell_type": "code",
   "execution_count": null,
   "metadata": {},
   "outputs": [],
   "source": [
    "acc.pnl[acc.pnl < 0].head(1)"
   ]
  },
  {
   "cell_type": "code",
   "execution_count": null,
   "metadata": {
    "scrolled": true
   },
   "outputs": [],
   "source": [
    "r = -0.005\n",
    "fee = 0.003\n",
    "qty = -0.0002\n",
    "\n",
    "# pnl/(p0*|q|) = r*sign(q) - fee*(2+r)\n",
    "r*np.sign(qty) - fee*(2+r)"
   ]
  },
  {
   "cell_type": "code",
   "execution_count": null,
   "metadata": {},
   "outputs": [],
   "source": [
    "for i in [30]:\n",
    "    fee = 0.0001 * i\n",
    "    print(fee, (0.005 + 2*fee)/(1-fee), -(0.005 + 2*fee)/(1+fee))"
   ]
  },
  {
   "cell_type": "code",
   "execution_count": null,
   "metadata": {},
   "outputs": [],
   "source": [
    "0.010967098703888336 - fee * (2 -0.010967098703888336)"
   ]
  },
  {
   "cell_type": "code",
   "execution_count": null,
   "metadata": {},
   "outputs": [],
   "source": [
    "(8652.87 * (1-0) - 8609.40 * (1+0))*0.002"
   ]
  },
  {
   "cell_type": "code",
   "execution_count": null,
   "metadata": {},
   "outputs": [],
   "source": [
    "trades.loc['2020-02-17 16:50:00']"
   ]
  },
  {
   "cell_type": "code",
   "execution_count": null,
   "metadata": {},
   "outputs": [],
   "source": [
    "prices.open['2020-02-17 16:50:00']"
   ]
  },
  {
   "cell_type": "code",
   "execution_count": null,
   "metadata": {},
   "outputs": [],
   "source": [
    "a = pd.merge(trades, df, left_index=True, right_index=True)\n",
    "a = pd.merge(a, acc, left_index=True, right_index=True)\n",
    "a = a[a.qty!=0]"
   ]
  },
  {
   "cell_type": "code",
   "execution_count": null,
   "metadata": {},
   "outputs": [],
   "source": [
    "b = a.query('time <= \"2020-01-21 18:58:00\" and time >= \"2020-01-21 03:21:00\"')\n",
    "b"
   ]
  },
  {
   "cell_type": "markdown",
   "metadata": {},
   "source": [
    "# Plotting"
   ]
  },
  {
   "cell_type": "code",
   "execution_count": 511,
   "metadata": {},
   "outputs": [],
   "source": [
    "import pandas as pd\n",
    "import plotly.graph_objs as go\n",
    "import plotly.offline as offline\n",
    "\n",
    "def plot(df, trades):\n",
    "    # df columns = ['open', 'high', 'low', 'close', 'volume', 'trades']\n",
    "    # trades columns = ['qty']\n",
    "\n",
    "    buys = df.open[trades > 0]\n",
    "    sells = df.open[trades < 0]\n",
    "    pnls = compute_accounting(df, trades).pnl\n",
    "    pnls = pnls[pnls != 0]\n",
    "    pnls = pnls.cumsum()\n",
    "    \n",
    "    trace = go.Scatter(\n",
    "        x=df.index,\n",
    "        y=df['open'],\n",
    "        name='Tick'\n",
    "    )\n",
    "\n",
    "    trace2 = go.Scatter(\n",
    "        x=buys.index,\n",
    "        y=buys,\n",
    "        #text=buys['order_id'],\n",
    "        #hoverinfo='text',\n",
    "        name='Buy',\n",
    "        mode='markers',\n",
    "        marker=dict(\n",
    "            size=10,\n",
    "            color='rgba(182, 255, 193, .9)',\n",
    "            line=dict(\n",
    "                width=2,\n",
    "            )\n",
    "        )\n",
    "    )\n",
    "\n",
    "    trace3 = go.Scatter(\n",
    "        x=sells.index,\n",
    "        y=sells,\n",
    "        #text=sells['order_id'],\n",
    "        #hoverinfo='text',\n",
    "        name='Sell',\n",
    "        mode='markers',\n",
    "        marker=dict(\n",
    "            size=7,\n",
    "            color='rgba(255, 182, 193, .9)',\n",
    "            line=dict(\n",
    "                width=1,\n",
    "            )\n",
    "        )\n",
    "    )\n",
    "\n",
    "    trace4 = go.Scatter(\n",
    "        x=pnls.index,\n",
    "        y=pnls,\n",
    "        name='P&L',\n",
    "        mode='lines+markers',\n",
    "        marker=dict(\n",
    "            size=5,\n",
    "            color='rgba(193, 182, 255, .9)',\n",
    "            line=dict(\n",
    "                width=1,\n",
    "            )\n",
    "        ),\n",
    "        yaxis='y2'\n",
    "    )\n",
    "    \n",
    "    data = [trace, trace2, trace3, trace4]\n",
    "    layout = go.Layout(\n",
    "        title='Trading log',\n",
    "        yaxis=dict(\n",
    "            title='Price'\n",
    "        ),\n",
    "        yaxis2=dict(\n",
    "            title='BTC',\n",
    "            titlefont=dict(\n",
    "                color='rgb(148, 103, 189)'\n",
    "            ),\n",
    "            tickfont=dict(\n",
    "                color='rgb(148, 103, 189)'\n",
    "            ),\n",
    "            overlaying='y',\n",
    "            side='right'\n",
    "        ),\n",
    "        xaxis=dict(\n",
    "            rangeslider=dict(\n",
    "                visible=False\n",
    "            )\n",
    "        ),\n",
    "        xaxis2=dict()\n",
    "    )\n",
    "\n",
    "    fig = go.Figure(data=data, layout=layout)\n",
    "    offline.plot(fig, auto_open=True, filename=os.path.join('/Users/felipe/crypto/bitme2', 'results_plot.html'))\n",
    "    # offline.iplot(fig)  #\n",
    "\n",
    "    return 0"
   ]
  },
  {
   "cell_type": "code",
   "execution_count": null,
   "metadata": {},
   "outputs": [],
   "source": [
    "plot(df, trades)"
   ]
  },
  {
   "cell_type": "markdown",
   "metadata": {},
   "source": [
    "# Model research"
   ]
  },
  {
   "cell_type": "code",
   "execution_count": null,
   "metadata": {},
   "outputs": [],
   "source": [
    "df = pd.read_csv('data/XBTUSDC_1.csv', header=None,\n",
    "                     names=['time', 'open', 'high', 'low', 'close', 'volume', 'trades'])\n",
    "df = df.set_index('time')\n",
    "df.index = pd.DatetimeIndex(df.index * 1e+9)\n",
    "#df = df.reindex(index=pd.date_range(df.index[0], df.index[-1],\n",
    "#                        freq=pd.Timedelta('00:01:00')), method='ffill', copy=False)"
   ]
  },
  {
   "cell_type": "code",
   "execution_count": null,
   "metadata": {},
   "outputs": [],
   "source": [
    "# definition of returns for research is different:\n",
    "returns = (df.close - df.open) / df.open\n",
    "prices = df.close"
   ]
  },
  {
   "cell_type": "code",
   "execution_count": null,
   "metadata": {},
   "outputs": [],
   "source": [
    "len(df)"
   ]
  },
  {
   "cell_type": "markdown",
   "metadata": {},
   "source": [
    "## Y definition (it's not return)"
   ]
  },
  {
   "cell_type": "code",
   "execution_count": null,
   "metadata": {},
   "outputs": [],
   "source": [
    "def get_y(w, prices):\n",
    "    ma = prices.iloc[::-1].rolling(w).max()\n",
    "    mi = prices.iloc[::-1].rolling(w).min()\n",
    "    s = (ma + mi).iloc[::-1]\n",
    "    return (.5*(s - 2.*prices)/prices).shift(-1)\n",
    "\n",
    "def get_lagged_y(w, prices):\n",
    "    ma = prices.rolling(w).max()\n",
    "    mi = prices.rolling(w).min()\n",
    "    s = (ma + mi)\n",
    "    return (.5*(s - 2.*prices)/prices)    "
   ]
  },
  {
   "cell_type": "markdown",
   "metadata": {},
   "source": [
    "## volatility per interval"
   ]
  },
  {
   "cell_type": "code",
   "execution_count": null,
   "metadata": {},
   "outputs": [],
   "source": [
    "def volatility(w, prices):\n",
    "    # This is not the standard volatility definition"
   ]
  },
  {
   "cell_type": "code",
   "execution_count": null,
   "metadata": {},
   "outputs": [],
   "source": [
    "interval_std = {}\n",
    "for interval in (2, 5, 30, 60, 120, 300, 24*60, 7*24*60):\n",
    "    prices_mean = prices.rolling(interval, center=True).mean()\n",
    "    interval_std[interval] = ((prices - prices_mean)/prices_mean).abs().mean()"
   ]
  },
  {
   "cell_type": "code",
   "execution_count": null,
   "metadata": {},
   "outputs": [],
   "source": [
    "interval_std"
   ]
  },
  {
   "cell_type": "code",
   "execution_count": null,
   "metadata": {},
   "outputs": [],
   "source": [
    "30/61000"
   ]
  },
  {
   "cell_type": "code",
   "execution_count": null,
   "metadata": {},
   "outputs": [],
   "source": [
    "returns.iloc[-100:].plot()"
   ]
  },
  {
   "cell_type": "code",
   "execution_count": null,
   "metadata": {},
   "outputs": [],
   "source": [
    "returns.std()"
   ]
  },
  {
   "cell_type": "markdown",
   "metadata": {},
   "source": [
    "* Conclusion: they are all about the same"
   ]
  },
  {
   "cell_type": "markdown",
   "metadata": {},
   "source": [
    "## Optimal interval"
   ]
  },
  {
   "cell_type": "markdown",
   "metadata": {},
   "source": [
    "It should be the interval that the lagged Y predicts Y"
   ]
  },
  {
   "cell_type": "markdown",
   "metadata": {},
   "source": [
    "## cost and get_x_y"
   ]
  },
  {
   "cell_type": "code",
   "execution_count": null,
   "metadata": {},
   "outputs": [],
   "source": [
    "def apply_threshold(s, threshold):\n",
    "    s[s.abs() < threshold] = np.nan\n",
    "\n",
    "# Cost function\n",
    "def cost(prices, returns):\n",
    "   \n",
    "    def _helper(args):\n",
    "        lookback, lookahead = (int(i) for i in args)\n",
    "        if lookback <= 0 or lookahead <= 0:\n",
    "            return float('inf')\n",
    "        left = get_lagged_y(lookback, prices)\n",
    "        y = get_y(lookahead, prices)\n",
    "        #return -(left.corr(y)**2)\n",
    "        return -left.corr(-y)\n",
    "    return _helper\n",
    "\n",
    "def incremental_ewm(returns, lookback):\n",
    "    assert lookback > 1\n",
    "    d = {}\n",
    "    for i in range(2, lookback+1):\n",
    "        d[f'mean_ret{i}'] = returns.rolling(i).mean()\n",
    "    return d\n",
    "\n",
    "# features\n",
    "def get_x_y(prices, returns, lookback, lookahead):\n",
    "    lag_y = get_lagged_y(lookback, prices)\n",
    "    return pd.DataFrame({\n",
    "        #'mean_ret': returns.rolling(lookback).mean(),\n",
    "        'mean_ret1': returns,\n",
    "        **incremental_ewm(returns, lookback),\n",
    "        #'dmean': returns.diff().rolling(lookback).mean(),\n",
    "        #'d2mean': returns.diff().diff().rolling(lookback).mean(),\n",
    "        #'volatility': returns.rolling(lookback).std(),\n",
    "        #'lagged_y': lag_y,\n",
    "        #'sum_y': lag_y.cumsum(),\n",
    "        #'min': returns.rolling(lookback).min(),\n",
    "        #'max': returns.rolling(lookback).max(),\n",
    "        #'ewm': returns.ewm(span=lookback).mean(),\n",
    "        #'acce': returns.diff().ewm(span=lookback).mean(),\n",
    "        'y': get_y(lookahead, prices),\n",
    "    }, index=returns.index).dropna().astype(float)\n",
    "\n",
    "def get_acceleration(prices, returns, lookback, lookahead):\n",
    "    lag_y = get_lagged_y(lookback, prices)\n",
    "    y = get_y(lookahead, prices)\n",
    "    return pd.DataFrame({\n",
    "        #'ewm': returns.ewm(span=lookback).mean(),\n",
    "        'ewm': returns.rolling(lookback).sum()* (-0.08263353),\n",
    "        'y': y\n",
    "    }, index=returns.index)\n",
    "\n",
    "# cost function\n",
    "def get_acc_cost(prices, returns, lookback, lookahead, threshold=5e-3):\n",
    "    a = get_acceleration(prices, returns, lookback, lookahead).dropna()\n",
    "    original_len = len(a)\n",
    "    #apply_threshold(a['ewm'], threshold)\n",
    "    apply_threshold(a['y'], threshold)\n",
    "    a = a.dropna()\n",
    "    return (a['ewm'].corr(a['y'])) *1# (len(a)/ original_len)"
   ]
  },
  {
   "cell_type": "code",
   "execution_count": null,
   "metadata": {},
   "outputs": [],
   "source": [
    "results = {}\n",
    "for i in range(25):\n",
    "    lookback = int((i+2)**(1.5)) or int((i+2)**(2.1))\n",
    "    for j in range(i):\n",
    "        lookahead = int((i+2)**(1.5)) or int((j+2)**(2.1))\n",
    "    #a = get_acceleration(prices, returns, lookback, 10)\n",
    "        results[(lookback, lookahead)] = get_acc_cost(prices, returns, lookback, lookahead)"
   ]
  },
  {
   "cell_type": "code",
   "execution_count": null,
   "metadata": {},
   "outputs": [],
   "source": [
    "sorted(results.items(), key=lambda x: results[x[0]], reverse=True)[:5]"
   ]
  },
  {
   "cell_type": "code",
   "execution_count": null,
   "metadata": {},
   "outputs": [],
   "source": [
    "get_acc_cost(prices, returns, 30, 30)"
   ]
  },
  {
   "cell_type": "code",
   "execution_count": null,
   "metadata": {},
   "outputs": [],
   "source": [
    "a = get_acceleration(prices, returns, 125, 75)\n",
    "apply_threshold(a['ewm'], 1e-3)\n",
    "a.dropna().size"
   ]
  },
  {
   "cell_type": "markdown",
   "metadata": {},
   "source": [
    "### Best ewm span: 6200 with 72%"
   ]
  },
  {
   "cell_type": "markdown",
   "metadata": {},
   "source": [
    "## optmize with scipy"
   ]
  },
  {
   "cell_type": "code",
   "execution_count": null,
   "metadata": {},
   "outputs": [],
   "source": [
    "from scipy.optimize import minimize"
   ]
  },
  {
   "cell_type": "code",
   "execution_count": null,
   "metadata": {},
   "outputs": [],
   "source": [
    "x0 = [150, 150]"
   ]
  },
  {
   "cell_type": "code",
   "execution_count": null,
   "metadata": {},
   "outputs": [],
   "source": [
    "res = minimize(cost(prices, returns), x0, method='nelder-mead',\n",
    "               options={'xatol': 1e-8, 'disp': True})\n",
    "\n",
    "res"
   ]
  },
  {
   "cell_type": "code",
   "execution_count": null,
   "metadata": {},
   "outputs": [],
   "source": [
    "cost(prices, returns)([2000, 1000])"
   ]
  },
  {
   "cell_type": "code",
   "execution_count": null,
   "metadata": {},
   "outputs": [],
   "source": [
    "results = {}"
   ]
  },
  {
   "cell_type": "code",
   "execution_count": null,
   "metadata": {},
   "outputs": [],
   "source": [
    "%%time\n",
    "args = []\n",
    "for lookback in range(50,101):\n",
    "    for lookahead in range(50,101):\n",
    "        args.append((lookback, lookahead))\n",
    "for i in trange(len(args)):\n",
    "    results[args[i]] = cost(returns)( args[i] )"
   ]
  },
  {
   "cell_type": "code",
   "execution_count": null,
   "metadata": {},
   "outputs": [],
   "source": [
    "sorted(results.items(), key=lambda x: results[x[0]])"
   ]
  },
  {
   "cell_type": "markdown",
   "metadata": {},
   "source": [
    "### Conclusion: 75 mins lookback sum predicts 75 forward with 58% confident"
   ]
  },
  {
   "cell_type": "markdown",
   "metadata": {},
   "source": [
    "## Train with sklearn"
   ]
  },
  {
   "cell_type": "code",
   "execution_count": null,
   "metadata": {},
   "outputs": [],
   "source": [
    "from sklearn.naive_bayes import GaussianNB\n",
    "from sklearn.neighbors import KNeighborsClassifier\n",
    "from sklearn.svm import LinearSVC\n",
    "from sklearn import model_selection"
   ]
  },
  {
   "cell_type": "code",
   "execution_count": null,
   "metadata": {},
   "outputs": [],
   "source": [
    "from sklearn import linear_model\n",
    "regr = linear_model.LinearRegression()"
   ]
  },
  {
   "cell_type": "code",
   "execution_count": null,
   "metadata": {},
   "outputs": [],
   "source": [
    "X_train = get_x_y(prices, returns, 30, 30).dropna()\n",
    "y_train = X_train[['y']]\n",
    "X_train = X_train.drop('y', axis=1)\n",
    "\n",
    "train_size = int(0.80 * len(X_train))\n",
    "test_size = len(X_train) - train_size\n",
    "\n",
    "X_test = X_train.iloc[train_size:-1]\n",
    "y_test = y_train.iloc[train_size:-1]\n",
    "\n",
    "X_train = X_train.iloc[:train_size]\n",
    "y_train = y_train.iloc[:train_size]"
   ]
  },
  {
   "cell_type": "code",
   "execution_count": null,
   "metadata": {},
   "outputs": [],
   "source": [
    "regr.fit(X_train, y_train)\n",
    "print(regr.coef_)\n",
    "regr.score(X_test, y_test)"
   ]
  },
  {
   "cell_type": "code",
   "execution_count": null,
   "metadata": {},
   "outputs": [],
   "source": [
    "def s_sign(s):\n",
    "    s = s.copy()\n",
    "    s[s < 0] = -1\n",
    "    s[s > 0] = 1\n",
    "    return s"
   ]
  },
  {
   "cell_type": "markdown",
   "metadata": {},
   "source": [
    "## Model selection"
   ]
  },
  {
   "cell_type": "code",
   "execution_count": null,
   "metadata": {},
   "outputs": [],
   "source": [
    "X = get_x_y(prices, returns, 30, 30)"
   ]
  },
  {
   "cell_type": "code",
   "execution_count": null,
   "metadata": {},
   "outputs": [],
   "source": [
    "for index, feature_name in enumerate(X.columns):\n",
    "#for index, feature_name in enumerate(['sum']):\n",
    "    if feature_name != 'z':\n",
    "        plt.figure()\n",
    "        plt.scatter(X.iloc[:, index], X.y) \n",
    "        plt.xlabel(feature_name)\n",
    "        plt.ylabel(\"y\")"
   ]
  },
  {
   "cell_type": "code",
   "execution_count": null,
   "metadata": {},
   "outputs": [],
   "source": [
    "import pandas as pd\n",
    "import numpy as np\n",
    "import seaborn as sns\n",
    "#data = pd.read_csv(\"D://Blogs//train.csv\")\n",
    "#X = data.iloc[:,0:20]  #independent columns\n",
    "#y = data.iloc[:,-1]    #target column i.e price range\n",
    "#get correlations of each features in dataset\n",
    "corrmat = X.corr()\n",
    "top_corr_features = corrmat.index\n",
    "plt.figure(figsize=(10,7))\n",
    "#plot heat map\n",
    "g=sns.heatmap(X[top_corr_features].corr(),annot=True,cmap=\"RdYlGn\")"
   ]
  },
  {
   "cell_type": "code",
   "execution_count": null,
   "metadata": {},
   "outputs": [],
   "source": []
  },
  {
   "cell_type": "code",
   "execution_count": null,
   "metadata": {},
   "outputs": [],
   "source": [
    "for feature in X.columns:\n",
    "    if feature != 'y':\n",
    "        z = ((X[feature] - X.y).abs()/X.y.abs())\n",
    "        X1 = X[[feature, 'y']][z < 0.2]\n",
    "        X2 = X[[feature, 'y']][z >= 0.2]\n",
    "        plt.figure()\n",
    "        plt.scatter(X2.loc[:, feature], X2.y) \n",
    "        plt.scatter(X1.loc[:, feature], X1.y) \n",
    "        plt.xlabel(feature)\n",
    "        plt.ylabel(\"y\")"
   ]
  },
  {
   "cell_type": "code",
   "execution_count": null,
   "metadata": {},
   "outputs": [],
   "source": [
    "X = get_x_y(prices, returns, 30, 30)\n",
    "x = regr.predict(X[[f for f in X.columns if f != 'y']].values)[:,0]\n",
    "#x = X[[f for f in X.columns if f != 'y']].dot([-3.32801942,  0.04858423,  0.02541414])\n",
    "x = pd.DataFrame({'y_pred': x, 'y': X.y}, index=X.index)"
   ]
  },
  {
   "cell_type": "code",
   "execution_count": null,
   "metadata": {},
   "outputs": [],
   "source": [
    "excess_tol = 0.00\n",
    "good_buy = (x.y_pred > 0) & (x.y > 0) & (x.y_pred <= x.y + excess_tol)\n",
    "good_sell = (x.y_pred < 0) & (x.y < 0) & (x.y_pred <= x.y - excess_tol)\n",
    "good = good_buy | good_sell\n",
    "#good = good_sell\n",
    "\n",
    "X1 = x[good]\n",
    "X2 = x[~good]\n",
    "plt.figure()\n",
    "plt.scatter(X2.y_pred, X2.y) \n",
    "plt.scatter(X1.y_pred, X1.y) \n",
    "plt.xlabel('y_pred')\n",
    "plt.ylabel(\"y\")"
   ]
  },
  {
   "cell_type": "code",
   "execution_count": null,
   "metadata": {},
   "outputs": [],
   "source": [
    "x[x.y_pred > 0].y_pred.corr(x[x.y_pred > 0].y),\\\n",
    "x[x.y_pred < 0].y_pred.corr(x[x.y_pred < 0].y)"
   ]
  },
  {
   "cell_type": "code",
   "execution_count": null,
   "metadata": {},
   "outputs": [],
   "source": [
    "pd_sign(x[x.y_pred > 0].y_pred).corr(pd_sign(x[x.y_pred > 0].y)),\\\n",
    "pd_sign(x[x.y_pred < 0].y_pred).corr(pd_sign(x[x.y_pred < 0].y))"
   ]
  },
  {
   "cell_type": "code",
   "execution_count": null,
   "metadata": {},
   "outputs": [],
   "source": [
    "def pd_sign(x):\n",
    "    return pd.Series(np.sign(x))"
   ]
  },
  {
   "cell_type": "code",
   "execution_count": null,
   "metadata": {},
   "outputs": [],
   "source": [
    "pd_sign(x[x.y_pred > 0].y_pred).corr(pd_sign(x[x.y_pred > 0].y))"
   ]
  },
  {
   "cell_type": "code",
   "execution_count": null,
   "metadata": {},
   "outputs": [],
   "source": [
    "corr(pd_sign(x[x.y_pred > 0].y_pred),\n",
    "     pd_sign(x[x.y_pred > 0].y))"
   ]
  },
  {
   "cell_type": "code",
   "execution_count": null,
   "metadata": {},
   "outputs": [],
   "source": [
    "def corr(a, b):\n",
    "    a = a-a.mean()\n",
    "    b = b-b.mean()\n",
    "    return a.dot(b)#/np.sqrt((a.dot(a) * b.dot(b)))"
   ]
  },
  {
   "cell_type": "code",
   "execution_count": null,
   "metadata": {},
   "outputs": [],
   "source": [
    "a = pd_sign(x[x.y_pred > 0].y_pred)\n",
    "b = pd_sign(x[x.y_pred > 0].y)"
   ]
  },
  {
   "cell_type": "code",
   "execution_count": null,
   "metadata": {},
   "outputs": [],
   "source": [
    "a.dot(a) / len(a)"
   ]
  },
  {
   "cell_type": "code",
   "execution_count": null,
   "metadata": {},
   "outputs": [],
   "source": [
    "a.dot(b) / len(a)"
   ]
  },
  {
   "cell_type": "code",
   "execution_count": null,
   "metadata": {},
   "outputs": [],
   "source": [
    "(x[x.y_pred > 0].y > 0).sum()/len(a),\\\n",
    "(x[x.y_pred > 0].y <= 0).sum()/len(a),"
   ]
  },
  {
   "cell_type": "markdown",
   "metadata": {},
   "source": [
    "## Classifier"
   ]
  },
  {
   "cell_type": "markdown",
   "metadata": {},
   "source": [
    "* Try features with get_x_y"
   ]
  },
  {
   "cell_type": "code",
   "execution_count": null,
   "metadata": {},
   "outputs": [],
   "source": [
    "from sklearn import model_selection, datasets, metrics\n"
   ]
  },
  {
   "cell_type": "code",
   "execution_count": null,
   "metadata": {},
   "outputs": [],
   "source": [
    "X_train = get_x_y(prices, returns, 30, 30).dropna()\n",
    "y_train = X_train[['y']]\n",
    "X_train = X_train.drop('y', axis=1)\n",
    "\n",
    "good_buys = y_train.transform(lambda x: x.transform(lambda z: 1 if z >= 0.01 else 0))\n",
    "good_sells = y_train.transform(lambda x: x.transform(lambda z: 1 if z <= -0.01 else 0))\n",
    "y_train = pd.DataFrame({'good_buys': good_buys.y, 'good_sells': good_sells.y},\n",
    "                      index=y_train.index)\n",
    "\n",
    "train_size = int(0.80 * len(X_train))\n",
    "test_size = len(X_train) - train_size\n",
    "\n",
    "X_test = X_train.iloc[train_size:-1]\n",
    "y_test = y_train.iloc[train_size:-1]\n",
    "\n",
    "X_train = X_train.iloc[:train_size]\n",
    "y_train = y_train.iloc[:train_size]"
   ]
  },
  {
   "cell_type": "code",
   "execution_count": null,
   "metadata": {},
   "outputs": [],
   "source": [
    "clf = KNeighborsClassifier().fit(X_train, y_train)\n",
    "y_pred = clf.predict(X_test)\n",
    "print('%s: %s' %\n",
    "      (KNeighborsClassifier.__name__, metrics.f1_score(y_test, y_pred, average=\"macro\")))  "
   ]
  },
  {
   "cell_type": "code",
   "execution_count": null,
   "metadata": {},
   "outputs": [],
   "source": [
    "metrics.f1_score?"
   ]
  },
  {
   "cell_type": "code",
   "execution_count": null,
   "metadata": {},
   "outputs": [],
   "source": [
    "y_test.sum(), (y_pred[:,0].sum(), y_pred[:,1].sum())"
   ]
  },
  {
   "cell_type": "code",
   "execution_count": null,
   "metadata": {},
   "outputs": [],
   "source": []
  },
  {
   "cell_type": "code",
   "execution_count": null,
   "metadata": {},
   "outputs": [],
   "source": [
    "# true positive\n",
    "y_test.good_buys[y_pred[:,0] == 1]"
   ]
  },
  {
   "cell_type": "code",
   "execution_count": null,
   "metadata": {},
   "outputs": [],
   "source": [
    "y_test"
   ]
  },
  {
   "cell_type": "markdown",
   "metadata": {},
   "source": [
    "## Predicting the quality of the prediction!"
   ]
  },
  {
   "cell_type": "markdown",
   "metadata": {},
   "source": [
    "Given a pair (y_pred, y), create a classifier for y_pred with good or bad"
   ]
  },
  {
   "cell_type": "code",
   "execution_count": null,
   "metadata": {},
   "outputs": [],
   "source": [
    "X = get_x_y(prices, returns, 30, 30)\n",
    "x = regr.predict(X[[f for f in X.columns if f != 'y']].values)[:,0]\n",
    "#x = X[[f for f in X.columns if f != 'y']].dot([-3.32801942,  0.04858423,  0.02541414])\n",
    "x = pd.DataFrame({'y_pred': x, 'y': X.y}, index=X.index)"
   ]
  },
  {
   "cell_type": "code",
   "execution_count": null,
   "metadata": {},
   "outputs": [],
   "source": [
    "X_train, X_test, y_train, y_test = model_selection.train_test_split(X.values, y.values,\n",
    "                            test_size=0.25)\n",
    "\n",
    "for Model in [GaussianNB, KNeighborsClassifier, LinearSVC]:\n",
    "    clf = Model().fit(X_train, y_train)\n",
    "    y_pred = clf.predict(X_test)\n",
    "    print('%s: %s' %\n",
    "          (Model.__name__, metrics.f1_score(y_test, y_pred, average=\"macro\")))  \n"
   ]
  },
  {
   "cell_type": "code",
   "execution_count": null,
   "metadata": {},
   "outputs": [],
   "source": [
    "from sklearn.datasets import make_moons"
   ]
  },
  {
   "cell_type": "code",
   "execution_count": null,
   "metadata": {},
   "outputs": [],
   "source": [
    "datasets = [make_moons(noise=0.3, random_state=0)]\n",
    "for ds_cnt, ds in enumerate(datasets):\n",
    "    # preprocess dataset, split into training and test part\n",
    "    X, y = ds"
   ]
  },
  {
   "cell_type": "markdown",
   "metadata": {},
   "source": [
    "## Spectral"
   ]
  },
  {
   "cell_type": "code",
   "execution_count": null,
   "metadata": {},
   "outputs": [],
   "source": [
    "from scipy import optimize\n",
    "\n",
    "def segments_fit(prices, count, start=pd.Timestamp.min, end=pd.Timestamp.max):\n",
    "    X = date2num(prices[start:end].index)\n",
    "    Y = prices[start:end].values\n",
    "    \n",
    "    xmin = X.min()\n",
    "    xmax = X.max()\n",
    "\n",
    "    seg = np.full(count - 1, (xmax - xmin) / count)\n",
    "\n",
    "    px_init = np.r_[np.r_[xmin, seg].cumsum(), xmax]\n",
    "    py_init = np.array([Y[np.abs(X - x) < (xmax - xmin) * 0.01].mean() for x in px_init])\n",
    "\n",
    "    def func(p):\n",
    "        seg = p[:count - 1]\n",
    "        py = p[count - 1:]\n",
    "        px = np.r_[np.r_[xmin, seg].cumsum(), xmax]\n",
    "        return px, py\n",
    "\n",
    "    def err(p):\n",
    "        px, py = func(p)\n",
    "        Y2 = np.interp(X, px, py)\n",
    "        return np.mean((Y - Y2)**2)\n",
    "\n",
    "    r = optimize.minimize(err, x0=np.r_[seg, py_init], method='Nelder-Mead')\n",
    "    return *func(r.x), np.sqrt(r.fun)"
   ]
  },
  {
   "cell_type": "code",
   "execution_count": null,
   "metadata": {},
   "outputs": [],
   "source": [
    "%%time\n",
    "coeffs = np.polyfit(date2num(df.close.index), df.close.values, 1)\n"
   ]
  },
  {
   "cell_type": "code",
   "execution_count": null,
   "metadata": {},
   "outputs": [],
   "source": [
    "coeffs = np.polyfit(date2num(df.close.index), df.close.values, 1)"
   ]
  },
  {
   "cell_type": "code",
   "execution_count": null,
   "metadata": {},
   "outputs": [],
   "source": [
    "coeffs"
   ]
  },
  {
   "cell_type": "code",
   "execution_count": null,
   "metadata": {},
   "outputs": [],
   "source": [
    "p = np.poly1d(coeffs)"
   ]
  },
  {
   "cell_type": "code",
   "execution_count": null,
   "metadata": {},
   "outputs": [],
   "source": [
    "pd.DataFrame(p(date2num(df.close.index)), index=date2num(df.close.index)).plot()\n",
    "df.close.plot()"
   ]
  },
  {
   "cell_type": "code",
   "execution_count": null,
   "metadata": {},
   "outputs": [],
   "source": [
    "import numpy as np\n",
    "\n",
    "x = np.random.normal(3, 1, 100)\n",
    "y = np.random.normal(1, 1, 100)\n",
    "\n",
    "xedges = [0, 1, 1.5, 3, 5]\n",
    "yedges = [0, 2, 3, 4, 6]\n",
    "\n",
    "H, xedges, yedges = np.histogram2d(x, y, bins=(xedges, yedges))\n",
    "\n",
    "x2 = np.random.normal(3, 1, 100)\n",
    "y2 = np.random.normal(1, 1, 100)\n",
    "\n",
    "H += np.histogram2d(x2, y2, bins=(xedges, yedges))[0]\n"
   ]
  },
  {
   "cell_type": "code",
   "execution_count": null,
   "metadata": {},
   "outputs": [],
   "source": [
    "# Most frequent max-min per period\n",
    "most_freq = {}\n",
    "for i in (5, 15, 100, 360, 1440):\n",
    "    a[f'var_{i}'] = (a.price.rolling(pd.Timedelta(f'{i}m')).max()\n",
    "                     - a.price.rolling(pd.Timedelta(f'{i}m')).min()) / a.price\n",
    "    count, x = np.histogram(a[f'var_{i}'].dropna(), bins=30)\n",
    "    k = np.argmax(count)\n",
    "    most_freq[i] = x[k], x[k+1]"
   ]
  },
  {
   "cell_type": "code",
   "execution_count": null,
   "metadata": {},
   "outputs": [],
   "source": [
    "np.polyfit(date2num(df.close[0:1]), df.close[0:1].values, 1)"
   ]
  },
  {
   "cell_type": "code",
   "execution_count": null,
   "metadata": {},
   "outputs": [],
   "source": [
    "date2num(pd.Timestamp('20150505'))"
   ]
  },
  {
   "cell_type": "code",
   "execution_count": null,
   "metadata": {},
   "outputs": [],
   "source": [
    "prices = df.close"
   ]
  },
  {
   "cell_type": "code",
   "execution_count": null,
   "metadata": {},
   "outputs": [],
   "source": [
    "%%time\n",
    "last_i = 0\n",
    "err = 0.01\n",
    "slope = np.zeros(len(prices))\n",
    "running_slope = np.zeros(len(prices))\n",
    "z = np.zeros(len(prices))\n",
    "running_z = np.zeros(len(prices))\n",
    "slope_return = np.zeros(len(prices))\n",
    "\n",
    "meanX = date2num(prices.index[0])\n",
    "meanY = prices.iloc[0]\n",
    "n = 1\n",
    "varX = covXY = a = b = 0\n",
    "z[0] = meanY\n",
    "running_z[0] = meanY\n",
    "\n",
    "for i in range(1, len(prices)):\n",
    "    x = date2num(prices.index[i])\n",
    "    y = prices.iloc[i]\n",
    "    \n",
    "    fit_well = abs(a * x + b - y)/y <= err\n",
    "    \n",
    "    if not fit_well:\n",
    "        z[last_i:i] = np.poly1d((a,b))(date2num(prices.index[last_i:i]))\n",
    "        slope[last_i:i] = np.ones(i-last_i) * running_slope[i-1]\n",
    "        slope_return[last_i:i] = (running_z[i-1] - running_z[last_i]) / running_z[last_i]\n",
    "        last_i = i\n",
    "        meanX = date2num(prices.index[i-1])\n",
    "        meanY = prices.iloc[i-1]\n",
    "        n = 1\n",
    "        varX = covXY = a = b = 0\n",
    "    \n",
    "    n += 1\n",
    "    dx = x - meanX\n",
    "    dy = y - meanY\n",
    "    varX += (((n-1)/n)*dx*dx - varX)/n\n",
    "    covXY += (((n-1)/n)*dx*dy - covXY)/n\n",
    "    meanX += dx/n\n",
    "    meanY += dy/n\n",
    "\n",
    "    a = covXY/varX\n",
    "    b = meanY - a*meanX\n",
    "            \n",
    "    running_slope[i] = a\n",
    "    running_z[i] = a * x + b\n",
    "\n",
    "z[last_i:] = np.poly1d((a,b))(date2num(prices.index[last_i:]))\n",
    "slope[last_i:] = np.ones(len(prices)-last_i) * running_slope[-1]\n",
    "slope_return[last_i:] = (running_z[-1] - running_z[last_i]) / running_z[last_i]"
   ]
  },
  {
   "cell_type": "code",
   "execution_count": null,
   "metadata": {},
   "outputs": [],
   "source": [
    "a = pd.DataFrame({'prices': df.close,\n",
    "                  'z': z,\n",
    "                  'running_z': running_z,\n",
    "                  'slope': np.arctan(slope/10000) * 2/np.pi,\n",
    "                  'running_slope': np.arctan(running_slope/10000) * 2/np.pi,\n",
    "                  'slope_return': slope_return})"
   ]
  },
  {
   "cell_type": "code",
   "execution_count": null,
   "metadata": {},
   "outputs": [],
   "source": [
    "a.slope_return.plot()"
   ]
  },
  {
   "cell_type": "code",
   "execution_count": null,
   "metadata": {},
   "outputs": [],
   "source": [
    "a[['prices', 'z', 'running_z']].iloc[-500:].plot(figsize=(14, 8))\n",
    "#a['slope'].apply(np.log).iloc[-1000:].plot(figsize=(14, 4))\n",
    "#(a[['slope']]*0).plot(figsize=(14, 4))"
   ]
  },
  {
   "cell_type": "code",
   "execution_count": null,
   "metadata": {},
   "outputs": [],
   "source": [
    "a[['slope', 'running_slope']].iloc[-1000:].plot(style='.-', figsize=(14, 4))"
   ]
  },
  {
   "cell_type": "code",
   "execution_count": null,
   "metadata": {},
   "outputs": [],
   "source": [
    "b = a[a.slope.values != a.slope.shift(-1)][['slope', 'slope_return']].copy()\n",
    "b['time'] = b.index\n",
    "b['duration'] = (b.time - b.time.shift()).dt.seconds / 60\n",
    "b = b.dropna()\n",
    "b.duration = b.duration.astype(int)\n",
    "b.slope_return = b.slope_return.abs() >= 0.007"
   ]
  },
  {
   "cell_type": "code",
   "execution_count": null,
   "metadata": {},
   "outputs": [],
   "source": [
    "slope_bins = [-.9, -.5, 0, .5, .9]\n",
    "duration_bins = np.linspace(20, 200, 5)"
   ]
  },
  {
   "cell_type": "code",
   "execution_count": null,
   "metadata": {},
   "outputs": [],
   "source": [
    "b['slope_bin'] = pd.cut(b.slope, slope_bins, include_lowest=True)\n",
    "b['duration_bin'] = pd.cut(b.duration, duration_bins, include_lowest=True)\n",
    "b = b.dropna()\n",
    "b['bin'] = list(zip(b['slope_bin'], b['duration_bin'], b['slope_return']))"
   ]
  },
  {
   "cell_type": "code",
   "execution_count": null,
   "metadata": {},
   "outputs": [],
   "source": [
    "states = sorted(b.bin.unique())\n",
    "states = pd.MultiIndex.from_tuples(states)"
   ]
  },
  {
   "cell_type": "code",
   "execution_count": null,
   "metadata": {},
   "outputs": [],
   "source": [
    "m = pd.DataFrame(np.zeros([len(states), len(states)]).astype(int), index=states, columns=states)"
   ]
  },
  {
   "cell_type": "code",
   "execution_count": null,
   "metadata": {},
   "outputs": [],
   "source": [
    "for i in range(1, len(b)):\n",
    "    s1 = b.bin.iloc[i-1]\n",
    "    s2 = b.bin.iloc[i]\n",
    "    m.loc[s1, s2] += 1"
   ]
  },
  {
   "cell_type": "code",
   "execution_count": null,
   "metadata": {},
   "outputs": [],
   "source": [
    "len(states)"
   ]
  },
  {
   "cell_type": "code",
   "execution_count": null,
   "metadata": {},
   "outputs": [],
   "source": [
    "b.groupby('bin').count()"
   ]
  },
  {
   "cell_type": "code",
   "execution_count": null,
   "metadata": {},
   "outputs": [],
   "source": [
    "pd.options.display.max_columns = 30"
   ]
  },
  {
   "cell_type": "code",
   "execution_count": null,
   "metadata": {},
   "outputs": [],
   "source": [
    "(m.div(m.sum(axis=1), axis=0) * 100).astype(int).style.background_gradient()"
   ]
  },
  {
   "cell_type": "markdown",
   "metadata": {},
   "source": [
    "## window drawdown"
   ]
  },
  {
   "cell_type": "code",
   "execution_count": 9,
   "metadata": {},
   "outputs": [],
   "source": [
    "prices = df.close.copy()"
   ]
  },
  {
   "cell_type": "code",
   "execution_count": 10,
   "metadata": {},
   "outputs": [],
   "source": [
    "def smooth_out(prices, quantile=1e-4) -> None:\n",
    "    d2 = prices.shift(-1) - 2*prices + prices.shift(1)\n",
    "    q1 = d2.quantile(quantile)\n",
    "    q2 = d2.quantile(1-quantile)\n",
    "    prices[d2 < q1] = (prices.shift(-1) + prices.shift(1) - q1)/2\n",
    "    prices[d2 > q2] = (prices.shift(-1) + prices.shift(1) - q2)/2\n",
    "\n",
    "smooth_out(prices)"
   ]
  },
  {
   "cell_type": "code",
   "execution_count": 11,
   "metadata": {},
   "outputs": [],
   "source": [
    "def discretize_log_prices(log_bps_prices: pd.Series, increment: int) -> pd.Series:\n",
    "    assert isinstance(increment, int)\n",
    "    return (log_bps_prices // increment) * increment"
   ]
  },
  {
   "cell_type": "code",
   "execution_count": 12,
   "metadata": {},
   "outputs": [],
   "source": [
    "def get_trend(prices, increment=100):\n",
    "    # Return aggregated-discretized-log-bps prices\n",
    "    # increment is in BPS\n",
    "    # Reminding the 1 BPS = 0.01% = 0.0001 = 1e-4\n",
    "    \n",
    "    trend = pd.DataFrame({'price': (1e4 * np.log(prices.values)).astype(int)},\n",
    "                        index=prices.index)\n",
    "    trend['price'] = discretize_log_prices(trend['price'], increment)\n",
    "    trend['return'] = trend['price'].diff()\n",
    "    trend.dropna(inplace=True)\n",
    "    trend = trend[trend['return'] != 0.].astype(int)\n",
    "    \n",
    "    return trend"
   ]
  },
  {
   "cell_type": "code",
   "execution_count": 13,
   "metadata": {},
   "outputs": [],
   "source": [
    "def add_pattern_label(trend, max_return, increment_return, label_type: str) -> None:\n",
    "    # Add predictor/response labels\n",
    "    # Predictor: the bucketized return\n",
    "    # Response: -increment_return, +increment_return, or 0\n",
    "    \n",
    "    labels = np.arange(0, max_return + 1, increment_return)\n",
    "    labels = np.r_[-labels[-1:0:-1], labels]\n",
    "\n",
    "    cut = np.r_[labels[:len(labels)//2], labels[len(labels)//2 + 1:]]\n",
    "    # This is to not include the lower bond for negative numbers\n",
    "    cut[cut < 0] += 1\n",
    "\n",
    "    assert len(cut)+1 == len(labels)\n",
    "\n",
    "    t = np.digitize(trend['return'], cut)\n",
    "    trend[label_type] = labels[t]"
   ]
  },
  {
   "cell_type": "code",
   "execution_count": 14,
   "metadata": {},
   "outputs": [],
   "source": [
    "def get_best_scores(trend, N, threshold) -> 'score, pattern':\n",
    "    # N number of elements in the pattern\n",
    "    # 0 < threshold < 1, score which the pattern is considered good\n",
    "    # pattern = vector of predictor_label + response_label\n",
    "    \n",
    "    m = defaultdict(int)\n",
    "    \n",
    "    def f(s):\n",
    "        v = trend.loc[s.index[-1], 'response_label']\n",
    "        m[tuple(s.values[:-1].astype(int)) + (v,)] += 1\n",
    "        return 0.\n",
    "    \n",
    "    _ = trend.rolling(N)['predictor_label'].apply(f)\n",
    "    \n",
    "    predictors = Counter(i[:len(i)-1] for i in m)\n",
    "    \n",
    "    def score(p):\n",
    "        matches = {i:j for i,j in m.items() if p == i[:len(p)]}\n",
    "        # We add +1 and +2 as a technique to avoid 100%, which is unrealistic\n",
    "        score_ = (max(matches.values()) + 1) / (sum(matches.values()) + 2)\n",
    "        best = max(matches, key=lambda k: matches[k])\n",
    "        s = Score(freq=score_, num=matches[best], predictor=p, response=best[-1])\n",
    "        return s\n",
    "    \n",
    "    scores = sorted((score(p) for p in predictors), reverse=True)\n",
    "    scores = [i for i in scores if i.freq >= threshold]\n",
    "    \n",
    "    return scores"
   ]
  },
  {
   "cell_type": "code",
   "execution_count": 15,
   "metadata": {},
   "outputs": [],
   "source": [
    "def combine_scores(best_scores, filter_score=None):\n",
    "    best_scores = list(best_scores)\n",
    "    \n",
    "    to_remove = []\n",
    "    for i, s1 in enumerate(best_scores):\n",
    "        b = s1.predictor\n",
    "        for j, s2 in enumerate(best_scores):\n",
    "            b2 = s2.predictor\n",
    "            if len(b) > len(b2) and b2 == b[len(b)-len(b2):]:\n",
    "                #print(f'Removing {b}, keeping {b2}')\n",
    "                to_remove.append(i)\n",
    "                break\n",
    "    \n",
    "    for j in reversed(sorted(to_remove)):\n",
    "        del best_scores[j]\n",
    "    to_remove.clear()\n",
    "    best_scores = list(reversed(sorted(best_scores)))\n",
    "    \n",
    "    if filter_score:\n",
    "        best_scores = [i for i in best_scores if not filter_score(i)]\n",
    "    \n",
    "    return best_scores"
   ]
  },
  {
   "cell_type": "code",
   "execution_count": 16,
   "metadata": {},
   "outputs": [],
   "source": [
    "def gen_multiple_scores(threshold=0.7,\n",
    "                        price_increment=100, first_N=2, last_N=10, max_predictor=400, max_response=100,\n",
    "                        filter_score=None):\n",
    "    # price_increment, max_predictor and max_response in BPS\n",
    "    # 0 < threshold < 1, score which the pattern is considered good\n",
    "    assert 0 < threshold < 1\n",
    "    assert isinstance(price_increment, int)\n",
    "    assert isinstance(max_predictor, int)\n",
    "    assert isinstance(max_response, int)\n",
    "    \n",
    "    trend = get_trend(prices, increment=price_increment)\n",
    "    \n",
    "    add_pattern_label(trend, max_return=max_predictor, increment_return=price_increment,\n",
    "                     label_type='predictor_label')\n",
    "    \n",
    "    add_pattern_label(trend, max_return=max_response, increment_return=price_increment,\n",
    "                     label_type='response_label')\n",
    "        \n",
    "    # HACKY, but can't think a better place to put this\n",
    "    # we don't care about 0 response\n",
    "    #trend['response_label'].replace({0: np.nan}, inplace=True)\n",
    "    #trend['response_label'].bfill(inplace=True)\n",
    "    \n",
    "    # Maybe this is not statistically good, but let's try\n",
    "    #trend['predictor_label'].replace({0: np.nan}, inplace=True)\n",
    "    #trend['predictor_label'].bfill(inplace=True)\n",
    "    \n",
    "    best_scores = []\n",
    "    for i in range(first_N,last_N):\n",
    "        best_scores = best_scores + get_best_scores(trend, i, threshold=threshold)\n",
    "    \n",
    "    return combine_scores(best_scores, filter_score)"
   ]
  },
  {
   "cell_type": "code",
   "execution_count": 17,
   "metadata": {},
   "outputs": [],
   "source": [
    "def estimate_APY(best_scores, ret, stop_loss):\n",
    "    # stop_loss: return in the other direction so we exit the position\n",
    "    # Ret in %, not BPS\n",
    "    # Stop loss in %, not BPS\n",
    "    if not best_scores:\n",
    "        return 0.\n",
    "\n",
    "    \n",
    "    num_trades = sum([i.num for i in best_scores])\n",
    "    freq = np.mean([i.freq for i in best_scores])\n",
    "    print(f'freq mean={round(freq, 2)}, num_trades={num_trades}')\n",
    "\n",
    "    APY = 0\n",
    "    for s in best_scores:\n",
    "        freq = s.freq\n",
    "        profit = freq  * ret\n",
    "        loss = stop_loss * (1-freq)\n",
    "        fee =  (2+ret)  * 0.0026\n",
    "        fee =  0.0026 + 0.0026* (1-freq) + 0.0016*freq\n",
    "\n",
    "        s.apy = (profit - loss - fee) * s.num\n",
    "        APY += s.apy # (profit - loss - fee) * s.num\n",
    "        s.apy = round(s.apy, 2)\n",
    "\n",
    "    # adjust for 1 year of trading\n",
    "    period = 365 / (prices.index[-1] - prices.index[0]).days\n",
    "    APY *= period\n",
    "    \n",
    "    best_scores.sort(reverse=True)\n",
    "    return APY\n",
    "\n",
    "# TODO: think as way to recover from loss other then stop loss.\n",
    "# How bad is just wait?"
   ]
  },
  {
   "cell_type": "code",
   "execution_count": 18,
   "metadata": {},
   "outputs": [],
   "source": [
    "def break_even(ret, stop_loss, fee=0.0026) -> 'threshold':\n",
    "    return ((2+ret)  * fee + stop_loss) / (ret + stop_loss)"
   ]
  },
  {
   "cell_type": "code",
   "execution_count": 19,
   "metadata": {},
   "outputs": [
    {
     "data": {
      "text/plain": [
       "0.6313"
      ]
     },
     "execution_count": 19,
     "metadata": {},
     "output_type": "execute_result"
    }
   ],
   "source": [
    "break_even(0.02, 0.020)"
   ]
  },
  {
   "cell_type": "code",
   "execution_count": 20,
   "metadata": {},
   "outputs": [],
   "source": [
    "def predict(returns, best_scores):\n",
    "    returns = tuple(returns)\n",
    "    for s in best_scores:\n",
    "        seq, prediction = s.predictor, s.response\n",
    "        size_diff = len(seq) - len(returns)\n",
    "        seq = seq[max(size_diff, 0):]\n",
    "        r = returns[max(-size_diff, 0):]\n",
    "        assert len(r) == len(seq)\n",
    "        if r == seq:\n",
    "            return prediction\n",
    "        "
   ]
  },
  {
   "cell_type": "code",
   "execution_count": 21,
   "metadata": {},
   "outputs": [],
   "source": [
    "def filter_score(x):\n",
    "    # True to remove\n",
    "    # x in BPS\n",
    "    return -99 < x.response < 99 or x.num < 10"
   ]
  },
  {
   "cell_type": "code",
   "execution_count": null,
   "metadata": {},
   "outputs": [],
   "source": [
    "%%time\n",
    "best_scores_005 = gen_multiple_scores(threshold=0.78, price_increment=0.005,\n",
    "                                      first_N=2, last_N=10, max_predictor=0.04, max_response=0.01,\n",
    "                                     filter_score=filter_score)"
   ]
  },
  {
   "cell_type": "code",
   "execution_count": null,
   "metadata": {},
   "outputs": [],
   "source": [
    "%%time\n",
    "best_scores_01 = gen_multiple_scores(threshold=0.78, price_increment=0.01,\n",
    "                                     first_N=2, last_N=10, max_predictor=0.04, max_response=0.01,\n",
    "                                     filter_score=filter_score)"
   ]
  },
  {
   "cell_type": "code",
   "execution_count": null,
   "metadata": {},
   "outputs": [],
   "source": [
    "estimate_APY(best_scores_005, 0.01, stop_loss=0.01)"
   ]
  },
  {
   "cell_type": "code",
   "execution_count": null,
   "metadata": {},
   "outputs": [],
   "source": [
    "estimate_APY(best_scores_01, 0.01, stop_loss=0.01)"
   ]
  },
  {
   "cell_type": "code",
   "execution_count": 241,
   "metadata": {},
   "outputs": [],
   "source": [
    "best2 = (0, [])"
   ]
  },
  {
   "cell_type": "code",
   "execution_count": 31,
   "metadata": {},
   "outputs": [
    {
     "name": "stdout",
     "output_type": "stream",
     "text": [
      "for max_response=0.01, for max_predictor=0.01, for price_increment=0.01, break even =0.7613\n"
     ]
    },
    {
     "ename": "AssertionError",
     "evalue": "",
     "output_type": "error",
     "traceback": [
      "\u001b[0;31m---------------------------------------------------------------------------\u001b[0m",
      "\u001b[0;31mAssertionError\u001b[0m                            Traceback (most recent call last)",
      "\u001b[0;32m<timed exec>\u001b[0m in \u001b[0;36m<module>\u001b[0;34m\u001b[0m\n",
      "\u001b[0;32m<ipython-input-25-dbc2fa6a27c9>\u001b[0m in \u001b[0;36mgen_multiple_scores\u001b[0;34m(threshold, price_increment, first_N, last_N, max_predictor, max_response, filter_score)\u001b[0m\n\u001b[1;32m      5\u001b[0m     \u001b[0;31m# 0 < threshold < 1, score which the pattern is considered good\u001b[0m\u001b[0;34m\u001b[0m\u001b[0;34m\u001b[0m\u001b[0;34m\u001b[0m\u001b[0m\n\u001b[1;32m      6\u001b[0m \u001b[0;34m\u001b[0m\u001b[0m\n\u001b[0;32m----> 7\u001b[0;31m     \u001b[0;32massert\u001b[0m \u001b[0misinstance\u001b[0m\u001b[0;34m(\u001b[0m\u001b[0mprice_increment\u001b[0m\u001b[0;34m,\u001b[0m \u001b[0mint\u001b[0m\u001b[0;34m)\u001b[0m\u001b[0;34m\u001b[0m\u001b[0;34m\u001b[0m\u001b[0m\n\u001b[0m\u001b[1;32m      8\u001b[0m     \u001b[0;32massert\u001b[0m \u001b[0misinstance\u001b[0m\u001b[0;34m(\u001b[0m\u001b[0mmax_predictor\u001b[0m\u001b[0;34m,\u001b[0m \u001b[0mint\u001b[0m\u001b[0;34m)\u001b[0m\u001b[0;34m\u001b[0m\u001b[0;34m\u001b[0m\u001b[0m\n\u001b[1;32m      9\u001b[0m     \u001b[0;32massert\u001b[0m \u001b[0misinstance\u001b[0m\u001b[0;34m(\u001b[0m\u001b[0mmax_response\u001b[0m\u001b[0;34m,\u001b[0m \u001b[0mint\u001b[0m\u001b[0;34m)\u001b[0m\u001b[0;34m\u001b[0m\u001b[0;34m\u001b[0m\u001b[0m\n",
      "\u001b[0;31mAssertionError\u001b[0m: "
     ]
    }
   ],
   "source": [
    "%%time\n",
    "for max_predictor in (0.01, 0.02, 0.03):\n",
    "    for max_response in (0.01, 0.02, 0.03):\n",
    "        for price_increment in (0.01, 0.02, 0.03):\n",
    "            print(f'for max_response={max_response}, ', end='')\n",
    "            print(f'for max_predictor={max_predictor}, ', end='')\n",
    "            print(f'for price_increment={price_increment}, ', end='')\n",
    "            print(f'break even ={break_even(price_increment,price_increment)}')\n",
    "            APY = estimate_APY(gen_multiple_scores(threshold=break_even(price_increment,price_increment),\n",
    "                                                   price_increment=price_increment,\n",
    "                                                   first_N=2, last_N=10,\n",
    "                                                   max_predictor=max_predictor,\n",
    "                                                   max_response=max_response,\n",
    "                                                   filter_score=filter_score),\n",
    "                               ret=price_increment, stop_loss=price_increment)\n",
    "\n",
    "            print(f'APY={APY}')\n",
    "            if best2[0] < APY:\n",
    "                best2 = (APY, (max_response, max_predictor, price_increment))"
   ]
  },
  {
   "cell_type": "markdown",
   "metadata": {},
   "source": [
    "### Test"
   ]
  },
  {
   "cell_type": "code",
   "execution_count": 22,
   "metadata": {},
   "outputs": [
    {
     "name": "stdout",
     "output_type": "stream",
     "text": [
      "CPU times: user 26 s, sys: 307 ms, total: 26.3 s\n",
      "Wall time: 27.4 s\n"
     ]
    }
   ],
   "source": [
    "%%time\n",
    "max_response=200\n",
    "max_predictor=500\n",
    "price_increment=100\n",
    "best_score_max = gen_multiple_scores(threshold=break_even(price_increment*1e-4,price_increment*1e-4),\n",
    "                                     price_increment=price_increment,\n",
    "                                     first_N=2, last_N=10,\n",
    "                                     max_predictor=max_predictor,\n",
    "                                     max_response=max_response,\n",
    "                                     filter_score=filter_score)"
   ]
  },
  {
   "cell_type": "code",
   "execution_count": 24,
   "metadata": {},
   "outputs": [
    {
     "name": "stdout",
     "output_type": "stream",
     "text": [
      "freq mean=0.8, num_trades=2532\n"
     ]
    },
    {
     "data": {
      "text/plain": [
       "2.373485825892858"
      ]
     },
     "execution_count": 24,
     "metadata": {},
     "output_type": "execute_result"
    }
   ],
   "source": [
    "estimate_APY(best_score_max, ret=price_increment*1e-4, stop_loss=price_increment*1e-4)"
   ]
  },
  {
   "cell_type": "code",
   "execution_count": 25,
   "metadata": {},
   "outputs": [
    {
     "data": {
      "text/plain": [
       "[Score(apy=1.15, freq=0.77, num=1188,predictor=(100, -100, 100, -100, 100, -100), response=100),\n",
       " Score(apy=0.22, freq=0.77, num=231,predictor=(-100, 100, -100, 100, 100, -100, 100, -100), response=100),\n",
       " Score(apy=0.18, freq=0.78, num=151,predictor=(-100, 100, -100, 100, 100, 100), response=-100),\n",
       " Score(apy=0.12, freq=0.8, num=77,predictor=(-100, 100, 100, -100, 100, 100, -100, 100), response=-100),\n",
       " Score(apy=0.12, freq=0.8, num=77,predictor=(100, 100, -100, 100, -100, -100, 100, -100), response=100),\n",
       " Score(apy=0.11, freq=0.78, num=89,predictor=(-100, -100, 100, 100, -100, 100, -100, 100), response=-100),\n",
       " Score(apy=0.1, freq=0.8, num=62,predictor=(100, -100, 100, -100, 100, -100, -100, -100), response=100),\n",
       " Score(apy=0.09, freq=0.82, num=44,predictor=(-100, 100, -100, -100, -100, -100), response=100),\n",
       " Score(apy=0.08, freq=0.79, num=54,predictor=(-100, -100, -100, 100, -100, -100), response=100),\n",
       " Score(apy=0.08, freq=0.77, num=87,predictor=(100, -100, 100, 100, -100, -100, 100, -100), response=100),\n",
       " Score(apy=0.08, freq=0.77, num=81,predictor=(-100, -100, 100, 100, 100, -100), response=100),\n",
       " Score(apy=0.06, freq=0.79, num=41,predictor=(100, 100, -100, -100, 100, -100, 100, 100), response=-100),\n",
       " Score(apy=0.05, freq=0.89, num=15,predictor=(100, -100, 100, 100, 100, 100, -100, -100), response=100),\n",
       " Score(apy=0.04, freq=0.92, num=10,predictor=(-100, 100, -100, 100, 100, 100, 100, 100), response=-100),\n",
       " Score(apy=0.04, freq=0.85, num=16,predictor=(100, 100, 100, 100, 100, -100, 100), response=-100),\n",
       " Score(apy=0.04, freq=0.78, num=30,predictor=(100, -100, -100, -100, 100, 100, -100, 100), response=-100),\n",
       " Score(apy=0.03, freq=0.82, num=17,predictor=(100, 100, 100, -100, 100, 100, -100, -100), response=100),\n",
       " Score(apy=0.03, freq=0.82, num=17,predictor=(100, 100, 100, -100, -100, 100, 100, -100), response=100),\n",
       " Score(apy=0.03, freq=0.8, num=19,predictor=(-100, -100, -100, 100, -100, -100, 100, 100), response=-100),\n",
       " Score(apy=0.03, freq=0.79, num=25,predictor=(-100, -100, -100, 100, -100, -100, 100, -100), response=100),\n",
       " Score(apy=0.03, freq=0.79, num=22,predictor=(100, 100, -100, -100, 100, 100, 100), response=-100),\n",
       " Score(apy=0.03, freq=0.77, num=36,predictor=(100, -100, 100, 100, -100, -100, -100), response=100),\n",
       " Score(apy=0.03, freq=0.77, num=32,predictor=(-100, -100, 100, -100, -100, 100, -100, -100), response=100),\n",
       " Score(apy=0.02, freq=0.8, num=11,predictor=(-100, -100, -100, 100, -100, -100, -100), response=100),\n",
       " Score(apy=0.02, freq=0.78, num=20,predictor=(100, 100, 100, -100, -100, 100, 100), response=-100),\n",
       " Score(apy=0.02, freq=0.78, num=17,predictor=(-100, -100, 100, 100, -100, 100, 100, 100), response=-100),\n",
       " Score(apy=0.02, freq=0.77, num=22,predictor=(100, -100, -100, -100, -100, 100, 100), response=-100),\n",
       " Score(apy=0.02, freq=0.77, num=22,predictor=(-100, -100, 100, 100, 100, 100, -100), response=100),\n",
       " Score(apy=0.02, freq=0.77, num=19,predictor=(100, 100, 100, -100, 100, 100, 100), response=-100)]"
      ]
     },
     "execution_count": 25,
     "metadata": {},
     "output_type": "execute_result"
    }
   ],
   "source": [
    "best_score_max"
   ]
  },
  {
   "cell_type": "code",
   "execution_count": 25,
   "metadata": {},
   "outputs": [
    {
     "data": {
      "text/plain": [
       "True"
      ]
     },
     "execution_count": 25,
     "metadata": {},
     "output_type": "execute_result"
    }
   ],
   "source": [
    "(1,2,3,3) < (3,4,5)"
   ]
  },
  {
   "cell_type": "code",
   "execution_count": 39,
   "metadata": {},
   "outputs": [
    {
     "name": "stdout",
     "output_type": "stream",
     "text": [
      "yes! (100, -100, 100, -100, 100, -100) VS (100, -100, 100, -100, 100, -100, -100, -100)\n",
      "yes! (100, -100, 100, -100, 100, -100) VS (100, -100, 100, -100, 100, -100)\n",
      "yes! (-100, 100, -100, 100, 100, 100) VS (-100, 100, -100, 100, 100, 100, 100, 100)\n",
      "yes! (-100, -100, -100, 100, -100, -100) VS (-100, -100, -100, 100, -100, -100, 100, 100)\n",
      "yes! (-100, -100, -100, 100, -100, -100) VS (-100, -100, -100, 100, -100, -100, 100, -100)\n",
      "yes! (-100, -100, -100, 100, -100, -100) VS (-100, -100, -100, 100, -100, -100, -100)\n",
      "yes! (100, 100, 100, -100, -100, 100, 100) VS (100, 100, 100, -100, -100, 100, 100, -100)\n"
     ]
    }
   ],
   "source": [
    "for i in best_score_max:\n",
    "    i = i.predictor\n",
    "    for j in best_score_max:        \n",
    "        j = j.predictor\n",
    "        if i < j:\n",
    "            if len(j) < len(i):\n",
    "                a,b =j,a\n",
    "            else:\n",
    "                a,b = i,j\n",
    "            if b[:len(a)] == a:\n",
    "                print(f'yes! {a} VS {b}')"
   ]
  },
  {
   "cell_type": "code",
   "execution_count": 40,
   "metadata": {},
   "outputs": [
    {
     "name": "stdout",
     "output_type": "stream",
     "text": [
      "Score(apy=1.15, freq=0.77, num=1188,predictor=(100, -100, 100, -100, 100, -100), response=100)\n"
     ]
    }
   ],
   "source": [
    "for i in best_score_max:\n",
    "    if i.predictor == (100, -100, 100, -100, 100, -100):\n",
    "        print(i)"
   ]
  },
  {
   "cell_type": "code",
   "execution_count": null,
   "metadata": {},
   "outputs": [],
   "source": []
  },
  {
   "cell_type": "code",
   "execution_count": null,
   "metadata": {},
   "outputs": [],
   "source": [
    "best_inc = {}\n",
    "for i in (0.01, 0.02, 0.03, 0.04, 0.05, 0.06, 0.07, 0.08, 0.09, 0.1):\n",
    "    print(i)\n",
    "    max_response=i\n",
    "    max_predictor=i\n",
    "    price_increment=i\n",
    "    best_score_max = gen_multiple_scores(threshold=break_even(price_increment,price_increment),\n",
    "                                 price_increment=price_increment,\n",
    "                                 first_N=2, last_N=10,\n",
    "                                 max_predictor=max_predictor,\n",
    "                                 max_response=max_response,\n",
    "                                 filter_score=filter_score)   \n",
    "    best_inc[i] = best_score_max\n",
    "    print(estimate_APY(best_score_max, i, i))"
   ]
  },
  {
   "cell_type": "code",
   "execution_count": null,
   "metadata": {},
   "outputs": [],
   "source": [
    "best_inc"
   ]
  },
  {
   "cell_type": "markdown",
   "metadata": {},
   "source": [
    "# Github Package"
   ]
  },
  {
   "cell_type": "code",
   "execution_count": null,
   "metadata": {},
   "outputs": [],
   "source": [
    "from backtesting import Backtest, Strategy\n",
    "from backtesting.lib import crossover"
   ]
  },
  {
   "cell_type": "code",
   "execution_count": null,
   "metadata": {},
   "outputs": [],
   "source": [
    "import backtesting"
   ]
  },
  {
   "cell_type": "code",
   "execution_count": null,
   "metadata": {},
   "outputs": [],
   "source": [
    "from backtesting.test import SMA, GOOG\n"
   ]
  },
  {
   "cell_type": "code",
   "execution_count": null,
   "metadata": {},
   "outputs": [],
   "source": [
    "df.columns"
   ]
  },
  {
   "cell_type": "code",
   "execution_count": null,
   "metadata": {},
   "outputs": [],
   "source": [
    "df.columns = ['Open', 'High', 'Low', 'Close', 'Volume', 'Trades']"
   ]
  },
  {
   "cell_type": "code",
   "execution_count": null,
   "metadata": {},
   "outputs": [],
   "source": [
    "len(df.iloc[:4000])"
   ]
  },
  {
   "cell_type": "code",
   "execution_count": null,
   "metadata": {
    "scrolled": true
   },
   "outputs": [],
   "source": [
    "from backtesting.test import SMA, GOOG\n",
    "\n",
    "\n",
    "class SmaCross(Strategy):\n",
    "    def init(self):\n",
    "        price = self.data.Close\n",
    "        self.ma1 = self.I(SMA, price, 10)\n",
    "        self.ma2 = self.I(SMA, price, 20)\n",
    "\n",
    "    def next(self):\n",
    "        if crossover(self.ma1, self.ma2):\n",
    "            self.buy()\n",
    "        elif crossover(self.ma2, self.ma1):\n",
    "            self.sell()\n",
    "\n",
    "\n",
    "bt = Backtest(GOOG, SmaCross, commission=.002,\n",
    "              exclusive_orders=True)\n",
    "stats = bt.run()\n",
    "bt.plot()"
   ]
  },
  {
   "cell_type": "code",
   "execution_count": null,
   "metadata": {},
   "outputs": [],
   "source": [
    "Backtest.plot()"
   ]
  },
  {
   "cell_type": "markdown",
   "metadata": {},
   "source": [
    "## Kraken download"
   ]
  },
  {
   "cell_type": "code",
   "execution_count": null,
   "metadata": {},
   "outputs": [],
   "source": [
    "import krakenex\n",
    "from pykrakenapi import KrakenAPI\n",
    "api = krakenex.API()\n",
    "k = KrakenAPI(api)\n",
    "\n",
    "    "
   ]
  },
  {
   "cell_type": "code",
   "execution_count": null,
   "metadata": {},
   "outputs": [],
   "source": [
    "int(pd.Timestamp('20210101 00:02:00').timestamp())"
   ]
  },
  {
   "cell_type": "code",
   "execution_count": null,
   "metadata": {},
   "outputs": [],
   "source": [
    "pd.Timestamp(1548111600 * 1e9)"
   ]
  },
  {
   "cell_type": "code",
   "execution_count": null,
   "metadata": {},
   "outputs": [],
   "source": [
    "k.get_ohlc_data?"
   ]
  },
  {
   "cell_type": "code",
   "execution_count": null,
   "metadata": {},
   "outputs": [],
   "source": [
    "import requests\n",
    "\n",
    "start = '2021-03-31 23:52:00'\n",
    "end = '2021-05-30 23:00:00'\n",
    "\n",
    "start = int(pd.Timestamp(start).timestamp()) * 1e9\n",
    "end = int(pd.Timestamp(end).timestamp()) * 1e9\n",
    "last = start"
   ]
  },
  {
   "cell_type": "code",
   "execution_count": null,
   "metadata": {},
   "outputs": [],
   "source": [
    "final = []\n",
    "while True:\n",
    "    resp = requests.get(f'https://api.kraken.com/0/public/Trades?pair=BTCUSD&since={last}')\n",
    "    r = resp.json()\n",
    "    if r['error']:\n",
    "        raise Exception(r['error'])\n",
    "    r = r['result']\n",
    "    last = r['last']\n",
    "    final = final + r['XXBTZUSD']\n",
    "    print(f'final is {pd.Timestamp(int(last))}')\n",
    "    sleep(2.1)"
   ]
  },
  {
   "cell_type": "code",
   "execution_count": null,
   "metadata": {},
   "outputs": [],
   "source": [
    "pd.Timestamp(1622431239065055006)"
   ]
  },
  {
   "cell_type": "code",
   "execution_count": null,
   "metadata": {},
   "outputs": [],
   "source": []
  }
 ],
 "metadata": {
  "kernelspec": {
   "display_name": "Python 3",
   "language": "python",
   "name": "python3"
  },
  "language_info": {
   "codemirror_mode": {
    "name": "ipython",
    "version": 3
   },
   "file_extension": ".py",
   "mimetype": "text/x-python",
   "name": "python",
   "nbconvert_exporter": "python",
   "pygments_lexer": "ipython3",
   "version": "3.9.4"
  },
  "toc": {
   "base_numbering": 1,
   "nav_menu": {},
   "number_sections": true,
   "sideBar": true,
   "skip_h1_title": false,
   "title_cell": "Table of Contents",
   "title_sidebar": "Contents",
   "toc_cell": false,
   "toc_position": {
    "height": "calc(100% - 180px)",
    "left": "10px",
    "top": "150px",
    "width": "165px"
   },
   "toc_section_display": true,
   "toc_window_display": true
  }
 },
 "nbformat": 4,
 "nbformat_minor": 4
}
