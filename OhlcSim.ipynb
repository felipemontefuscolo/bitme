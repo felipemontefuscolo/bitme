{
 "cells": [
  {
   "cell_type": "markdown",
   "metadata": {},
   "source": [
    "# Imports"
   ]
  },
  {
   "cell_type": "code",
   "execution_count": 1,
   "metadata": {},
   "outputs": [],
   "source": [
    "\n",
    "import pandas as pd\n",
    "import numpy as np\n",
    "import math\n",
    "from itertools import product\n",
    "from tqdm.notebook import tqdm, trange\n",
    "from matplotlib import pyplot as plt\n",
    "\n",
    "import os"
   ]
  },
  {
   "cell_type": "code",
   "execution_count": 2,
   "metadata": {},
   "outputs": [],
   "source": [
    "df = pd.read_csv('data/XBTUSDC_1.csv', header=None,\n",
    "                 names=['time', 'open', 'high', 'low', 'close', 'volume', 'trades'])\n",
    "df.set_index('time', inplace=True)\n",
    "df.index = pd.DatetimeIndex(df.index * 1e+9)"
   ]
  },
  {
   "cell_type": "code",
   "execution_count": 3,
   "metadata": {},
   "outputs": [
    {
     "data": {
      "text/plain": [
       "80826"
      ]
     },
     "execution_count": 3,
     "metadata": {},
     "output_type": "execute_result"
    }
   ],
   "source": [
    "len(df)"
   ]
  },
  {
   "cell_type": "code",
   "execution_count": 4,
   "metadata": {},
   "outputs": [],
   "source": [
    "class Trader1:\n",
    "    # Bollinger: https://www.investopedia.com/trading/using-bollinger-bands-to-gauge-trends/#:~:text=Using%20the%20bands%20as%20overbought,have%20deviated%20from%20the%20mean.\n",
    "    def __init__(self, n_cycles, n_devs, qty, take_at=0.005, fee=0.0026):\n",
    "        # qty = quantity to trade at a time\n",
    "        # EMA = Closing price x multiplier + EMA (previous day) x (1-multiplier)\n",
    "        # \n",
    "        # BOLU=MA(TP,n)+m∗σ[TP,n]\n",
    "        # BOLD=MA(TP,n)−m∗σ[TP,n]\n",
    "        # where:\n",
    "        # BOLU=Upper Bollinger Band\n",
    "        # BOLD=Lower Bollinger Band\n",
    "        # MA=Moving average\n",
    "        # TP (typical price)=(High+Low+Close)÷3\n",
    "        # n=Number of cycles in smoothing period ... n_cycles\n",
    "        # m=Number of standard deviations ... n_devs\n",
    "        # σ[TP,n]=Standard Deviation over last n periods of TP\n",
    "        #\n",
    "        # take_at = take profit at p0 * (1 + someting% + 2*fee)\n",
    "        self.N = n_cycles\n",
    "        self.M = n_devs\n",
    "        self.qty = qty\n",
    "        self.take_at = take_at\n",
    "        self.fee = fee\n",
    "        self.prices = np.array([0.] * self.N)\n",
    "        \n",
    "        self.sma = None\n",
    "        self.upper = None\n",
    "        self.lower = None\n",
    "        self.var = None\n",
    "        self.std = None\n",
    "        self.open_price = None\n",
    "        self.profit_price = None\n",
    "        self.loss_price = None\n",
    "    \n",
    "        self.position = 0\n",
    "        self.trades = []\n",
    "        \n",
    "        self.warming_up = True\n",
    "        self.i = 0\n",
    "    \n",
    "    def update(self, cycle, ohlc: dict, price):\n",
    "        _, high, low, close = self._unpack(ohlc)\n",
    "\n",
    "        last_price = self.prices[self.i]\n",
    "        self.prices[self.i] = price\n",
    "        self.i += 1\n",
    "        if self.i == len(self.prices):\n",
    "            self.i = 0\n",
    "            if self.warming_up:\n",
    "                self.warming_up = False\n",
    "                self.sma = np.mean(self.prices)\n",
    "                self.var = np.var(self.prices)\n",
    "                self.std = math.sqrt(self.var)\n",
    "                self.upper = self.sma + self.M * self.std\n",
    "                self.lower = self.sma - self.M * self.std\n",
    "                return\n",
    "\n",
    "        if not self.warming_up:\n",
    "            old_sma = self.sma\n",
    "            self.sma += (price - last_price) / self.N\n",
    "            self.var += (price - self.sma + last_price - old_sma)*(price - last_price)/(self.N)\n",
    "            self.var = self.check_var(self.var)\n",
    "            self.std = math.sqrt(self.var)\n",
    "            self.upper = self.sma + self.M * self.std\n",
    "            self.lower = self.sma - self.M * self.std\n",
    "            \n",
    "    def check(self, x):\n",
    "        if np.abs(x) > 0.01:\n",
    "            raise\n",
    "    \n",
    "    def check_var(self, var):\n",
    "        if var < 0:\n",
    "            if abs(var) >= 1.e-4:\n",
    "                raise Exception(f'var was {var}')\n",
    "            return 0.\n",
    "        return var\n",
    "    \n",
    "    def trade(self) -> float:  # return number of shares to trade\n",
    "        if self.warming_up:\n",
    "            return None\n",
    "        price = self.prices[self.i]\n",
    "        # buy\n",
    "        if price < self.lower and self.position <= 0:\n",
    "            if self.position == 0:\n",
    "                self.open_price = price\n",
    "                self.profit_price = price + self.take_at + 2*self.fee\n",
    "                self.loss_price = price - (self.take_at + 2*self.fee)\n",
    "            self.position += self.qty\n",
    "            return self.qty\n",
    "    \n",
    "        # sell\n",
    "        if price > self.upper and self.position >= 0:\n",
    "            if self.position == 0:\n",
    "                self.open_price = price\n",
    "                self.loss_price = price + self.take_at + 2*self.fee\n",
    "                self.profit_price = price - (self.take_at + 2*self.fee)\n",
    "            self.position -= self.qty\n",
    "            return -self.qty\n",
    "        \n",
    "        # profit\n",
    "        if self.position > 0:\n",
    "            if not self.loss_price <= price <= self.profit_price:\n",
    "                self.position -= self.qty\n",
    "                return -self.qty\n",
    "        elif self.position < 0:\n",
    "            if not self.profit_price <= price <= self.loss_price:\n",
    "                self.position += self.qty\n",
    "                return +self.qty\n",
    "    \n",
    "    @staticmethod\n",
    "    def _unpack(ohlc: dict):\n",
    "        return ohlc['open'], ohlc['high'], ohlc['low'], ohlc['close']"
   ]
  },
  {
   "cell_type": "markdown",
   "metadata": {},
   "source": [
    "# DcatTrader"
   ]
  },
  {
   "cell_type": "code",
   "execution_count": 111,
   "metadata": {},
   "outputs": [],
   "source": [
    "# Model that assumes we have aggregated information from the future\n",
    "class DcatTrader:\n",
    "    def __init__(self, window, actual_prices, take_min, qty):\n",
    "        self.y = self.get_y2(window, actual_prices)\n",
    "        self.i = -1\n",
    "        self.position = 0\n",
    "        self.entry_price = 0\n",
    "        self.price = 0\n",
    "        self.take_min = take_min\n",
    "        self.qty = qty\n",
    "        \n",
    "    def update(self, _, __, price):\n",
    "        self.i += 1\n",
    "        self.price = price\n",
    "        \n",
    "        pass\n",
    "    \n",
    "    def trade(self):\n",
    "        if np.isnan(self.y[self.i]):\n",
    "            return\n",
    "        \n",
    "        if self.position == 0:\n",
    "            is_good_buy = self.y[self.i] >= self.take_min\n",
    "            is_good_sell = self.y[self.i] <= -self.take_min\n",
    "        else:\n",
    "            r = (self.price - self.entry_price)/self.entry_price\n",
    "            \n",
    "            is_good_buy = self.position < 0 and r <= -self.take_min\n",
    "            is_good_sell = self.position > 0 and r >= self.take_min\n",
    "            \n",
    "        if is_good_buy:\n",
    "            self.entry_price = self.price if self.position == 0 else np.nan\n",
    "            self.position += self.qty  \n",
    "            return self.qty\n",
    "        elif is_good_sell:\n",
    "            self.entry_price = self.price if self.position == 0 else np.nan\n",
    "            self.position -= self.qty \n",
    "            return -self.qty          \n",
    "            \n",
    "        return 0\n",
    "    \n",
    "    def get_y2(self, w, prices):\n",
    "        ma = prices.iloc[::-1].rolling(w).max()\n",
    "        mi = prices.iloc[::-1].rolling(w).min()\n",
    "        s = (ma + mi).iloc[::-1]\n",
    "        return (.5*(s - 2.*prices)/prices)"
   ]
  },
  {
   "cell_type": "code",
   "execution_count": 122,
   "metadata": {},
   "outputs": [],
   "source": [
    "def trade(df, model):\n",
    "    # model needs to have .update(cycle, ohlc) and trade()\n",
    "    # return the trades\n",
    "\n",
    "    trades = pd.DataFrame(index=df.index)\n",
    "    trades['qty'] = [0.] * len(trades)\n",
    "    \n",
    "    for i, (cycle, ohlc) in enumerate(df.iterrows()):\n",
    "        model.update(cycle, ohlc, ohlc['close'])\n",
    "        qty = model.trade()\n",
    "        if qty:\n",
    "            trades.iloc[i] = qty\n",
    "    return trades\n",
    "\n",
    "def account(prices, trades, fee=0.0026):\n",
    "    #prices = df.open\n",
    "    volume = prices * trades.qty * (1 + np.sign(trades.qty) * fee)\n",
    "\n",
    "    last_price = prices.iloc[-1]\n",
    "    qty_to_liquidate = -trades.qty.sum()\n",
    "    last_volume = last_price * qty_to_liquidate * (1 + np.sign(qty_to_liquidate) * fee)\n",
    "\n",
    "    pnl = -(last_volume + volume.sum())\n",
    "    \n",
    "    return pnl\n",
    "\n",
    "def cycle_realized_pnl(prices, trades, fee=0.0026):\n",
    "    #prices = df.open.shift(-1, fill_value=df.open.iloc[-1])\n",
    "    volume = prices * trades.qty * (1 + np.sign(trades.qty) * fee)\n",
    "    \n",
    "    values = pd.DataFrame(index=prices.index, columns=['pnl', 'adjusted_pnl']).fillna(0.)\n",
    "    v = 0.\n",
    "    position = 0.\n",
    "    max_position = 0.\n",
    "    open_price = 0.\n",
    "    for i, qty in enumerate(trades.qty):\n",
    "        was_open = position != 0\n",
    "        \n",
    "        position = round(position + qty, 8)\n",
    "        max_position = max(abs(position), max_position)\n",
    "        v -= volume.iloc[i]\n",
    "        \n",
    "        if not was_open and position != 0:\n",
    "            open_price = prices[i]\n",
    "        \n",
    "        if position == 0:\n",
    "            if was_open:\n",
    "                market_pnl = max_position * abs(prices[i] - open_price)\n",
    "                #market_pnl -= fee * max_position * (prices[i] + open_price)\n",
    "                values.iloc[i] = (v, v - market_pnl)\n",
    "            v = 0\n",
    "            max_position = 0\n",
    "            \n",
    "    if position:\n",
    "        last_price = prices.iloc[-1]\n",
    "        assert np.isclose(position, trades.qty.sum()), f'position={position}, trades.qty.sum()={trades.qty.sum()}'\n",
    "        qty_to_liquidate = -position\n",
    "        last_volume = last_price * qty_to_liquidate * (1 + np.sign(qty_to_liquidate) * fee)\n",
    "        assert values.iloc[-1][0] == 0\n",
    "        \n",
    "        market_pnl = max_position * abs(prices[i] - open_price)\n",
    "        #market_pnl -= fee * max_position * (prices[i] + open_price)\n",
    "        values.iloc[i] = (-last_volume + v, -last_volume + v - market_pnl)\n",
    "        \n",
    "        #values.iloc[-1] = -last_volume + v\n",
    "    return values\n",
    "\n",
    "\n",
    "def sharpe(pnls):\n",
    "    return np.sum(pnls) / np.std(pnls)\n",
    "\n",
    "def test_account():\n",
    "    #df = pd.DataFrame({'open': [10,11,12,13,14]})\n",
    "    #prices = df['open'].shift(-1, fill_value=df.open.iloc[-1])\n",
    "    prices = pd.Series([11,12,13,14,14])\n",
    "    \n",
    "    trades = pd.DataFrame({'qty': [1,-1,1,0,0]})\n",
    "    fee = 1\n",
    "    a = cycle_realized_pnl(prices, trades, fee=fee).pnl.sum()\n",
    "    b = account(prices, trades, fee=fee)\n",
    "    assert a == b\n",
    "    assert a == -48.\n",
    "    c = cycle_realized_pnl(prices, trades, fee=fee).adjusted_pnl.sum()\n",
    "    assert c == -50., f'c = {c}'\n",
    "\n",
    "test_account()"
   ]
  },
  {
   "cell_type": "markdown",
   "metadata": {},
   "source": [
    "# Run Sim"
   ]
  },
  {
   "cell_type": "code",
   "execution_count": 188,
   "metadata": {},
   "outputs": [
    {
     "data": {
      "text/plain": [
       "(-17652.73139847319, -17980.460262671964)"
      ]
     },
     "execution_count": 188,
     "metadata": {},
     "output_type": "execute_result"
    }
   ],
   "source": [
    "trades = trade(df, Trader1(10, 2, 0.002))\n",
    "acc = cycle_realized_pnl(df, trades)\n",
    "sharpe(acc.pnl), sharpe(acc.adjusted_pnl)"
   ]
  },
  {
   "cell_type": "code",
   "execution_count": null,
   "metadata": {},
   "outputs": [],
   "source": [
    "trades = trade(df, DcatTrader(75, df.close, 0.005, 0.002))\n",
    "acc = cycle_realized_pnl(df.close, trades)\n",
    "sharpe(acc.pnl), sharpe(acc.adjusted_pnl)\n",
    "# (6058.5075476589045, -8191.272070021878), (33, 1103)"
   ]
  },
  {
   "cell_type": "code",
   "execution_count": 121,
   "metadata": {},
   "outputs": [
    {
     "data": {
      "text/plain": [
       "(45, 490)"
      ]
     },
     "execution_count": 121,
     "metadata": {},
     "output_type": "execute_result"
    }
   ],
   "source": [
    "len(acc.pnl[acc.pnl < 0]), len(acc.pnl[acc.pnl > 0])"
   ]
  },
  {
   "cell_type": "code",
   "execution_count": 45,
   "metadata": {},
   "outputs": [
    {
     "data": {
      "text/plain": [
       "time\n",
       "2020-01-09 11:30:00   -0.091513\n",
       "Name: pnl, dtype: float64"
      ]
     },
     "execution_count": 45,
     "metadata": {},
     "output_type": "execute_result"
    }
   ],
   "source": [
    "acc.pnl[acc.pnl < 0].head(1)"
   ]
  },
  {
   "cell_type": "code",
   "execution_count": 52,
   "metadata": {},
   "outputs": [
    {
     "data": {
      "text/plain": [
       "0.07846400000000031"
      ]
     },
     "execution_count": 52,
     "metadata": {},
     "output_type": "execute_result"
    }
   ],
   "source": [
    "fee=0.0026 \n",
    "(7880 * 0.002 * (1-fee) - 7800 * 0.002 * (1+fee))"
   ]
  },
  {
   "cell_type": "code",
   "execution_count": 223,
   "metadata": {},
   "outputs": [
    {
     "data": {
      "text/plain": [
       "qty   -0.002\n",
       "Name: 2020-02-17 16:50:00, dtype: float64"
      ]
     },
     "execution_count": 223,
     "metadata": {},
     "output_type": "execute_result"
    }
   ],
   "source": [
    "trades.loc['2020-02-17 16:50:00']"
   ]
  },
  {
   "cell_type": "code",
   "execution_count": 225,
   "metadata": {},
   "outputs": [
    {
     "data": {
      "text/plain": [
       "9728.42"
      ]
     },
     "execution_count": 225,
     "metadata": {},
     "output_type": "execute_result"
    }
   ],
   "source": [
    "prices.open['2020-02-17 16:50:00']"
   ]
  },
  {
   "cell_type": "code",
   "execution_count": 63,
   "metadata": {},
   "outputs": [],
   "source": [
    "a = pd.merge(trades, df, left_index=True, right_index=True)\n",
    "a = pd.merge(a, acc, left_index=True, right_index=True)\n",
    "a = a[a.qty!=0]"
   ]
  },
  {
   "cell_type": "code",
   "execution_count": 65,
   "metadata": {},
   "outputs": [
    {
     "data": {
      "text/html": [
       "<div>\n",
       "<style scoped>\n",
       "    .dataframe tbody tr th:only-of-type {\n",
       "        vertical-align: middle;\n",
       "    }\n",
       "\n",
       "    .dataframe tbody tr th {\n",
       "        vertical-align: top;\n",
       "    }\n",
       "\n",
       "    .dataframe thead th {\n",
       "        text-align: right;\n",
       "    }\n",
       "</style>\n",
       "<table border=\"1\" class=\"dataframe\">\n",
       "  <thead>\n",
       "    <tr style=\"text-align: right;\">\n",
       "      <th></th>\n",
       "      <th>qty</th>\n",
       "      <th>open</th>\n",
       "      <th>high</th>\n",
       "      <th>low</th>\n",
       "      <th>close</th>\n",
       "      <th>volume</th>\n",
       "      <th>trades</th>\n",
       "      <th>pnl</th>\n",
       "      <th>adjusted_pnl</th>\n",
       "    </tr>\n",
       "    <tr>\n",
       "      <th>time</th>\n",
       "      <th></th>\n",
       "      <th></th>\n",
       "      <th></th>\n",
       "      <th></th>\n",
       "      <th></th>\n",
       "      <th></th>\n",
       "      <th></th>\n",
       "      <th></th>\n",
       "      <th></th>\n",
       "    </tr>\n",
       "  </thead>\n",
       "  <tbody>\n",
       "    <tr>\n",
       "      <th>2020-01-08 15:29:00</th>\n",
       "      <td>-0.002</td>\n",
       "      <td>8300.00</td>\n",
       "      <td>8300.00</td>\n",
       "      <td>8300.00</td>\n",
       "      <td>8300.00</td>\n",
       "      <td>0.002000</td>\n",
       "      <td>1</td>\n",
       "      <td>0.000000</td>\n",
       "      <td>0.000000</td>\n",
       "    </tr>\n",
       "    <tr>\n",
       "      <th>2020-01-08 16:09:00</th>\n",
       "      <td>0.002</td>\n",
       "      <td>8217.51</td>\n",
       "      <td>8217.51</td>\n",
       "      <td>8217.51</td>\n",
       "      <td>8217.51</td>\n",
       "      <td>0.009630</td>\n",
       "      <td>1</td>\n",
       "      <td>0.079089</td>\n",
       "      <td>-0.085891</td>\n",
       "    </tr>\n",
       "    <tr>\n",
       "      <th>2020-01-08 17:48:00</th>\n",
       "      <td>-0.002</td>\n",
       "      <td>7870.01</td>\n",
       "      <td>7870.01</td>\n",
       "      <td>7870.01</td>\n",
       "      <td>7870.01</td>\n",
       "      <td>0.022768</td>\n",
       "      <td>1</td>\n",
       "      <td>0.000000</td>\n",
       "      <td>0.000000</td>\n",
       "    </tr>\n",
       "    <tr>\n",
       "      <th>2020-01-09 09:16:00</th>\n",
       "      <td>0.002</td>\n",
       "      <td>7870.00</td>\n",
       "      <td>7870.00</td>\n",
       "      <td>7830.00</td>\n",
       "      <td>7830.00</td>\n",
       "      <td>0.008587</td>\n",
       "      <td>3</td>\n",
       "      <td>0.218060</td>\n",
       "      <td>-0.081900</td>\n",
       "    </tr>\n",
       "    <tr>\n",
       "      <th>2020-01-09 09:17:00</th>\n",
       "      <td>0.002</td>\n",
       "      <td>7800.01</td>\n",
       "      <td>7800.01</td>\n",
       "      <td>7800.01</td>\n",
       "      <td>7800.01</td>\n",
       "      <td>0.010000</td>\n",
       "      <td>1</td>\n",
       "      <td>0.000000</td>\n",
       "      <td>0.000000</td>\n",
       "    </tr>\n",
       "    <tr>\n",
       "      <th>2020-01-09 11:30:00</th>\n",
       "      <td>-0.002</td>\n",
       "      <td>7880.00</td>\n",
       "      <td>7880.00</td>\n",
       "      <td>7880.00</td>\n",
       "      <td>7880.00</td>\n",
       "      <td>0.003000</td>\n",
       "      <td>1</td>\n",
       "      <td>-0.091513</td>\n",
       "      <td>-0.101933</td>\n",
       "    </tr>\n",
       "    <tr>\n",
       "      <th>2020-01-09 12:24:00</th>\n",
       "      <td>0.002</td>\n",
       "      <td>7794.80</td>\n",
       "      <td>7794.80</td>\n",
       "      <td>7794.80</td>\n",
       "      <td>7794.80</td>\n",
       "      <td>0.002000</td>\n",
       "      <td>1</td>\n",
       "      <td>0.000000</td>\n",
       "      <td>0.000000</td>\n",
       "    </tr>\n",
       "    <tr>\n",
       "      <th>2020-01-09 13:02:00</th>\n",
       "      <td>-0.002</td>\n",
       "      <td>7868.41</td>\n",
       "      <td>7868.41</td>\n",
       "      <td>7868.41</td>\n",
       "      <td>7868.41</td>\n",
       "      <td>0.006419</td>\n",
       "      <td>3</td>\n",
       "      <td>0.144995</td>\n",
       "      <td>-0.081945</td>\n",
       "    </tr>\n",
       "    <tr>\n",
       "      <th>2020-01-09 14:03:00</th>\n",
       "      <td>0.002</td>\n",
       "      <td>7896.04</td>\n",
       "      <td>7896.04</td>\n",
       "      <td>7896.04</td>\n",
       "      <td>7896.04</td>\n",
       "      <td>0.012500</td>\n",
       "      <td>1</td>\n",
       "      <td>0.000000</td>\n",
       "      <td>0.000000</td>\n",
       "    </tr>\n",
       "    <tr>\n",
       "      <th>2020-01-10 15:21:00</th>\n",
       "      <td>-0.002</td>\n",
       "      <td>8040.00</td>\n",
       "      <td>8040.00</td>\n",
       "      <td>8040.00</td>\n",
       "      <td>8040.00</td>\n",
       "      <td>0.002000</td>\n",
       "      <td>1</td>\n",
       "      <td>0.298451</td>\n",
       "      <td>-0.082729</td>\n",
       "    </tr>\n",
       "  </tbody>\n",
       "</table>\n",
       "</div>"
      ],
      "text/plain": [
       "                       qty     open     high      low    close    volume  \\\n",
       "time                                                                       \n",
       "2020-01-08 15:29:00 -0.002  8300.00  8300.00  8300.00  8300.00  0.002000   \n",
       "2020-01-08 16:09:00  0.002  8217.51  8217.51  8217.51  8217.51  0.009630   \n",
       "2020-01-08 17:48:00 -0.002  7870.01  7870.01  7870.01  7870.01  0.022768   \n",
       "2020-01-09 09:16:00  0.002  7870.00  7870.00  7830.00  7830.00  0.008587   \n",
       "2020-01-09 09:17:00  0.002  7800.01  7800.01  7800.01  7800.01  0.010000   \n",
       "2020-01-09 11:30:00 -0.002  7880.00  7880.00  7880.00  7880.00  0.003000   \n",
       "2020-01-09 12:24:00  0.002  7794.80  7794.80  7794.80  7794.80  0.002000   \n",
       "2020-01-09 13:02:00 -0.002  7868.41  7868.41  7868.41  7868.41  0.006419   \n",
       "2020-01-09 14:03:00  0.002  7896.04  7896.04  7896.04  7896.04  0.012500   \n",
       "2020-01-10 15:21:00 -0.002  8040.00  8040.00  8040.00  8040.00  0.002000   \n",
       "\n",
       "                     trades       pnl  adjusted_pnl  \n",
       "time                                                 \n",
       "2020-01-08 15:29:00       1  0.000000      0.000000  \n",
       "2020-01-08 16:09:00       1  0.079089     -0.085891  \n",
       "2020-01-08 17:48:00       1  0.000000      0.000000  \n",
       "2020-01-09 09:16:00       3  0.218060     -0.081900  \n",
       "2020-01-09 09:17:00       1  0.000000      0.000000  \n",
       "2020-01-09 11:30:00       1 -0.091513     -0.101933  \n",
       "2020-01-09 12:24:00       1  0.000000      0.000000  \n",
       "2020-01-09 13:02:00       3  0.144995     -0.081945  \n",
       "2020-01-09 14:03:00       1  0.000000      0.000000  \n",
       "2020-01-10 15:21:00       1  0.298451     -0.082729  "
      ]
     },
     "execution_count": 65,
     "metadata": {},
     "output_type": "execute_result"
    }
   ],
   "source": [
    "a.head(10)"
   ]
  },
  {
   "cell_type": "markdown",
   "metadata": {},
   "source": [
    "# Plotting"
   ]
  },
  {
   "cell_type": "code",
   "execution_count": 47,
   "metadata": {},
   "outputs": [],
   "source": [
    "import pandas as pd\n",
    "import plotly.graph_objs as go\n",
    "import plotly.offline as offline\n",
    "\n",
    "def plot(df, trades):\n",
    "    # df columns = ['open', 'high', 'low', 'close', 'volume', 'trades']\n",
    "    # trades columns = ['qty']\n",
    "\n",
    "    buys = df.open[trades.qty > 0]\n",
    "    sells = df.open[trades.qty < 0]\n",
    "    pnls = cycle_realized_pnl(df, trades).pnl\n",
    "    pnls = pnls[pnls != 0]\n",
    "    pnls = pnls.cumsum()\n",
    "    \n",
    "    trace = go.Scatter(\n",
    "        x=df.index,\n",
    "        y=df['open'],\n",
    "        name='Tick'\n",
    "    )\n",
    "\n",
    "    trace2 = go.Scatter(\n",
    "        x=buys.index,\n",
    "        y=buys,\n",
    "        #text=buys['order_id'],\n",
    "        #hoverinfo='text',\n",
    "        name='Buy',\n",
    "        mode='markers',\n",
    "        marker=dict(\n",
    "            size=10,\n",
    "            color='rgba(182, 255, 193, .9)',\n",
    "            line=dict(\n",
    "                width=2,\n",
    "            )\n",
    "        )\n",
    "    )\n",
    "\n",
    "    trace3 = go.Scatter(\n",
    "        x=sells.index,\n",
    "        y=sells,\n",
    "        #text=sells['order_id'],\n",
    "        #hoverinfo='text',\n",
    "        name='Sell',\n",
    "        mode='markers',\n",
    "        marker=dict(\n",
    "            size=7,\n",
    "            color='rgba(255, 182, 193, .9)',\n",
    "            line=dict(\n",
    "                width=1,\n",
    "            )\n",
    "        )\n",
    "    )\n",
    "\n",
    "    trace4 = go.Scatter(\n",
    "        x=pnls.index,\n",
    "        y=pnls,\n",
    "        name='P&L',\n",
    "        mode='lines+markers',\n",
    "        marker=dict(\n",
    "            size=5,\n",
    "            color='rgba(193, 182, 255, .9)',\n",
    "            line=dict(\n",
    "                width=1,\n",
    "            )\n",
    "        ),\n",
    "        yaxis='y2'\n",
    "    )\n",
    "    \n",
    "    data = [trace, trace2, trace3, trace4]\n",
    "    layout = go.Layout(\n",
    "        title='Trading log',\n",
    "        yaxis=dict(\n",
    "            title='Price'\n",
    "        ),\n",
    "        yaxis2=dict(\n",
    "            title='BTC',\n",
    "            titlefont=dict(\n",
    "                color='rgb(148, 103, 189)'\n",
    "            ),\n",
    "            tickfont=dict(\n",
    "                color='rgb(148, 103, 189)'\n",
    "            ),\n",
    "            overlaying='y',\n",
    "            side='right'\n",
    "        ),\n",
    "        xaxis=dict(\n",
    "            rangeslider=dict(\n",
    "                visible=False\n",
    "            )\n",
    "        ),\n",
    "        xaxis2=dict()\n",
    "    )\n",
    "\n",
    "    fig = go.Figure(data=data, layout=layout)\n",
    "    offline.plot(fig, auto_open=True, filename=os.path.join('/Users/felipe/crypto/bitme2', 'results_plot.html'))\n",
    "    # offline.iplot(fig)  #\n",
    "\n",
    "    return 0"
   ]
  },
  {
   "cell_type": "code",
   "execution_count": 48,
   "metadata": {},
   "outputs": [
    {
     "data": {
      "text/plain": [
       "0"
      ]
     },
     "execution_count": 48,
     "metadata": {},
     "output_type": "execute_result"
    }
   ],
   "source": [
    "plot(df, trades)"
   ]
  },
  {
   "cell_type": "markdown",
   "metadata": {},
   "source": [
    "# Model research"
   ]
  },
  {
   "cell_type": "code",
   "execution_count": 2,
   "metadata": {},
   "outputs": [],
   "source": [
    "prices = pd.read_csv('data/XBTUSDC_1.csv', header=None,\n",
    "                     names=['time', 'open', 'high', 'low', 'close', 'volume', 'trades'])\n",
    "prices = prices.set_index('time')\n",
    "prices.index = pd.DatetimeIndex(prices.index * 1e+9)\n",
    "prices = prices.reindex(index=pd.date_range(prices.index[0], prices.index[-1],\n",
    "                        freq=pd.Timedelta('00:01:00')), method='ffill', copy=False)"
   ]
  },
  {
   "cell_type": "code",
   "execution_count": 167,
   "metadata": {},
   "outputs": [],
   "source": [
    "returns = (prices.close - prices.open) / prices.open\n",
    "def get_y(w, prices=prices):\n",
    "    ma = prices.high.iloc[::-1].rolling(w).max()\n",
    "    mi = prices.low.iloc[::-1].rolling(w).min()\n",
    "    s = (ma + mi).iloc[::-1].shift(-1)\n",
    "    return .5*(s - 2.*prices.open.shift(-1))/prices.open.shift(-1) "
   ]
  },
  {
   "cell_type": "code",
   "execution_count": 168,
   "metadata": {},
   "outputs": [
    {
     "data": {
      "text/plain": [
       "2020-01-08 15:29:00   -0.004969\n",
       "2020-01-08 15:30:00   -0.004969\n",
       "2020-01-08 15:31:00   -0.004969\n",
       "2020-01-08 15:32:00   -0.004969\n",
       "2020-01-08 15:33:00   -0.004969\n",
       "                         ...   \n",
       "2021-03-31 23:48:00         NaN\n",
       "2021-03-31 23:49:00         NaN\n",
       "2021-03-31 23:50:00         NaN\n",
       "2021-03-31 23:51:00         NaN\n",
       "2021-03-31 23:52:00         NaN\n",
       "Freq: T, Length: 645624, dtype: float64"
      ]
     },
     "execution_count": 168,
     "metadata": {},
     "output_type": "execute_result"
    }
   ],
   "source": [
    "get_y(75)"
   ]
  },
  {
   "cell_type": "code",
   "execution_count": 164,
   "metadata": {},
   "outputs": [
    {
     "data": {
      "text/plain": [
       "0.3818672783342885"
      ]
     },
     "execution_count": 164,
     "metadata": {},
     "output_type": "execute_result"
    }
   ],
   "source": [
    "pd.Series((get_y(75).clip(lower=0))).corr(pd.Series((returns.iloc[::-1].rolling(75).max().iloc[::-1])))"
   ]
  },
  {
   "cell_type": "markdown",
   "metadata": {},
   "source": [
    "## volatility per interval"
   ]
  },
  {
   "cell_type": "code",
   "execution_count": null,
   "metadata": {},
   "outputs": [],
   "source": [
    "interval_std = {}\n",
    "for interval in (2, 5, 30, 60, 120, 300, 24*60, 7*24*60):\n",
    "    interval_std[interval] = (returns - returns.rolling(interval, center=True).mean()).abs().std()"
   ]
  },
  {
   "cell_type": "code",
   "execution_count": null,
   "metadata": {},
   "outputs": [],
   "source": [
    "returns.abs().mean()"
   ]
  },
  {
   "cell_type": "code",
   "execution_count": null,
   "metadata": {},
   "outputs": [],
   "source": [
    "interval_std"
   ]
  },
  {
   "cell_type": "code",
   "execution_count": null,
   "metadata": {},
   "outputs": [],
   "source": [
    "30/61000"
   ]
  },
  {
   "cell_type": "code",
   "execution_count": null,
   "metadata": {},
   "outputs": [],
   "source": [
    "returns.iloc[-100:].plot()"
   ]
  },
  {
   "cell_type": "code",
   "execution_count": null,
   "metadata": {},
   "outputs": [],
   "source": [
    "returns.std()"
   ]
  },
  {
   "cell_type": "markdown",
   "metadata": {},
   "source": [
    "## Optimal interval"
   ]
  },
  {
   "cell_type": "code",
   "execution_count": null,
   "metadata": {},
   "outputs": [],
   "source": [
    "w=2\n",
    "pd.Series([1,2,3,4]).rolling(w).sum()"
   ]
  },
  {
   "cell_type": "code",
   "execution_count": null,
   "metadata": {},
   "outputs": [],
   "source": [
    "w=2\n",
    "pd.Series([1,2,3,4]).iloc[::-1].rolling(w).sum().iloc[::-1].shift(-1)"
   ]
  },
  {
   "cell_type": "markdown",
   "metadata": {},
   "source": [
    "## cost and get_x_y"
   ]
  },
  {
   "cell_type": "code",
   "execution_count": 140,
   "metadata": {},
   "outputs": [],
   "source": [
    "# Sum forward is not a good metric because sum(returns) == 0 \n",
    "# doesn't mean that price[n] - price[0] == 0. \n",
    "def sum_forward(s, w):\n",
    "    return s.iloc[::-1].rolling(w).sum().iloc[::-1].shift(-1)\n",
    "\n",
    "def peak_forward(s, w)\n",
    "    ma = s.iloc[::-1].rolling(w).max()\n",
    "    mi = s.iloc[::-1].rolling(w).min()\n",
    "    return ((ma + mi)).iloc[::-1].shift(-1)\n",
    "\n",
    "def apply_threshold(s, threshold):\n",
    "    s[s.abs() < threshold] = np.nan\n",
    "\n",
    "def cost(returns, threshold=0.01):\n",
    "   \n",
    "    def _helper(args):\n",
    "        lookback, lookahead = (int(i) for i in args)\n",
    "        if lookback <= 0 or lookahead <= 0:\n",
    "            return float('inf')\n",
    "        left = returns.rolling(lookback).sum()\n",
    "        right = sum_forward(returns, lookahead)\n",
    "        apply_threshold(left, threshold)\n",
    "        apply_threshold(right, threshold)\n",
    "        return -left.corr(-right)\n",
    "    return _helper\n",
    "\n",
    "# features\n",
    "def get_x_y(returns, lookback, lookahead):\n",
    "    return pd.DataFrame({\n",
    "        'sum': returns.rolling(lookback).sum(),\n",
    "        'high': returns.rolling(lookback).max(),\n",
    "        'low': returns.rolling(lookback).min(),\n",
    "        'open': returns.shift(lookback),\n",
    "        'close': returns,\n",
    "        'y': sum_forward(returns, lookahead)\n",
    "    }, index=returns.index)\n",
    "\n",
    "def get_acceleration(returns, lookback, lookahead):\n",
    "    return pd.DataFrame({\n",
    "        'sum': (returns - returns.shift()).ewm(span=lookback).mean()*lookback,\n",
    "        #'sum': (returns ).ewm(span=lookback).mean()*lookback,\n",
    "        #'sum': (returns - returns.shift()).rolling(lookback).sum(),\n",
    "        'y': sum_forward(returns, lookahead)\n",
    "    }, index=returns.index)\n",
    "\n",
    "def get_acc_cost(returns, threshold=0.01):\n",
    "    a = get_acceleration(returns, lookback, 75)\n",
    "    apply_threshold(a['sum'], threshold)\n",
    "    apply_threshold(a['y'], threshold)\n",
    "    return -a['sum'].corr(a['y'])"
   ]
  },
  {
   "cell_type": "code",
   "execution_count": 141,
   "metadata": {},
   "outputs": [],
   "source": [
    "results = {}\n",
    "for lookback in range(5500,9000, 100):\n",
    "    a = get_acceleration(returns, lookback, 10)\n",
    "    results[lookback] = get_acc_cost(returns)"
   ]
  },
  {
   "cell_type": "code",
   "execution_count": 142,
   "metadata": {},
   "outputs": [
    {
     "data": {
      "text/plain": [
       "[(8700, -0.443703817488204),\n",
       " (8600, -0.443701616629152),\n",
       " (8500, -0.44369975947459855),\n",
       " (8800, -0.4436764259041431),\n",
       " (8900, -0.44366227519348084)]"
      ]
     },
     "execution_count": 142,
     "metadata": {},
     "output_type": "execute_result"
    }
   ],
   "source": [
    "sorted(results.items(), key=lambda x: results[x[0]])[:5]"
   ]
  },
  {
   "cell_type": "code",
   "execution_count": 143,
   "metadata": {},
   "outputs": [
    {
     "data": {
      "text/plain": [
       "0.72"
      ]
     },
     "execution_count": 143,
     "metadata": {},
     "output_type": "execute_result"
    }
   ],
   "source": [
    "1.44/2"
   ]
  },
  {
   "cell_type": "markdown",
   "metadata": {},
   "source": [
    "### Best ewm span: 6200 with 72%"
   ]
  },
  {
   "cell_type": "code",
   "execution_count": null,
   "metadata": {},
   "outputs": [],
   "source": [
    "pd.Series([1,2]).shift()"
   ]
  },
  {
   "cell_type": "code",
   "execution_count": null,
   "metadata": {},
   "outputs": [],
   "source": [
    "pd.DataFrame({'a': pd.Series([1,2,3]), 'b': pd.Series([1,2,3])})"
   ]
  },
  {
   "cell_type": "code",
   "execution_count": null,
   "metadata": {},
   "outputs": [],
   "source": [
    "cost(returns)([76, 76])"
   ]
  },
  {
   "cell_type": "code",
   "execution_count": null,
   "metadata": {},
   "outputs": [],
   "source": [
    "from scipy.optimize import minimize"
   ]
  },
  {
   "cell_type": "code",
   "execution_count": null,
   "metadata": {},
   "outputs": [],
   "source": [
    "x0 = [150, 150]"
   ]
  },
  {
   "cell_type": "code",
   "execution_count": null,
   "metadata": {},
   "outputs": [],
   "source": [
    "res = minimize(cost(returns), x0, method='nelder-mead',\n",
    "               options={'xatol': 1e-8, 'disp': True})\n",
    "\n",
    "res"
   ]
  },
  {
   "cell_type": "code",
   "execution_count": null,
   "metadata": {},
   "outputs": [],
   "source": [
    "results = {}"
   ]
  },
  {
   "cell_type": "code",
   "execution_count": null,
   "metadata": {},
   "outputs": [],
   "source": [
    "%%time\n",
    "args = []\n",
    "for lookback in range(50,101):\n",
    "    for lookahead in range(50,101):\n",
    "        args.append((lookback, lookahead))\n",
    "for i in trange(len(args)):\n",
    "    results[args[i]] = cost(returns)( args[i] )"
   ]
  },
  {
   "cell_type": "code",
   "execution_count": null,
   "metadata": {},
   "outputs": [],
   "source": [
    "sorted(results.items(), key=lambda x: results[x[0]])"
   ]
  },
  {
   "cell_type": "markdown",
   "metadata": {},
   "source": [
    "### Conclusion: 75 mins lookback sum predicts 75 forward with 58% confident"
   ]
  },
  {
   "cell_type": "code",
   "execution_count": 5,
   "metadata": {},
   "outputs": [],
   "source": [
    "from sklearn.naive_bayes import GaussianNB\n",
    "from sklearn.neighbors import KNeighborsClassifier\n",
    "from sklearn.svm import LinearSVC\n",
    "from sklearn import model_selection"
   ]
  },
  {
   "cell_type": "markdown",
   "metadata": {},
   "source": [
    "## Model selection"
   ]
  },
  {
   "cell_type": "code",
   "execution_count": 8,
   "metadata": {},
   "outputs": [],
   "source": [
    "X = get_x_y(returns, 75, 75).dropna().astype(float)\n",
    "X = X[['sum', 'high', 'low', 'open', 'close', 'y']].astype(float)\n",
    "#index = (~X.isna()) & (~Y.isna())\n",
    "#X = X[index]\n",
    "#Y = Y[index]\n",
    "#assert (X.index == Y.index).all()"
   ]
  },
  {
   "cell_type": "code",
   "execution_count": 9,
   "metadata": {},
   "outputs": [
    {
     "data": {
      "image/png": "[encoded data removed]",
      "text/plain": [
       "<Figure size 432x288 with 1 Axes>"
      ]
     },
     "metadata": {
      "needs_background": "light"
     },
     "output_type": "display_data"
    },
    {
     "data": {
      "image/png": "[encoded data removed]",
      "text/plain": [
       "<Figure size 432x288 with 1 Axes>"
      ]
     },
     "metadata": {
      "needs_background": "light"
     },
     "output_type": "display_data"
    },
    {
     "data": {
      "image/png": "[encoded data removed]",
      "text/plain": [
       "<Figure size 432x288 with 1 Axes>"
      ]
     },
     "metadata": {
      "needs_background": "light"
     },
     "output_type": "display_data"
    },
    {
     "data": {
      "image/png": "[encoded data removed]",
      "text/plain": [
       "<Figure size 432x288 with 1 Axes>"
      ]
     },
     "metadata": {
      "needs_background": "light"
     },
     "output_type": "display_data"
    },
    {
     "data": {
      "image/png": "[encoded data removed]",
      "text/plain": [
       "<Figure size 432x288 with 1 Axes>"
      ]
     },
     "metadata": {
      "needs_background": "light"
     },
     "output_type": "display_data"
    }
   ],
   "source": [
    "for index, feature_name in enumerate(['sum', 'high', 'low', 'open', 'close']):\n",
    "#for index, feature_name in enumerate(['sum']):\n",
    "\n",
    "    plt.figure()\n",
    "    plt.scatter(X.iloc[:, index], X.y) "
   ]
  },
  {
   "cell_type": "code",
   "execution_count": 32,
   "metadata": {},
   "outputs": [
    {
     "data": {
      "image/png": "[encoded data removed]",
      "text/plain": [
       "<Figure size 720x504 with 2 Axes>"
      ]
     },
     "metadata": {
      "needs_background": "light"
     },
     "output_type": "display_data"
    }
   ],
   "source": [
    "import pandas as pd\n",
    "import numpy as np\n",
    "import seaborn as sns\n",
    "#data = pd.read_csv(\"D://Blogs//train.csv\")\n",
    "#X = data.iloc[:,0:20]  #independent columns\n",
    "#y = data.iloc[:,-1]    #target column i.e price range\n",
    "#get correlations of each features in dataset\n",
    "corrmat = X.corr()\n",
    "top_corr_features = corrmat.index\n",
    "plt.figure(figsize=(10,7))\n",
    "#plot heat map\n",
    "g=sns.heatmap(X[top_corr_features].corr(),annot=True,cmap=\"RdYlGn\")"
   ]
  },
  {
   "cell_type": "code",
   "execution_count": null,
   "metadata": {},
   "outputs": [],
   "source": [
    "X_train, X_test, y_train, y_test = model_selection.train_test_split(X.values, y.values,\n",
    "                            test_size=0.25)\n",
    "\n",
    "for Model in [GaussianNB, KNeighborsClassifier, LinearSVC]:\n",
    "    clf = Model().fit(X_train, y_train)\n",
    "    y_pred = clf.predict(X_test)\n",
    "    print('%s: %s' %\n",
    "          (Model.__name__, metrics.f1_score(y_test, y_pred, average=\"macro\")))  \n"
   ]
  },
  {
   "cell_type": "code",
   "execution_count": 13,
   "metadata": {},
   "outputs": [],
   "source": [
    "x = np.arange(100) / 100 * np.pi * 2"
   ]
  },
  {
   "cell_type": "code",
   "execution_count": 51,
   "metadata": {},
   "outputs": [],
   "source": [
    "f1 = x/200 + np.sin(x)**2\n",
    "f2 = x/200 + np.cos(x)**2\n",
    "y = x/100+1"
   ]
  },
  {
   "cell_type": "code",
   "execution_count": 58,
   "metadata": {},
   "outputs": [
    {
     "data": {
      "text/plain": [
       "-0.9986858369520066"
      ]
     },
     "execution_count": 58,
     "metadata": {},
     "output_type": "execute_result"
    }
   ],
   "source": [
    "pd.Series(f1).corr(pd.Series(f2))"
   ]
  },
  {
   "cell_type": "code",
   "execution_count": 53,
   "metadata": {},
   "outputs": [
    {
     "data": {
      "text/plain": [
       "0.05009790187704255"
      ]
     },
     "execution_count": 53,
     "metadata": {},
     "output_type": "execute_result"
    }
   ],
   "source": [
    "pd.Series(y).corr(pd.Series(f1))"
   ]
  },
  {
   "cell_type": "code",
   "execution_count": 54,
   "metadata": {},
   "outputs": [
    {
     "data": {
      "text/plain": [
       "0.0011539372564815366"
      ]
     },
     "execution_count": 54,
     "metadata": {},
     "output_type": "execute_result"
    }
   ],
   "source": [
    "pd.Series(y).corr(pd.Series(f2))"
   ]
  },
  {
   "cell_type": "code",
   "execution_count": 55,
   "metadata": {},
   "outputs": [
    {
     "data": {
      "text/plain": [
       "1.0"
      ]
     },
     "execution_count": 55,
     "metadata": {},
     "output_type": "execute_result"
    }
   ],
   "source": [
    "pd.Series(y).corr(pd.Series(f1 + f2))"
   ]
  },
  {
   "cell_type": "code",
   "execution_count": 35,
   "metadata": {},
   "outputs": [
    {
     "data": {
      "text/plain": [
       "-0.9999999999999991"
      ]
     },
     "execution_count": 35,
     "metadata": {},
     "output_type": "execute_result"
    }
   ],
   "source": [
    "pd.Series(y).corr(pd.Series(np.ones(len(x)) - y/10000))"
   ]
  },
  {
   "cell_type": "code",
   "execution_count": 33,
   "metadata": {},
   "outputs": [
    {
     "data": {
      "text/plain": [
       "array([1.07386837, 0.9446583 , 1.04469854, 1.05263511, 1.0723699 ,\n",
       "       1.05086024, 0.90678081, 0.96766913, 1.07045225, 1.00190759,\n",
       "       1.00557083, 1.06800973, 0.91704055, 1.08559459, 0.97673616,\n",
       "       1.08666827, 1.03970641, 1.04285202, 1.02039027, 0.95014885,\n",
       "       1.03244568, 1.00642595, 0.95091415, 1.03559054, 1.02528672,\n",
       "       1.02564414, 0.91510041, 1.06390073, 0.90469254, 0.96769897,\n",
       "       0.95409013, 0.92300066, 1.03773116, 1.03674758, 0.94865346,\n",
       "       1.06530486, 0.95135872, 1.0764614 , 0.94128682, 0.98035795,\n",
       "       1.06520113, 1.04517076, 0.98717198, 0.96074882, 1.02323894,\n",
       "       1.06838479, 0.99196901, 1.01701029, 0.93052532, 1.08390187,\n",
       "       1.06763247, 1.09612392, 1.06351281, 1.00806035, 1.0336972 ,\n",
       "       0.96335654, 0.91406797, 1.02982024, 0.98475751, 0.91843641,\n",
       "       0.94281054, 1.03803861, 1.09974859, 0.95517947, 1.08433376,\n",
       "       0.97928508, 1.03099411, 0.9309868 , 1.08731878, 1.0507036 ,\n",
       "       1.0804188 , 1.07447059, 0.9244601 , 0.9933916 , 1.04131832,\n",
       "       1.00321044, 1.09057411, 1.08847598, 0.97752272, 0.97703437,\n",
       "       1.00443289, 1.01744039, 1.01587462, 1.07264747, 0.98073981,\n",
       "       1.02353464, 1.05769696, 0.96026304, 1.07116174, 1.05544626,\n",
       "       0.95523715, 1.04555704, 1.04930914, 1.02250028, 1.06035113,\n",
       "       0.95075393, 0.93524626, 1.02800054, 1.05992544, 0.92919205])"
      ]
     },
     "execution_count": 33,
     "metadata": {},
     "output_type": "execute_result"
    }
   ],
   "source": [
    "y"
   ]
  },
  {
   "cell_type": "code",
   "execution_count": null,
   "metadata": {},
   "outputs": [],
   "source": []
  }
 ],
 "metadata": {
  "kernelspec": {
   "display_name": "Python 3",
   "language": "python",
   "name": "python3"
  },
  "language_info": {
   "codemirror_mode": {
    "name": "ipython",
    "version": 3
   },
   "file_extension": ".py",
   "mimetype": "text/x-python",
   "name": "python",
   "nbconvert_exporter": "python",
   "pygments_lexer": "ipython3",
   "version": "3.9.4"
  },
  "toc": {
   "base_numbering": 1,
   "nav_menu": {},
   "number_sections": true,
   "sideBar": true,
   "skip_h1_title": false,
   "title_cell": "Table of Contents",
   "title_sidebar": "Contents",
   "toc_cell": false,
   "toc_position": {},
   "toc_section_display": true,
   "toc_window_display": true
  }
 },
 "nbformat": 4,
 "nbformat_minor": 4
}
