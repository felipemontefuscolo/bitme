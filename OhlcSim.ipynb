{
 "cells": [
  {
   "cell_type": "code",
   "execution_count": 3,
   "metadata": {},
   "outputs": [],
   "source": [
    "import pandas as pd\n",
    "import numpy as np\n",
    "import math"
   ]
  },
  {
   "cell_type": "code",
   "execution_count": 268,
   "metadata": {},
   "outputs": [],
   "source": [
    "df = pd.read_csv('data/XBTUSDC_60.csv', header=None,\n",
    "                 names=['time', 'open', 'high', 'low', 'close', 'volume', 'trades'])\n",
    "df.set_index('time', inplace=True)\n",
    "df.index = pd.DatetimeIndex(df.index * 1e+9)"
   ]
  },
  {
   "cell_type": "code",
   "execution_count": 269,
   "metadata": {},
   "outputs": [
    {
     "data": {
      "text/plain": [
       "9215"
      ]
     },
     "execution_count": 269,
     "metadata": {},
     "output_type": "execute_result"
    }
   ],
   "source": [
    "len(df)"
   ]
  },
  {
   "cell_type": "code",
   "execution_count": 5,
   "metadata": {},
   "outputs": [
    {
     "data": {
      "text/html": [
       "<div>\n",
       "<style scoped>\n",
       "    .dataframe tbody tr th:only-of-type {\n",
       "        vertical-align: middle;\n",
       "    }\n",
       "\n",
       "    .dataframe tbody tr th {\n",
       "        vertical-align: top;\n",
       "    }\n",
       "\n",
       "    .dataframe thead th {\n",
       "        text-align: right;\n",
       "    }\n",
       "</style>\n",
       "<table border=\"1\" class=\"dataframe\">\n",
       "  <thead>\n",
       "    <tr style=\"text-align: right;\">\n",
       "      <th></th>\n",
       "      <th>open</th>\n",
       "      <th>high</th>\n",
       "      <th>low</th>\n",
       "      <th>close</th>\n",
       "      <th>volume</th>\n",
       "      <th>trades</th>\n",
       "    </tr>\n",
       "    <tr>\n",
       "      <th>time</th>\n",
       "      <th></th>\n",
       "      <th></th>\n",
       "      <th></th>\n",
       "      <th></th>\n",
       "      <th></th>\n",
       "      <th></th>\n",
       "    </tr>\n",
       "  </thead>\n",
       "  <tbody>\n",
       "    <tr>\n",
       "      <th>2020-01-08 15:00:00</th>\n",
       "      <td>8300.00</td>\n",
       "      <td>8300.00</td>\n",
       "      <td>8300.00</td>\n",
       "      <td>8300.00</td>\n",
       "      <td>0.002410</td>\n",
       "      <td>2</td>\n",
       "    </tr>\n",
       "    <tr>\n",
       "      <th>2020-01-08 16:00:00</th>\n",
       "      <td>8217.51</td>\n",
       "      <td>8217.51</td>\n",
       "      <td>8217.51</td>\n",
       "      <td>8217.51</td>\n",
       "      <td>0.012290</td>\n",
       "      <td>2</td>\n",
       "    </tr>\n",
       "    <tr>\n",
       "      <th>2020-01-08 17:00:00</th>\n",
       "      <td>7900.01</td>\n",
       "      <td>7949.99</td>\n",
       "      <td>7870.00</td>\n",
       "      <td>7949.99</td>\n",
       "      <td>0.052487</td>\n",
       "      <td>10</td>\n",
       "    </tr>\n",
       "    <tr>\n",
       "      <th>2020-01-08 18:00:00</th>\n",
       "      <td>7949.99</td>\n",
       "      <td>8000.00</td>\n",
       "      <td>7870.99</td>\n",
       "      <td>7870.99</td>\n",
       "      <td>0.038592</td>\n",
       "      <td>8</td>\n",
       "    </tr>\n",
       "    <tr>\n",
       "      <th>2020-01-08 20:00:00</th>\n",
       "      <td>7870.98</td>\n",
       "      <td>7999.99</td>\n",
       "      <td>7870.00</td>\n",
       "      <td>7999.99</td>\n",
       "      <td>0.044715</td>\n",
       "      <td>5</td>\n",
       "    </tr>\n",
       "  </tbody>\n",
       "</table>\n",
       "</div>"
      ],
      "text/plain": [
       "                        open     high      low    close    volume  trades\n",
       "time                                                                     \n",
       "2020-01-08 15:00:00  8300.00  8300.00  8300.00  8300.00  0.002410       2\n",
       "2020-01-08 16:00:00  8217.51  8217.51  8217.51  8217.51  0.012290       2\n",
       "2020-01-08 17:00:00  7900.01  7949.99  7870.00  7949.99  0.052487      10\n",
       "2020-01-08 18:00:00  7949.99  8000.00  7870.99  7870.99  0.038592       8\n",
       "2020-01-08 20:00:00  7870.98  7999.99  7870.00  7999.99  0.044715       5"
      ]
     },
     "execution_count": 5,
     "metadata": {},
     "output_type": "execute_result"
    }
   ],
   "source": [
    "df.head()"
   ]
  },
  {
   "cell_type": "code",
   "execution_count": 6,
   "metadata": {},
   "outputs": [
    {
     "data": {
      "text/plain": [
       "float"
      ]
     },
     "execution_count": 6,
     "metadata": {},
     "output_type": "execute_result"
    }
   ],
   "source": [
    "type(math.sqrt(4))"
   ]
  },
  {
   "cell_type": "code",
   "execution_count": 7,
   "metadata": {},
   "outputs": [
    {
     "data": {
      "text/plain": [
       "(0.5, 0.7071067811865476)"
      ]
     },
     "execution_count": 7,
     "metadata": {},
     "output_type": "execute_result"
    }
   ],
   "source": [
    "np.std([3,4],ddof=0), math.sqrt((0.5**2 + 0.5**2)/1)"
   ]
  },
  {
   "cell_type": "code",
   "execution_count": 8,
   "metadata": {},
   "outputs": [
    {
     "data": {
      "text/plain": [
       "(0.25, 0.25)"
      ]
     },
     "execution_count": 8,
     "metadata": {},
     "output_type": "execute_result"
    }
   ],
   "source": [
    "np.var([3,4]), np.std([3,4])**2"
   ]
  },
  {
   "cell_type": "code",
   "execution_count": 246,
   "metadata": {},
   "outputs": [],
   "source": [
    "class Trader1:\n",
    "    # Bollinger: https://www.investopedia.com/trading/using-bollinger-bands-to-gauge-trends/#:~:text=Using%20the%20bands%20as%20overbought,have%20deviated%20from%20the%20mean.\n",
    "    def __init__(self, n_cycles, n_devs, qty):\n",
    "        # qty = quantity to trade at a time\n",
    "        # EMA = Closing price x multiplier + EMA (previous day) x (1-multiplier)\n",
    "        # \n",
    "        # BOLU=MA(TP,n)+m∗σ[TP,n]\n",
    "        # BOLD=MA(TP,n)−m∗σ[TP,n]\n",
    "        # where:\n",
    "        # BOLU=Upper Bollinger Band\n",
    "        # BOLD=Lower Bollinger Band\n",
    "        # MA=Moving average\n",
    "        # TP (typical price)=(High+Low+Close)÷3\n",
    "        # n=Number of cycles in smoothing period ... n_cycles\n",
    "        # m=Number of standard deviations ... n_devs\n",
    "        # σ[TP,n]=Standard Deviation over last n periods of TP\n",
    "        self.N = n_cycles\n",
    "        self.M = n_devs\n",
    "        self.qty = qty\n",
    "        self.prices = np.array([0.] * self.N)\n",
    "        \n",
    "        self.sma = None\n",
    "        self.upper = None\n",
    "        self.lower = None\n",
    "        self.var = None\n",
    "        self.std = None\n",
    "    \n",
    "        self.position = 0\n",
    "        self.trades = []\n",
    "        \n",
    "        self.warming_up = True\n",
    "        self.i = 0\n",
    "    \n",
    "    def update(self, cycle, ohlc: dict, price):\n",
    "        _, high, low, close = self._unpack(ohlc)\n",
    "\n",
    "        last_price = self.prices[self.i]\n",
    "        self.prices[self.i] = price\n",
    "        self.i += 1\n",
    "        if self.i == len(self.prices):\n",
    "            self.i = 0\n",
    "            if self.warming_up:\n",
    "                self.warming_up = False\n",
    "                self.sma = np.mean(self.prices)\n",
    "                self.var = np.var(self.prices)\n",
    "                self.std = math.sqrt(self.var)\n",
    "                self.upper = self.sma + self.std\n",
    "                self.lower = self.sma - self.std\n",
    "                return\n",
    "\n",
    "        if not self.warming_up:\n",
    "            old_sma = self.sma\n",
    "            self.sma += (price - last_price) / self.N\n",
    "            self.var += (price - self.sma + last_price - old_sma)*(price - last_price)/(self.N)\n",
    "            self.var = self.check_var(self.var)\n",
    "            self.std = math.sqrt(self.var)\n",
    "            self.upper = self.sma + self.std\n",
    "            self.lower = self.sma - self.std\n",
    "\n",
    "    def check(self, x):\n",
    "        if np.abs(x) > 0.01:\n",
    "            raise\n",
    "    \n",
    "    def check_var(self, var):\n",
    "        if var < 0:\n",
    "            if abs(var) >= 1.e-6:\n",
    "                raise Exception(f'var was {var}')\n",
    "            return 0.\n",
    "        return var\n",
    "    \n",
    "    def trade(self) -> float:  # return number of shares to trade\n",
    "        if self.warming_up:\n",
    "            return None\n",
    "        # buy\n",
    "        if self.prices[self.i] < self.lower and self.position <= 0:\n",
    "            self.position += self.qty\n",
    "            return self.qty\n",
    "    \n",
    "        # sell\n",
    "        if self.prices[self.i] > self.upper and self.position >= 0:\n",
    "            self.position -= self.qty\n",
    "            return -self.qty\n",
    "        \n",
    "    \n",
    "    @staticmethod\n",
    "    def _unpack(ohlc: dict):\n",
    "        return ohlc['open'], ohlc['high'], ohlc['low'], ohlc['close']"
   ]
  },
  {
   "cell_type": "code",
   "execution_count": 303,
   "metadata": {},
   "outputs": [],
   "source": [
    "def trade(df, model):\n",
    "    # model needs to have .update(cycle, ohlc) and trade()\n",
    "    # return the trades\n",
    "\n",
    "    trades = pd.DataFrame(index=df.index)\n",
    "    trades['qty'] = [0.] * len(trades)\n",
    "    \n",
    "    for i, (cycle, ohlc) in enumerate(df.iterrows()):\n",
    "        model.update(cycle, ohlc, ohlc['close'])\n",
    "        qty = model.trade()\n",
    "        if qty:\n",
    "            trades.iloc[i] = qty\n",
    "    return trades\n",
    "\n",
    "def account(df, trades, fee=0.0026):\n",
    "    prices = df.open\n",
    "    volume = prices.shift(-1, fill_value=prices.iloc[-1]) * trades.qty * (1 + np.sign(trades.qty) * fee)\n",
    "\n",
    "    last_price = prices.iloc[-1]\n",
    "    qty_to_liquidate = -trades.qty.sum()\n",
    "    last_volume = last_price * qty_to_liquidate * (1 + np.sign(qty_to_liquidate) * fee)\n",
    "\n",
    "    pnl = -(last_volume + volume.sum())\n",
    "    \n",
    "    return pnl\n",
    "\n",
    "def cycle_realized_pnl(df, trades, fee=0.0026):\n",
    "    prices = df.open.shift(-1, fill_value=df.open.iloc[-1])\n",
    "    volume = prices * trades.qty * (1 + np.sign(trades.qty) * fee)\n",
    "    \n",
    "    values = pd.DataFrame(index=prices.index, columns=['pnl', 'adjusted_pnl']).fillna(0.)\n",
    "    v = 0.\n",
    "    position = 0.\n",
    "    max_position = 0.\n",
    "    open_price = 0.\n",
    "    for i, qty in enumerate(trades.qty):\n",
    "        was_open = position != 0\n",
    "        \n",
    "        position = round(position + qty, 8)\n",
    "        max_position = max(abs(position), max_position)\n",
    "        v -= volume.iloc[i]\n",
    "        \n",
    "        if not was_open and position != 0:\n",
    "            open_price = prices[i]\n",
    "        \n",
    "        if position == 0:\n",
    "            if was_open:\n",
    "                market_pnl = max_position * abs(prices[i] - open_price)\n",
    "                #market_pnl -= fee * max_position * (prices[i] + open_price)\n",
    "                values.iloc[i] = (v, v - market_pnl)\n",
    "            v = 0\n",
    "            max_position = 0\n",
    "            \n",
    "    if position:\n",
    "        last_price = prices.iloc[-1]\n",
    "        assert position == trades.qty.sum()\n",
    "        qty_to_liquidate = -position\n",
    "        last_volume = last_price * qty_to_liquidate * (1 + np.sign(qty_to_liquidate) * fee)\n",
    "        assert values.iloc[-1][0] == 0\n",
    "        \n",
    "        market_pnl = max_position * abs(prices[i] - open_price)\n",
    "        #market_pnl -= fee * max_position * (prices[i] + open_price)\n",
    "        values.iloc[i] = (-last_volume + v, -last_volume + v - market_pnl)\n",
    "        \n",
    "        #values.iloc[-1] = -last_volume + v\n",
    "    return values\n",
    "\n",
    "\n",
    "def sharpe(pnls):\n",
    "    return np.sum(pnls) / np.std(pnls)\n",
    "\n",
    "def test_account():\n",
    "    df = pd.DataFrame({'open': [10,11,12,13,14]})\n",
    "    trades = pd.DataFrame({'qty': [1,-1,1,0,0]})\n",
    "    fee = 1\n",
    "    a = cycle_realized_pnl(df, trades, fee=fee).pnl.sum()\n",
    "    b = account(df, trades, fee=fee)\n",
    "    assert a == b\n",
    "    assert a == -48.\n",
    "    c = cycle_realized_pnl(df, trades, fee=fee).adjusted_pnl.sum()\n",
    "    assert c == -50., f'c = {c}'\n",
    "\n",
    "test_account()"
   ]
  },
  {
   "cell_type": "code",
   "execution_count": 304,
   "metadata": {},
   "outputs": [
    {
     "data": {
      "text/plain": [
       "(-260.23484555398574, -1240.64306861386)"
      ]
     },
     "execution_count": 304,
     "metadata": {},
     "output_type": "execute_result"
    }
   ],
   "source": [
    "trades = trade(df, Trader1(10, 2, 0.002))\n",
    "acc = cycle_realized_pnl(df, trades)\n",
    "sharpe(acc.pnl), sharpe(acc.adjusted_pnl)"
   ]
  },
  {
   "cell_type": "code",
   "execution_count": 290,
   "metadata": {},
   "outputs": [
    {
     "ename": "AttributeError",
     "evalue": "'DataFrame' object has no attribute 'ajusted_pnl'",
     "output_type": "error",
     "traceback": [
      "\u001b[0;31m---------------------------------------------------------------------------\u001b[0m",
      "\u001b[0;31mAttributeError\u001b[0m                            Traceback (most recent call last)",
      "\u001b[0;32m<ipython-input-290-c64568a649e0>\u001b[0m in \u001b[0;36m<module>\u001b[0;34m\u001b[0m\n\u001b[0;32m----> 1\u001b[0;31m \u001b[0msharpe\u001b[0m\u001b[0;34m(\u001b[0m\u001b[0macc\u001b[0m\u001b[0;34m.\u001b[0m\u001b[0majusted_pnl\u001b[0m\u001b[0;34m)\u001b[0m\u001b[0;34m\u001b[0m\u001b[0;34m\u001b[0m\u001b[0m\n\u001b[0m",
      "\u001b[0;32m/opt/miniconda3/lib/python3.7/site-packages/pandas/core/generic.py\u001b[0m in \u001b[0;36m__getattr__\u001b[0;34m(self, name)\u001b[0m\n\u001b[1;32m   5463\u001b[0m             \u001b[0;32mif\u001b[0m \u001b[0mself\u001b[0m\u001b[0;34m.\u001b[0m\u001b[0m_info_axis\u001b[0m\u001b[0;34m.\u001b[0m\u001b[0m_can_hold_identifiers_and_holds_name\u001b[0m\u001b[0;34m(\u001b[0m\u001b[0mname\u001b[0m\u001b[0;34m)\u001b[0m\u001b[0;34m:\u001b[0m\u001b[0;34m\u001b[0m\u001b[0;34m\u001b[0m\u001b[0m\n\u001b[1;32m   5464\u001b[0m                 \u001b[0;32mreturn\u001b[0m \u001b[0mself\u001b[0m\u001b[0;34m[\u001b[0m\u001b[0mname\u001b[0m\u001b[0;34m]\u001b[0m\u001b[0;34m\u001b[0m\u001b[0;34m\u001b[0m\u001b[0m\n\u001b[0;32m-> 5465\u001b[0;31m             \u001b[0;32mreturn\u001b[0m \u001b[0mobject\u001b[0m\u001b[0;34m.\u001b[0m\u001b[0m__getattribute__\u001b[0m\u001b[0;34m(\u001b[0m\u001b[0mself\u001b[0m\u001b[0;34m,\u001b[0m \u001b[0mname\u001b[0m\u001b[0;34m)\u001b[0m\u001b[0;34m\u001b[0m\u001b[0;34m\u001b[0m\u001b[0m\n\u001b[0m\u001b[1;32m   5466\u001b[0m \u001b[0;34m\u001b[0m\u001b[0m\n\u001b[1;32m   5467\u001b[0m     \u001b[0;32mdef\u001b[0m \u001b[0m__setattr__\u001b[0m\u001b[0;34m(\u001b[0m\u001b[0mself\u001b[0m\u001b[0;34m,\u001b[0m \u001b[0mname\u001b[0m\u001b[0;34m:\u001b[0m \u001b[0mstr\u001b[0m\u001b[0;34m,\u001b[0m \u001b[0mvalue\u001b[0m\u001b[0;34m)\u001b[0m \u001b[0;34m->\u001b[0m \u001b[0;32mNone\u001b[0m\u001b[0;34m:\u001b[0m\u001b[0;34m\u001b[0m\u001b[0;34m\u001b[0m\u001b[0m\n",
      "\u001b[0;31mAttributeError\u001b[0m: 'DataFrame' object has no attribute 'ajusted_pnl'"
     ]
    }
   ],
   "source": []
  },
  {
   "cell_type": "code",
   "execution_count": 286,
   "metadata": {},
   "outputs": [
    {
     "data": {
      "text/html": [
       "<div>\n",
       "<style scoped>\n",
       "    .dataframe tbody tr th:only-of-type {\n",
       "        vertical-align: middle;\n",
       "    }\n",
       "\n",
       "    .dataframe tbody tr th {\n",
       "        vertical-align: top;\n",
       "    }\n",
       "\n",
       "    .dataframe thead th {\n",
       "        text-align: right;\n",
       "    }\n",
       "</style>\n",
       "<table border=\"1\" class=\"dataframe\">\n",
       "  <thead>\n",
       "    <tr style=\"text-align: right;\">\n",
       "      <th></th>\n",
       "      <th>pnl</th>\n",
       "      <th>max_position</th>\n",
       "    </tr>\n",
       "    <tr>\n",
       "      <th>time</th>\n",
       "      <th></th>\n",
       "      <th></th>\n",
       "    </tr>\n",
       "  </thead>\n",
       "  <tbody>\n",
       "    <tr>\n",
       "      <th>2020-01-09 23:00:00</th>\n",
       "      <td>0.090375</td>\n",
       "      <td>0.002000</td>\n",
       "    </tr>\n",
       "    <tr>\n",
       "      <th>2020-01-11 01:00:00</th>\n",
       "      <td>-0.738039</td>\n",
       "      <td>0.002000</td>\n",
       "    </tr>\n",
       "    <tr>\n",
       "      <th>2020-01-12 08:00:00</th>\n",
       "      <td>0.010469</td>\n",
       "      <td>0.002000</td>\n",
       "    </tr>\n",
       "    <tr>\n",
       "      <th>2020-01-12 18:00:00</th>\n",
       "      <td>-0.186679</td>\n",
       "      <td>0.002000</td>\n",
       "    </tr>\n",
       "    <tr>\n",
       "      <th>2020-01-15 18:00:00</th>\n",
       "      <td>1.251770</td>\n",
       "      <td>0.002000</td>\n",
       "    </tr>\n",
       "    <tr>\n",
       "      <th>...</th>\n",
       "      <td>...</td>\n",
       "      <td>...</td>\n",
       "    </tr>\n",
       "    <tr>\n",
       "      <th>2021-03-30 05:00:00</th>\n",
       "      <td>-0.671106</td>\n",
       "      <td>0.002000</td>\n",
       "    </tr>\n",
       "    <tr>\n",
       "      <th>2021-03-30 20:00:00</th>\n",
       "      <td>-1.875777</td>\n",
       "      <td>0.002000</td>\n",
       "    </tr>\n",
       "    <tr>\n",
       "      <th>2021-03-31 00:00:00</th>\n",
       "      <td>-0.974414</td>\n",
       "      <td>0.002000</td>\n",
       "    </tr>\n",
       "    <tr>\n",
       "      <th>2021-03-31 18:00:00</th>\n",
       "      <td>-2.229786</td>\n",
       "      <td>0.002000</td>\n",
       "    </tr>\n",
       "    <tr>\n",
       "      <th>2021-03-31 23:00:00</th>\n",
       "      <td>-0.599448</td>\n",
       "      <td>-0.599448</td>\n",
       "    </tr>\n",
       "  </tbody>\n",
       "</table>\n",
       "<p>743 rows × 2 columns</p>\n",
       "</div>"
      ],
      "text/plain": [
       "                          pnl  max_position\n",
       "time                                       \n",
       "2020-01-09 23:00:00  0.090375      0.002000\n",
       "2020-01-11 01:00:00 -0.738039      0.002000\n",
       "2020-01-12 08:00:00  0.010469      0.002000\n",
       "2020-01-12 18:00:00 -0.186679      0.002000\n",
       "2020-01-15 18:00:00  1.251770      0.002000\n",
       "...                       ...           ...\n",
       "2021-03-30 05:00:00 -0.671106      0.002000\n",
       "2021-03-30 20:00:00 -1.875777      0.002000\n",
       "2021-03-31 00:00:00 -0.974414      0.002000\n",
       "2021-03-31 18:00:00 -2.229786      0.002000\n",
       "2021-03-31 23:00:00 -0.599448     -0.599448\n",
       "\n",
       "[743 rows x 2 columns]"
      ]
     },
     "execution_count": 286,
     "metadata": {},
     "output_type": "execute_result"
    }
   ],
   "source": [
    "acc[acc.pnl != 0]"
   ]
  },
  {
   "cell_type": "code",
   "execution_count": 238,
   "metadata": {},
   "outputs": [
    {
     "data": {
      "text/plain": [
       "-260.23484555398574"
      ]
     },
     "execution_count": 238,
     "metadata": {},
     "output_type": "execute_result"
    }
   ],
   "source": [
    "sharpe(cycle_realized_pnl(df, trades))"
   ]
  },
  {
   "cell_type": "markdown",
   "metadata": {},
   "source": [
    "# Plotting"
   ]
  },
  {
   "cell_type": "code",
   "execution_count": 1,
   "metadata": {},
   "outputs": [
    {
     "data": {
      "text/html": [
       "        <script type=\"text/javascript\">\n",
       "        window.PlotlyConfig = {MathJaxConfig: 'local'};\n",
       "        if (window.MathJax) {MathJax.Hub.Config({SVG: {font: \"STIX-Web\"}});}\n",
       "        if (typeof require !== 'undefined') {\n",
       "        require.undef(\"plotly\");\n",
       "        requirejs.config({\n",
       "            paths: {\n",
       "                'plotly': ['https://cdn.plot.ly/plotly-latest.min']\n",
       "            }\n",
       "        });\n",
       "        require(['plotly'], function(Plotly) {\n",
       "            window._Plotly = Plotly;\n",
       "        });\n",
       "        }\n",
       "        </script>\n",
       "        "
      ]
     },
     "metadata": {},
     "output_type": "display_data"
    }
   ],
   "source": [
    "import plotly.graph_objs as go\n",
    "import plotly.offline as offline\n",
    "\n",
    "offline.init_notebook_mode(connected=True)"
   ]
  },
  {
   "cell_type": "code",
   "execution_count": null,
   "metadata": {},
   "outputs": [],
   "source": [
    "trace = go.Scatter(\n",
    "    x=trades.index,\n",
    "    y=trades['price'],\n",
    "    name='Tick'\n",
    "    # mode='markers',\n",
    "    # marker=dict(\n",
    "    #     size=10,\n",
    "    #     color='rgba(182, 255, 193, .9)',\n",
    "    #     line=dict(\n",
    "    #         width=2,\n",
    "    #     )\n",
    "    # )\n",
    ")"
   ]
  },
  {
   "cell_type": "markdown",
   "metadata": {},
   "source": [
    "# Analysing"
   ]
  },
  {
   "cell_type": "markdown",
   "metadata": {},
   "source": [
    "sharpe = sum(return) / std(return)"
   ]
  },
  {
   "cell_type": "markdown",
   "metadata": {},
   "source": [
    "Trader1: n_cycles, n_devs, qty"
   ]
  },
  {
   "cell_type": "code",
   "execution_count": 252,
   "metadata": {},
   "outputs": [],
   "source": [
    "results = {}"
   ]
  },
  {
   "cell_type": "code",
   "execution_count": 253,
   "metadata": {},
   "outputs": [
    {
     "name": "stdout",
     "output_type": "stream",
     "text": [
      "Running model(80, 1, 0.002)... Got sharpe = -62.927979033923584, n_trades = 249\n",
      "Running model(82, 1, 0.002)... Got sharpe = -38.48547976421766, n_trades = 243\n",
      "Running model(84, 1, 0.002)... Got sharpe = -48.76622022102478, n_trades = 239\n",
      "Running model(86, 1, 0.002)... Got sharpe = -47.35417096943306, n_trades = 231\n",
      "Running model(88, 1, 0.002)... Got sharpe = -16.028491967711055, n_trades = 229\n",
      "Running model(90, 1, 0.002)... Got sharpe = -9.388969578716706, n_trades = 225\n",
      "Running model(92, 1, 0.002)... Got sharpe = 18.873831415136898, n_trades = 219\n",
      "Running model(94, 1, 0.002)... Got sharpe = 8.479512145683174, n_trades = 211\n",
      "Running model(96, 1, 0.002)... Got sharpe = 28.955295825309037, n_trades = 207\n",
      "Running model(98, 1, 0.002)... Got sharpe = 35.47326420334236, n_trades = 205\n",
      "Running model(100, 1, 0.002)... Got sharpe = 63.597410737361066, n_trades = 197\n",
      "Running model(102, 1, 0.002)... Got sharpe = 87.49540920299229, n_trades = 197\n",
      "Running model(104, 1, 0.002)... Got sharpe = 106.36341890202374, n_trades = 193\n",
      "Running model(106, 1, 0.002)... Got sharpe = 89.079888808641, n_trades = 189\n",
      "Running model(108, 1, 0.002)... Got sharpe = 57.99444489163017, n_trades = 183\n",
      "Running model(110, 1, 0.002)... Got sharpe = 78.99190986109011, n_trades = 183\n",
      "Running model(112, 1, 0.002)... Got sharpe = 76.95879537870915, n_trades = 181\n",
      "Running model(114, 1, 0.002)... Got sharpe = 96.18554711658759, n_trades = 181\n",
      "Running model(116, 1, 0.002)... Got sharpe = 37.870835750335296, n_trades = 179\n",
      "Running model(118, 1, 0.002)... Got sharpe = 35.58322296870231, n_trades = 177\n",
      "Running model(120, 1, 0.002)... Got sharpe = 69.28106613414475, n_trades = 173\n",
      "Running model(122, 1, 0.002)... Got sharpe = 69.53158941460185, n_trades = 173\n",
      "Running model(124, 1, 0.002)... Got sharpe = 59.53448664904926, n_trades = 169\n",
      "Running model(126, 1, 0.002)... Got sharpe = 50.58449530836365, n_trades = 167\n",
      "Running model(128, 1, 0.002)... Got sharpe = 69.70279957592584, n_trades = 163\n",
      "Running model(130, 1, 0.002)... Got sharpe = 64.03617346538063, n_trades = 159\n",
      "Running model(132, 1, 0.002)... Got sharpe = 87.64668350993276, n_trades = 153\n",
      "Running model(134, 1, 0.002)... Got sharpe = 73.20295293331428, n_trades = 153\n",
      "Running model(136, 1, 0.002)... Got sharpe = 98.53606656928666, n_trades = 153\n",
      "Running model(138, 1, 0.002)... Got sharpe = 81.49496488944295, n_trades = 153\n",
      "Running model(140, 1, 0.002)... Got sharpe = 46.428284985128755, n_trades = 153\n",
      "Running model(142, 1, 0.002)... Got sharpe = 66.90548499927571, n_trades = 153\n",
      "Running model(144, 1, 0.002)... Got sharpe = 86.77084507368573, n_trades = 151\n",
      "Running model(146, 1, 0.002)... Got sharpe = 117.501078239044, n_trades = 149\n",
      "Running model(148, 1, 0.002)... Got sharpe = 112.6107763218567, n_trades = 151\n",
      "Running model(150, 1, 0.002)... Got sharpe = 124.21585299637027, n_trades = 145\n",
      "Running model(152, 1, 0.002)... Got sharpe = 172.28170439310898, n_trades = 143\n",
      "Running model(154, 1, 0.002)... Got sharpe = 170.3029839940321, n_trades = 147\n",
      "Running model(156, 1, 0.002)... Got sharpe = 157.50847592648822, n_trades = 139\n",
      "Running model(158, 1, 0.002)... Got sharpe = 170.7516051703849, n_trades = 141\n",
      "Running model(160, 1, 0.002)... Got sharpe = 184.82298644221171, n_trades = 139\n",
      "Running model(162, 1, 0.002)... Got sharpe = 178.4637802761992, n_trades = 137\n",
      "Running model(164, 1, 0.002)... Got sharpe = 153.1170840841822, n_trades = 131\n",
      "Running model(166, 1, 0.002)... Got sharpe = 134.27555246769, n_trades = 133\n",
      "Running model(168, 1, 0.002)... Got sharpe = 136.1232516040144, n_trades = 135\n",
      "Running model(170, 1, 0.002)... Got sharpe = 140.78518409163246, n_trades = 130\n",
      "Running model(172, 1, 0.002)... Got sharpe = 132.78067086941172, n_trades = 125\n",
      "Running model(174, 1, 0.002)... Got sharpe = 121.52047727479231, n_trades = 125\n",
      "Running model(176, 1, 0.002)... Got sharpe = 111.64169849447065, n_trades = 121\n",
      "Running model(178, 1, 0.002)... Got sharpe = 105.28382699562168, n_trades = 119\n",
      "Running model(180, 1, 0.002)... Got sharpe = 86.59370491124973, n_trades = 117\n",
      "Running model(182, 1, 0.002)... Got sharpe = 64.37360376179332, n_trades = 115\n",
      "Running model(184, 1, 0.002)... Got sharpe = 39.18734788644151, n_trades = 117\n",
      "Running model(186, 1, 0.002)... Got sharpe = 28.455407430237514, n_trades = 111\n",
      "Running model(188, 1, 0.002)... Got sharpe = 55.734573624040756, n_trades = 112\n",
      "Running model(190, 1, 0.002)... Got sharpe = 63.001618708325495, n_trades = 110\n",
      "Running model(192, 1, 0.002)... Got sharpe = 83.22079138828657, n_trades = 110\n",
      "Running model(194, 1, 0.002)... Got sharpe = 97.1144594333514, n_trades = 110\n",
      "Running model(196, 1, 0.002)... Got sharpe = 91.89761945643494, n_trades = 108\n",
      "Running model(198, 1, 0.002)... Got sharpe = 79.32360879347688, n_trades = 108\n"
     ]
    }
   ],
   "source": [
    "model = Trader1\n",
    "for n_cycles in range(80,200,2):\n",
    "    for n_devs in [1]:\n",
    "        for qty in [0.002]:\n",
    "            print(f'Running model({n_cycles}, {n_devs}, {qty})', end='...')\n",
    "            trades = trade(df, model(n_cycles, n_devs, qty))\n",
    "            n_trades = len(trades[trades.qty != 0])\n",
    "            s = sharpe(cycle_realized_pnl(df, trades))\n",
    "            results[(n_cycles, n_devs, qty)] = (s, n_trades)\n",
    "            print(f' Got sharpe = {s}, n_trades = {n_trades}')"
   ]
  },
  {
   "cell_type": "code",
   "execution_count": 263,
   "metadata": {},
   "outputs": [
    {
     "data": {
      "text/plain": [
       "[((80, 1, 0.002), (-62.927979033923584, 249)),\n",
       " ((84, 1, 0.002), (-48.76622022102478, 239)),\n",
       " ((86, 1, 0.002), (-47.35417096943306, 231)),\n",
       " ((82, 1, 0.002), (-38.48547976421766, 243)),\n",
       " ((88, 1, 0.002), (-16.028491967711055, 229)),\n",
       " ((90, 1, 0.002), (-9.388969578716706, 225)),\n",
       " ((94, 1, 0.002), (8.479512145683174, 211)),\n",
       " ((92, 1, 0.002), (18.873831415136898, 219)),\n",
       " ((186, 1, 0.002), (28.455407430237514, 111)),\n",
       " ((96, 1, 0.002), (28.955295825309037, 207)),\n",
       " ((98, 1, 0.002), (35.47326420334236, 205)),\n",
       " ((118, 1, 0.002), (35.58322296870231, 177)),\n",
       " ((116, 1, 0.002), (37.870835750335296, 179)),\n",
       " ((184, 1, 0.002), (39.18734788644151, 117)),\n",
       " ((140, 1, 0.002), (46.428284985128755, 153)),\n",
       " ((126, 1, 0.002), (50.58449530836365, 167)),\n",
       " ((188, 1, 0.002), (55.734573624040756, 112)),\n",
       " ((108, 1, 0.002), (57.99444489163017, 183)),\n",
       " ((124, 1, 0.002), (59.53448664904926, 169)),\n",
       " ((190, 1, 0.002), (63.001618708325495, 110)),\n",
       " ((100, 1, 0.002), (63.597410737361066, 197)),\n",
       " ((130, 1, 0.002), (64.03617346538063, 159)),\n",
       " ((182, 1, 0.002), (64.37360376179332, 115)),\n",
       " ((142, 1, 0.002), (66.90548499927571, 153)),\n",
       " ((120, 1, 0.002), (69.28106613414475, 173)),\n",
       " ((122, 1, 0.002), (69.53158941460185, 173)),\n",
       " ((128, 1, 0.002), (69.70279957592584, 163)),\n",
       " ((134, 1, 0.002), (73.20295293331428, 153)),\n",
       " ((112, 1, 0.002), (76.95879537870915, 181)),\n",
       " ((110, 1, 0.002), (78.99190986109011, 183)),\n",
       " ((198, 1, 0.002), (79.32360879347688, 108)),\n",
       " ((138, 1, 0.002), (81.49496488944295, 153)),\n",
       " ((192, 1, 0.002), (83.22079138828657, 110)),\n",
       " ((180, 1, 0.002), (86.59370491124973, 117)),\n",
       " ((144, 1, 0.002), (86.77084507368573, 151)),\n",
       " ((102, 1, 0.002), (87.49540920299229, 197)),\n",
       " ((132, 1, 0.002), (87.64668350993276, 153)),\n",
       " ((106, 1, 0.002), (89.079888808641, 189)),\n",
       " ((196, 1, 0.002), (91.89761945643494, 108)),\n",
       " ((114, 1, 0.002), (96.18554711658759, 181)),\n",
       " ((194, 1, 0.002), (97.1144594333514, 110)),\n",
       " ((136, 1, 0.002), (98.53606656928666, 153)),\n",
       " ((178, 1, 0.002), (105.28382699562168, 119)),\n",
       " ((104, 1, 0.002), (106.36341890202374, 193)),\n",
       " ((176, 1, 0.002), (111.64169849447065, 121)),\n",
       " ((148, 1, 0.002), (112.6107763218567, 151)),\n",
       " ((146, 1, 0.002), (117.501078239044, 149)),\n",
       " ((174, 1, 0.002), (121.52047727479231, 125)),\n",
       " ((150, 1, 0.002), (124.21585299637027, 145)),\n",
       " ((172, 1, 0.002), (132.78067086941172, 125)),\n",
       " ((166, 1, 0.002), (134.27555246769, 133)),\n",
       " ((168, 1, 0.002), (136.1232516040144, 135)),\n",
       " ((170, 1, 0.002), (140.78518409163246, 130)),\n",
       " ((164, 1, 0.002), (153.1170840841822, 131)),\n",
       " ((156, 1, 0.002), (157.50847592648822, 139)),\n",
       " ((154, 1, 0.002), (170.3029839940321, 147)),\n",
       " ((158, 1, 0.002), (170.7516051703849, 141)),\n",
       " ((152, 1, 0.002), (172.28170439310898, 143)),\n",
       " ((162, 1, 0.002), (178.4637802761992, 137)),\n",
       " ((160, 1, 0.002), (184.82298644221171, 139))]"
      ]
     },
     "execution_count": 263,
     "metadata": {},
     "output_type": "execute_result"
    }
   ],
   "source": [
    "sorted(results.items(), key=lambda x: results[x[0]][0])"
   ]
  },
  {
   "cell_type": "code",
   "execution_count": 264,
   "metadata": {},
   "outputs": [
    {
     "data": {
      "text/plain": [
       "6.666666666666667"
      ]
     },
     "execution_count": 264,
     "metadata": {},
     "output_type": "execute_result"
    }
   ],
   "source": [
    "160 / 24\n"
   ]
  },
  {
   "cell_type": "code",
   "execution_count": 265,
   "metadata": {},
   "outputs": [
    {
     "data": {
      "text/html": [
       "<div>\n",
       "<style scoped>\n",
       "    .dataframe tbody tr th:only-of-type {\n",
       "        vertical-align: middle;\n",
       "    }\n",
       "\n",
       "    .dataframe tbody tr th {\n",
       "        vertical-align: top;\n",
       "    }\n",
       "\n",
       "    .dataframe thead th {\n",
       "        text-align: right;\n",
       "    }\n",
       "</style>\n",
       "<table border=\"1\" class=\"dataframe\">\n",
       "  <thead>\n",
       "    <tr style=\"text-align: right;\">\n",
       "      <th></th>\n",
       "      <th>open</th>\n",
       "      <th>high</th>\n",
       "      <th>low</th>\n",
       "      <th>close</th>\n",
       "      <th>volume</th>\n",
       "      <th>trades</th>\n",
       "    </tr>\n",
       "    <tr>\n",
       "      <th>time</th>\n",
       "      <th></th>\n",
       "      <th></th>\n",
       "      <th></th>\n",
       "      <th></th>\n",
       "      <th></th>\n",
       "      <th></th>\n",
       "    </tr>\n",
       "  </thead>\n",
       "  <tbody>\n",
       "    <tr>\n",
       "      <th>2020-01-08 15:00:00</th>\n",
       "      <td>8300.00</td>\n",
       "      <td>8300.00</td>\n",
       "      <td>8300.00</td>\n",
       "      <td>8300.00</td>\n",
       "      <td>0.002410</td>\n",
       "      <td>2</td>\n",
       "    </tr>\n",
       "    <tr>\n",
       "      <th>2020-01-08 16:00:00</th>\n",
       "      <td>8217.51</td>\n",
       "      <td>8217.51</td>\n",
       "      <td>8217.51</td>\n",
       "      <td>8217.51</td>\n",
       "      <td>0.012290</td>\n",
       "      <td>2</td>\n",
       "    </tr>\n",
       "    <tr>\n",
       "      <th>2020-01-08 17:00:00</th>\n",
       "      <td>7900.01</td>\n",
       "      <td>7949.99</td>\n",
       "      <td>7870.00</td>\n",
       "      <td>7949.99</td>\n",
       "      <td>0.052487</td>\n",
       "      <td>10</td>\n",
       "    </tr>\n",
       "    <tr>\n",
       "      <th>2020-01-08 18:00:00</th>\n",
       "      <td>7949.99</td>\n",
       "      <td>8000.00</td>\n",
       "      <td>7870.99</td>\n",
       "      <td>7870.99</td>\n",
       "      <td>0.038592</td>\n",
       "      <td>8</td>\n",
       "    </tr>\n",
       "    <tr>\n",
       "      <th>2020-01-08 20:00:00</th>\n",
       "      <td>7870.98</td>\n",
       "      <td>7999.99</td>\n",
       "      <td>7870.00</td>\n",
       "      <td>7999.99</td>\n",
       "      <td>0.044715</td>\n",
       "      <td>5</td>\n",
       "    </tr>\n",
       "    <tr>\n",
       "      <th>...</th>\n",
       "      <td>...</td>\n",
       "      <td>...</td>\n",
       "      <td>...</td>\n",
       "      <td>...</td>\n",
       "      <td>...</td>\n",
       "      <td>...</td>\n",
       "    </tr>\n",
       "    <tr>\n",
       "      <th>2021-03-31 19:00:00</th>\n",
       "      <td>59420.00</td>\n",
       "      <td>59534.68</td>\n",
       "      <td>58604.83</td>\n",
       "      <td>58604.83</td>\n",
       "      <td>16.042371</td>\n",
       "      <td>171</td>\n",
       "    </tr>\n",
       "    <tr>\n",
       "      <th>2021-03-31 20:00:00</th>\n",
       "      <td>58644.28</td>\n",
       "      <td>59114.19</td>\n",
       "      <td>58421.40</td>\n",
       "      <td>59009.58</td>\n",
       "      <td>1.642617</td>\n",
       "      <td>121</td>\n",
       "    </tr>\n",
       "    <tr>\n",
       "      <th>2021-03-31 21:00:00</th>\n",
       "      <td>59057.49</td>\n",
       "      <td>59158.25</td>\n",
       "      <td>58787.89</td>\n",
       "      <td>58787.89</td>\n",
       "      <td>0.907528</td>\n",
       "      <td>52</td>\n",
       "    </tr>\n",
       "    <tr>\n",
       "      <th>2021-03-31 22:00:00</th>\n",
       "      <td>58901.49</td>\n",
       "      <td>58908.57</td>\n",
       "      <td>58670.32</td>\n",
       "      <td>58698.62</td>\n",
       "      <td>1.365065</td>\n",
       "      <td>88</td>\n",
       "    </tr>\n",
       "    <tr>\n",
       "      <th>2021-03-31 23:00:00</th>\n",
       "      <td>58649.52</td>\n",
       "      <td>58965.53</td>\n",
       "      <td>58604.81</td>\n",
       "      <td>58781.48</td>\n",
       "      <td>1.236104</td>\n",
       "      <td>49</td>\n",
       "    </tr>\n",
       "  </tbody>\n",
       "</table>\n",
       "<p>9215 rows × 6 columns</p>\n",
       "</div>"
      ],
      "text/plain": [
       "                         open      high       low     close     volume  trades\n",
       "time                                                                          \n",
       "2020-01-08 15:00:00   8300.00   8300.00   8300.00   8300.00   0.002410       2\n",
       "2020-01-08 16:00:00   8217.51   8217.51   8217.51   8217.51   0.012290       2\n",
       "2020-01-08 17:00:00   7900.01   7949.99   7870.00   7949.99   0.052487      10\n",
       "2020-01-08 18:00:00   7949.99   8000.00   7870.99   7870.99   0.038592       8\n",
       "2020-01-08 20:00:00   7870.98   7999.99   7870.00   7999.99   0.044715       5\n",
       "...                       ...       ...       ...       ...        ...     ...\n",
       "2021-03-31 19:00:00  59420.00  59534.68  58604.83  58604.83  16.042371     171\n",
       "2021-03-31 20:00:00  58644.28  59114.19  58421.40  59009.58   1.642617     121\n",
       "2021-03-31 21:00:00  59057.49  59158.25  58787.89  58787.89   0.907528      52\n",
       "2021-03-31 22:00:00  58901.49  58908.57  58670.32  58698.62   1.365065      88\n",
       "2021-03-31 23:00:00  58649.52  58965.53  58604.81  58781.48   1.236104      49\n",
       "\n",
       "[9215 rows x 6 columns]"
      ]
     },
     "execution_count": 265,
     "metadata": {},
     "output_type": "execute_result"
    }
   ],
   "source": [
    "df"
   ]
  },
  {
   "cell_type": "code",
   "execution_count": null,
   "metadata": {},
   "outputs": [],
   "source": []
  }
 ],
 "metadata": {
  "kernelspec": {
   "display_name": "Python 3",
   "language": "python",
   "name": "python3"
  },
  "language_info": {
   "codemirror_mode": {
    "name": "ipython",
    "version": 3
   },
   "file_extension": ".py",
   "mimetype": "text/x-python",
   "name": "python",
   "nbconvert_exporter": "python",
   "pygments_lexer": "ipython3",
   "version": "3.7.4"
  }
 },
 "nbformat": 4,
 "nbformat_minor": 4
}
