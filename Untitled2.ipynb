{
 "cells": [
  {
   "cell_type": "code",
   "execution_count": 2,
   "metadata": {},
   "outputs": [],
   "source": [
    "# import scipy\n",
    "import numpy as np\n",
    "import matplotlib.pyplot as plt\n",
    "import math\n",
    "import pandas as pd\n",
    "%matplotlib inline  "
   ]
  },
  {
   "cell_type": "code",
   "execution_count": 60,
   "metadata": {},
   "outputs": [],
   "source": [
    "TRADE_COLS = ['timestamp', 'symbol', 'side', 'price', 'size', 'tickDirection']\n",
    "a = pd.read_csv('/Users/felipe/Downloads/20180701-trades.csv.gz')[TRADE_COLS].iloc[:5000]\n",
    "a = a[a.price > 1]\n",
    "a = a.query('symbol == \"XBTUSD\"')\n",
    "a.timestamp = a.timestamp.apply(lambda s: pd.Timestamp(s.replace('D', 'T')))\n",
    "a = a.set_index('timestamp')"
   ]
  },
  {
   "cell_type": "code",
   "execution_count": 65,
   "metadata": {},
   "outputs": [],
   "source": [
    "a.to_csv('/Users/felipe/bitme/data/20180701-6h.csv.gz', compression='gzip')"
   ]
  },
  {
   "cell_type": "code",
   "execution_count": 64,
   "metadata": {},
   "outputs": [
    {
     "data": {
      "text/plain": [
       "Timedelta('0 days 00:06:03.634538')"
      ]
     },
     "execution_count": 64,
     "metadata": {},
     "output_type": "execute_result"
    }
   ],
   "source": [
    "a.index[-1] - a.index[0]"
   ]
  },
  {
   "cell_type": "code",
   "execution_count": 66,
   "metadata": {},
   "outputs": [
    {
     "data": {
      "text/plain": [
       "'felipe'"
      ]
     },
     "execution_count": 66,
     "metadata": {},
     "output_type": "execute_result"
    }
   ],
   "source": [
    "'FELIPE'.lower()"
   ]
  },
  {
   "cell_type": "code",
   "execution_count": 68,
   "metadata": {},
   "outputs": [
    {
     "data": {
      "text/plain": [
       "'felipe'"
      ]
     },
     "execution_count": 68,
     "metadata": {},
     "output_type": "execute_result"
    }
   ],
   "source": [
    "'felipe'[-10:]"
   ]
  },
  {
   "cell_type": "code",
   "execution_count": 107,
   "metadata": {},
   "outputs": [],
   "source": [
    "b = a.head(10).copy()"
   ]
  },
  {
   "cell_type": "code",
   "execution_count": null,
   "metadata": {},
   "outputs": [],
   "source": []
  },
  {
   "cell_type": "code",
   "execution_count": null,
   "metadata": {},
   "outputs": [],
   "source": []
  },
  {
   "cell_type": "code",
   "execution_count": 108,
   "metadata": {},
   "outputs": [
    {
     "data": {
      "text/html": [
       "<div>\n",
       "<style scoped>\n",
       "    .dataframe tbody tr th:only-of-type {\n",
       "        vertical-align: middle;\n",
       "    }\n",
       "\n",
       "    .dataframe tbody tr th {\n",
       "        vertical-align: top;\n",
       "    }\n",
       "\n",
       "    .dataframe thead th {\n",
       "        text-align: right;\n",
       "    }\n",
       "</style>\n",
       "<table border=\"1\" class=\"dataframe\">\n",
       "  <thead>\n",
       "    <tr style=\"text-align: right;\">\n",
       "      <th></th>\n",
       "      <th>symbol</th>\n",
       "      <th>side</th>\n",
       "      <th>price</th>\n",
       "      <th>size</th>\n",
       "      <th>tickDirection</th>\n",
       "    </tr>\n",
       "    <tr>\n",
       "      <th>timestamp</th>\n",
       "      <th></th>\n",
       "      <th></th>\n",
       "      <th></th>\n",
       "      <th></th>\n",
       "      <th></th>\n",
       "    </tr>\n",
       "  </thead>\n",
       "  <tbody>\n",
       "    <tr>\n",
       "      <th>2018-07-01 00:00:02.490104</th>\n",
       "      <td>XBTUSD</td>\n",
       "      <td>Sell</td>\n",
       "      <td>6383.5</td>\n",
       "      <td>3000</td>\n",
       "      <td>ZeroMinusTick</td>\n",
       "    </tr>\n",
       "    <tr>\n",
       "      <th>2018-07-01 00:00:03.233707</th>\n",
       "      <td>XBTUSD</td>\n",
       "      <td>Sell</td>\n",
       "      <td>6383.5</td>\n",
       "      <td>8173</td>\n",
       "      <td>ZeroMinusTick</td>\n",
       "    </tr>\n",
       "    <tr>\n",
       "      <th>2018-07-01 00:00:03.233707</th>\n",
       "      <td>XBTUSD</td>\n",
       "      <td>Sell</td>\n",
       "      <td>6383.5</td>\n",
       "      <td>383</td>\n",
       "      <td>ZeroMinusTick</td>\n",
       "    </tr>\n",
       "    <tr>\n",
       "      <th>2018-07-01 00:00:03.233707</th>\n",
       "      <td>XBTUSD</td>\n",
       "      <td>Sell</td>\n",
       "      <td>6383.5</td>\n",
       "      <td>6444</td>\n",
       "      <td>ZeroMinusTick</td>\n",
       "    </tr>\n",
       "    <tr>\n",
       "      <th>2018-07-01 00:00:03.358225</th>\n",
       "      <td>XBTUSD</td>\n",
       "      <td>Sell</td>\n",
       "      <td>6383.5</td>\n",
       "      <td>37</td>\n",
       "      <td>ZeroMinusTick</td>\n",
       "    </tr>\n",
       "    <tr>\n",
       "      <th>2018-07-01 00:00:03.474112</th>\n",
       "      <td>XBTUSD</td>\n",
       "      <td>Sell</td>\n",
       "      <td>6383.5</td>\n",
       "      <td>200</td>\n",
       "      <td>ZeroMinusTick</td>\n",
       "    </tr>\n",
       "    <tr>\n",
       "      <th>2018-07-01 00:00:03.963948</th>\n",
       "      <td>XBTUSD</td>\n",
       "      <td>Buy</td>\n",
       "      <td>6384.0</td>\n",
       "      <td>1</td>\n",
       "      <td>PlusTick</td>\n",
       "    </tr>\n",
       "    <tr>\n",
       "      <th>2018-07-01 00:00:04.418778</th>\n",
       "      <td>XBTUSD</td>\n",
       "      <td>Sell</td>\n",
       "      <td>6383.5</td>\n",
       "      <td>35</td>\n",
       "      <td>MinusTick</td>\n",
       "    </tr>\n",
       "    <tr>\n",
       "      <th>2018-07-01 00:00:04.418778</th>\n",
       "      <td>XBTUSD</td>\n",
       "      <td>Sell</td>\n",
       "      <td>6383.5</td>\n",
       "      <td>2</td>\n",
       "      <td>ZeroMinusTick</td>\n",
       "    </tr>\n",
       "    <tr>\n",
       "      <th>2018-07-01 00:00:05.038344</th>\n",
       "      <td>XBTUSD</td>\n",
       "      <td>Buy</td>\n",
       "      <td>6384.0</td>\n",
       "      <td>484</td>\n",
       "      <td>PlusTick</td>\n",
       "    </tr>\n",
       "  </tbody>\n",
       "</table>\n",
       "</div>"
      ],
      "text/plain": [
       "                            symbol  side   price  size  tickDirection\n",
       "timestamp                                                            \n",
       "2018-07-01 00:00:02.490104  XBTUSD  Sell  6383.5  3000  ZeroMinusTick\n",
       "2018-07-01 00:00:03.233707  XBTUSD  Sell  6383.5  8173  ZeroMinusTick\n",
       "2018-07-01 00:00:03.233707  XBTUSD  Sell  6383.5   383  ZeroMinusTick\n",
       "2018-07-01 00:00:03.233707  XBTUSD  Sell  6383.5  6444  ZeroMinusTick\n",
       "2018-07-01 00:00:03.358225  XBTUSD  Sell  6383.5    37  ZeroMinusTick\n",
       "2018-07-01 00:00:03.474112  XBTUSD  Sell  6383.5   200  ZeroMinusTick\n",
       "2018-07-01 00:00:03.963948  XBTUSD   Buy  6384.0     1       PlusTick\n",
       "2018-07-01 00:00:04.418778  XBTUSD  Sell  6383.5    35      MinusTick\n",
       "2018-07-01 00:00:04.418778  XBTUSD  Sell  6383.5     2  ZeroMinusTick\n",
       "2018-07-01 00:00:05.038344  XBTUSD   Buy  6384.0   484       PlusTick"
      ]
     },
     "execution_count": 108,
     "metadata": {},
     "output_type": "execute_result"
    }
   ],
   "source": [
    "b"
   ]
  },
  {
   "cell_type": "code",
   "execution_count": 109,
   "metadata": {},
   "outputs": [
    {
     "ename": "ValueError",
     "evalue": "labels ['timestamp'] not contained in axis",
     "output_type": "error",
     "traceback": [
      "\u001b[0;31m---------------------------------------------------------------------------\u001b[0m",
      "\u001b[0;31mValueError\u001b[0m                                Traceback (most recent call last)",
      "\u001b[0;32m<ipython-input-109-48a0815d66ab>\u001b[0m in \u001b[0;36m<module>\u001b[0;34m()\u001b[0m\n\u001b[1;32m      3\u001b[0m     \u001b[0my\u001b[0m\u001b[0;34m[\u001b[0m\u001b[0;34m'size'\u001b[0m\u001b[0;34m]\u001b[0m \u001b[0;34m=\u001b[0m \u001b[0mx\u001b[0m\u001b[0;34m[\u001b[0m\u001b[0;34m'size'\u001b[0m\u001b[0;34m]\u001b[0m\u001b[0;34m.\u001b[0m\u001b[0msum\u001b[0m\u001b[0;34m(\u001b[0m\u001b[0;34m)\u001b[0m\u001b[0;34m\u001b[0m\u001b[0m\n\u001b[1;32m      4\u001b[0m     \u001b[0;32mreturn\u001b[0m \u001b[0my\u001b[0m\u001b[0;34m\u001b[0m\u001b[0m\n\u001b[0;32m----> 5\u001b[0;31m \u001b[0mc\u001b[0m \u001b[0;34m=\u001b[0m \u001b[0mb\u001b[0m\u001b[0;34m.\u001b[0m\u001b[0mgroupby\u001b[0m\u001b[0;34m(\u001b[0m\u001b[0;34m[\u001b[0m\u001b[0;34m'timestamp'\u001b[0m\u001b[0;34m,\u001b[0m\u001b[0;34m'price'\u001b[0m\u001b[0;34m]\u001b[0m\u001b[0;34m)\u001b[0m\u001b[0;34m.\u001b[0m\u001b[0mapply\u001b[0m\u001b[0;34m(\u001b[0m\u001b[0mcombine\u001b[0m\u001b[0;34m)\u001b[0m\u001b[0;34m.\u001b[0m\u001b[0mreset_index\u001b[0m\u001b[0;34m(\u001b[0m\u001b[0;34m'price'\u001b[0m\u001b[0;34m,\u001b[0m \u001b[0mdrop\u001b[0m\u001b[0;34m=\u001b[0m\u001b[0;32mTrue\u001b[0m\u001b[0;34m)\u001b[0m\u001b[0;34m.\u001b[0m\u001b[0mdrop\u001b[0m\u001b[0;34m(\u001b[0m\u001b[0mcolumns\u001b[0m\u001b[0;34m=\u001b[0m\u001b[0;34m[\u001b[0m\u001b[0;34m'timestamp'\u001b[0m\u001b[0;34m]\u001b[0m\u001b[0;34m)\u001b[0m\u001b[0;34m\u001b[0m\u001b[0m\n\u001b[0m",
      "\u001b[0;32m~/anaconda3/envs/bitme-dev/lib/python3.6/site-packages/pandas/core/generic.py\u001b[0m in \u001b[0;36mdrop\u001b[0;34m(self, labels, axis, index, columns, level, inplace, errors)\u001b[0m\n\u001b[1;32m   2528\u001b[0m         \u001b[0;32mfor\u001b[0m \u001b[0maxis\u001b[0m\u001b[0;34m,\u001b[0m \u001b[0mlabels\u001b[0m \u001b[0;32min\u001b[0m \u001b[0maxes\u001b[0m\u001b[0;34m.\u001b[0m\u001b[0mitems\u001b[0m\u001b[0;34m(\u001b[0m\u001b[0;34m)\u001b[0m\u001b[0;34m:\u001b[0m\u001b[0;34m\u001b[0m\u001b[0m\n\u001b[1;32m   2529\u001b[0m             \u001b[0;32mif\u001b[0m \u001b[0mlabels\u001b[0m \u001b[0;32mis\u001b[0m \u001b[0;32mnot\u001b[0m \u001b[0;32mNone\u001b[0m\u001b[0;34m:\u001b[0m\u001b[0;34m\u001b[0m\u001b[0m\n\u001b[0;32m-> 2530\u001b[0;31m                 \u001b[0mobj\u001b[0m \u001b[0;34m=\u001b[0m \u001b[0mobj\u001b[0m\u001b[0;34m.\u001b[0m\u001b[0m_drop_axis\u001b[0m\u001b[0;34m(\u001b[0m\u001b[0mlabels\u001b[0m\u001b[0;34m,\u001b[0m \u001b[0maxis\u001b[0m\u001b[0;34m,\u001b[0m \u001b[0mlevel\u001b[0m\u001b[0;34m=\u001b[0m\u001b[0mlevel\u001b[0m\u001b[0;34m,\u001b[0m \u001b[0merrors\u001b[0m\u001b[0;34m=\u001b[0m\u001b[0merrors\u001b[0m\u001b[0;34m)\u001b[0m\u001b[0;34m\u001b[0m\u001b[0m\n\u001b[0m\u001b[1;32m   2531\u001b[0m \u001b[0;34m\u001b[0m\u001b[0m\n\u001b[1;32m   2532\u001b[0m         \u001b[0;32mif\u001b[0m \u001b[0minplace\u001b[0m\u001b[0;34m:\u001b[0m\u001b[0;34m\u001b[0m\u001b[0m\n",
      "\u001b[0;32m~/anaconda3/envs/bitme-dev/lib/python3.6/site-packages/pandas/core/generic.py\u001b[0m in \u001b[0;36m_drop_axis\u001b[0;34m(self, labels, axis, level, errors)\u001b[0m\n\u001b[1;32m   2560\u001b[0m                 \u001b[0mnew_axis\u001b[0m \u001b[0;34m=\u001b[0m \u001b[0maxis\u001b[0m\u001b[0;34m.\u001b[0m\u001b[0mdrop\u001b[0m\u001b[0;34m(\u001b[0m\u001b[0mlabels\u001b[0m\u001b[0;34m,\u001b[0m \u001b[0mlevel\u001b[0m\u001b[0;34m=\u001b[0m\u001b[0mlevel\u001b[0m\u001b[0;34m,\u001b[0m \u001b[0merrors\u001b[0m\u001b[0;34m=\u001b[0m\u001b[0merrors\u001b[0m\u001b[0;34m)\u001b[0m\u001b[0;34m\u001b[0m\u001b[0m\n\u001b[1;32m   2561\u001b[0m             \u001b[0;32melse\u001b[0m\u001b[0;34m:\u001b[0m\u001b[0;34m\u001b[0m\u001b[0m\n\u001b[0;32m-> 2562\u001b[0;31m                 \u001b[0mnew_axis\u001b[0m \u001b[0;34m=\u001b[0m \u001b[0maxis\u001b[0m\u001b[0;34m.\u001b[0m\u001b[0mdrop\u001b[0m\u001b[0;34m(\u001b[0m\u001b[0mlabels\u001b[0m\u001b[0;34m,\u001b[0m \u001b[0merrors\u001b[0m\u001b[0;34m=\u001b[0m\u001b[0merrors\u001b[0m\u001b[0;34m)\u001b[0m\u001b[0;34m\u001b[0m\u001b[0m\n\u001b[0m\u001b[1;32m   2563\u001b[0m             \u001b[0mdropped\u001b[0m \u001b[0;34m=\u001b[0m \u001b[0mself\u001b[0m\u001b[0;34m.\u001b[0m\u001b[0mreindex\u001b[0m\u001b[0;34m(\u001b[0m\u001b[0;34m**\u001b[0m\u001b[0;34m{\u001b[0m\u001b[0maxis_name\u001b[0m\u001b[0;34m:\u001b[0m \u001b[0mnew_axis\u001b[0m\u001b[0;34m}\u001b[0m\u001b[0;34m)\u001b[0m\u001b[0;34m\u001b[0m\u001b[0m\n\u001b[1;32m   2564\u001b[0m             \u001b[0;32mtry\u001b[0m\u001b[0;34m:\u001b[0m\u001b[0;34m\u001b[0m\u001b[0m\n",
      "\u001b[0;32m~/anaconda3/envs/bitme-dev/lib/python3.6/site-packages/pandas/core/indexes/base.py\u001b[0m in \u001b[0;36mdrop\u001b[0;34m(self, labels, errors)\u001b[0m\n\u001b[1;32m   3742\u001b[0m             \u001b[0;32mif\u001b[0m \u001b[0merrors\u001b[0m \u001b[0;34m!=\u001b[0m \u001b[0;34m'ignore'\u001b[0m\u001b[0;34m:\u001b[0m\u001b[0;34m\u001b[0m\u001b[0m\n\u001b[1;32m   3743\u001b[0m                 raise ValueError('labels %s not contained in axis' %\n\u001b[0;32m-> 3744\u001b[0;31m                                  labels[mask])\n\u001b[0m\u001b[1;32m   3745\u001b[0m             \u001b[0mindexer\u001b[0m \u001b[0;34m=\u001b[0m \u001b[0mindexer\u001b[0m\u001b[0;34m[\u001b[0m\u001b[0;34m~\u001b[0m\u001b[0mmask\u001b[0m\u001b[0;34m]\u001b[0m\u001b[0;34m\u001b[0m\u001b[0m\n\u001b[1;32m   3746\u001b[0m         \u001b[0;32mreturn\u001b[0m \u001b[0mself\u001b[0m\u001b[0;34m.\u001b[0m\u001b[0mdelete\u001b[0m\u001b[0;34m(\u001b[0m\u001b[0mindexer\u001b[0m\u001b[0;34m)\u001b[0m\u001b[0;34m\u001b[0m\u001b[0m\n",
      "\u001b[0;31mValueError\u001b[0m: labels ['timestamp'] not contained in axis"
     ]
    }
   ],
   "source": [
    "def combine(x):\n",
    "    y = x.iloc[0].copy()\n",
    "    y['size'] = x['size'].sum()\n",
    "    return y\n",
    "c = b.groupby(['timestamp','price']).apply(combine).reset_index('price', drop=True).drop(columns=['timestamp'])"
   ]
  },
  {
   "cell_type": "code",
   "execution_count": 102,
   "metadata": {},
   "outputs": [
    {
     "data": {
      "text/html": [
       "<div>\n",
       "<style scoped>\n",
       "    .dataframe tbody tr th:only-of-type {\n",
       "        vertical-align: middle;\n",
       "    }\n",
       "\n",
       "    .dataframe tbody tr th {\n",
       "        vertical-align: top;\n",
       "    }\n",
       "\n",
       "    .dataframe thead th {\n",
       "        text-align: right;\n",
       "    }\n",
       "</style>\n",
       "<table border=\"1\" class=\"dataframe\">\n",
       "  <thead>\n",
       "    <tr style=\"text-align: right;\">\n",
       "      <th></th>\n",
       "      <th>symbol</th>\n",
       "      <th>side</th>\n",
       "      <th>price</th>\n",
       "      <th>size</th>\n",
       "      <th>tickDirection</th>\n",
       "    </tr>\n",
       "    <tr>\n",
       "      <th>timestamp</th>\n",
       "      <th></th>\n",
       "      <th></th>\n",
       "      <th></th>\n",
       "      <th></th>\n",
       "      <th></th>\n",
       "    </tr>\n",
       "  </thead>\n",
       "  <tbody>\n",
       "    <tr>\n",
       "      <th>2018-07-01 00:00:02.490104</th>\n",
       "      <td>XBTUSD</td>\n",
       "      <td>Sell</td>\n",
       "      <td>6383.5</td>\n",
       "      <td>3000</td>\n",
       "      <td>ZeroMinusTick</td>\n",
       "    </tr>\n",
       "    <tr>\n",
       "      <th>2018-07-01 00:00:03.233707</th>\n",
       "      <td>XBTUSD</td>\n",
       "      <td>Sell</td>\n",
       "      <td>6383.5</td>\n",
       "      <td>15000</td>\n",
       "      <td>ZeroMinusTick</td>\n",
       "    </tr>\n",
       "    <tr>\n",
       "      <th>2018-07-01 00:00:03.358225</th>\n",
       "      <td>XBTUSD</td>\n",
       "      <td>Sell</td>\n",
       "      <td>6383.5</td>\n",
       "      <td>37</td>\n",
       "      <td>ZeroMinusTick</td>\n",
       "    </tr>\n",
       "    <tr>\n",
       "      <th>2018-07-01 00:00:03.474112</th>\n",
       "      <td>XBTUSD</td>\n",
       "      <td>Sell</td>\n",
       "      <td>6383.5</td>\n",
       "      <td>200</td>\n",
       "      <td>ZeroMinusTick</td>\n",
       "    </tr>\n",
       "    <tr>\n",
       "      <th>2018-07-01 00:00:03.963948</th>\n",
       "      <td>XBTUSD</td>\n",
       "      <td>Buy</td>\n",
       "      <td>6384.0</td>\n",
       "      <td>1</td>\n",
       "      <td>PlusTick</td>\n",
       "    </tr>\n",
       "    <tr>\n",
       "      <th>2018-07-01 00:00:04.418778</th>\n",
       "      <td>XBTUSD</td>\n",
       "      <td>Sell</td>\n",
       "      <td>6383.5</td>\n",
       "      <td>37</td>\n",
       "      <td>MinusTick</td>\n",
       "    </tr>\n",
       "    <tr>\n",
       "      <th>2018-07-01 00:00:05.038344</th>\n",
       "      <td>XBTUSD</td>\n",
       "      <td>Buy</td>\n",
       "      <td>6384.0</td>\n",
       "      <td>484</td>\n",
       "      <td>PlusTick</td>\n",
       "    </tr>\n",
       "  </tbody>\n",
       "</table>\n",
       "</div>"
      ],
      "text/plain": [
       "                            symbol  side   price   size  tickDirection\n",
       "timestamp                                                             \n",
       "2018-07-01 00:00:02.490104  XBTUSD  Sell  6383.5   3000  ZeroMinusTick\n",
       "2018-07-01 00:00:03.233707  XBTUSD  Sell  6383.5  15000  ZeroMinusTick\n",
       "2018-07-01 00:00:03.358225  XBTUSD  Sell  6383.5     37  ZeroMinusTick\n",
       "2018-07-01 00:00:03.474112  XBTUSD  Sell  6383.5    200  ZeroMinusTick\n",
       "2018-07-01 00:00:03.963948  XBTUSD   Buy  6384.0      1       PlusTick\n",
       "2018-07-01 00:00:04.418778  XBTUSD  Sell  6383.5     37      MinusTick\n",
       "2018-07-01 00:00:05.038344  XBTUSD   Buy  6384.0    484       PlusTick"
      ]
     },
     "execution_count": 102,
     "metadata": {},
     "output_type": "execute_result"
    }
   ],
   "source": [
    "c"
   ]
  },
  {
   "cell_type": "code",
   "execution_count": 106,
   "metadata": {},
   "outputs": [
    {
     "data": {
      "text/html": [
       "<div>\n",
       "<style scoped>\n",
       "    .dataframe tbody tr th:only-of-type {\n",
       "        vertical-align: middle;\n",
       "    }\n",
       "\n",
       "    .dataframe tbody tr th {\n",
       "        vertical-align: top;\n",
       "    }\n",
       "\n",
       "    .dataframe thead th {\n",
       "        text-align: right;\n",
       "    }\n",
       "</style>\n",
       "<table border=\"1\" class=\"dataframe\">\n",
       "  <thead>\n",
       "    <tr style=\"text-align: right;\">\n",
       "      <th></th>\n",
       "      <th></th>\n",
       "      <th>symbol</th>\n",
       "      <th>side</th>\n",
       "      <th>price</th>\n",
       "      <th>size</th>\n",
       "      <th>tickDirection</th>\n",
       "    </tr>\n",
       "    <tr>\n",
       "      <th>price</th>\n",
       "      <th>timestamp</th>\n",
       "      <th></th>\n",
       "      <th></th>\n",
       "      <th></th>\n",
       "      <th></th>\n",
       "      <th></th>\n",
       "    </tr>\n",
       "  </thead>\n",
       "  <tbody>\n",
       "    <tr>\n",
       "      <th rowspan=\"5\" valign=\"top\">6383.5</th>\n",
       "      <th>2018-07-01 00:00:02.490104</th>\n",
       "      <td>XBTUSD</td>\n",
       "      <td>Sell</td>\n",
       "      <td>6383.5</td>\n",
       "      <td>3000</td>\n",
       "      <td>ZeroMinusTick</td>\n",
       "    </tr>\n",
       "    <tr>\n",
       "      <th>2018-07-01 00:00:03.233707</th>\n",
       "      <td>XBTUSD</td>\n",
       "      <td>Sell</td>\n",
       "      <td>6383.5</td>\n",
       "      <td>15000</td>\n",
       "      <td>ZeroMinusTick</td>\n",
       "    </tr>\n",
       "    <tr>\n",
       "      <th>2018-07-01 00:00:03.358225</th>\n",
       "      <td>XBTUSD</td>\n",
       "      <td>Sell</td>\n",
       "      <td>6383.5</td>\n",
       "      <td>37</td>\n",
       "      <td>ZeroMinusTick</td>\n",
       "    </tr>\n",
       "    <tr>\n",
       "      <th>2018-07-01 00:00:03.474112</th>\n",
       "      <td>XBTUSD</td>\n",
       "      <td>Sell</td>\n",
       "      <td>6383.5</td>\n",
       "      <td>200</td>\n",
       "      <td>ZeroMinusTick</td>\n",
       "    </tr>\n",
       "    <tr>\n",
       "      <th>2018-07-01 00:00:04.418778</th>\n",
       "      <td>XBTUSD</td>\n",
       "      <td>Sell</td>\n",
       "      <td>6383.5</td>\n",
       "      <td>37</td>\n",
       "      <td>MinusTick</td>\n",
       "    </tr>\n",
       "    <tr>\n",
       "      <th rowspan=\"2\" valign=\"top\">6384.0</th>\n",
       "      <th>2018-07-01 00:00:03.963948</th>\n",
       "      <td>XBTUSD</td>\n",
       "      <td>Buy</td>\n",
       "      <td>6384.0</td>\n",
       "      <td>1</td>\n",
       "      <td>PlusTick</td>\n",
       "    </tr>\n",
       "    <tr>\n",
       "      <th>2018-07-01 00:00:05.038344</th>\n",
       "      <td>XBTUSD</td>\n",
       "      <td>Buy</td>\n",
       "      <td>6384.0</td>\n",
       "      <td>484</td>\n",
       "      <td>PlusTick</td>\n",
       "    </tr>\n",
       "  </tbody>\n",
       "</table>\n",
       "</div>"
      ],
      "text/plain": [
       "                                   symbol  side   price   size  tickDirection\n",
       "price  timestamp                                                             \n",
       "6383.5 2018-07-01 00:00:02.490104  XBTUSD  Sell  6383.5   3000  ZeroMinusTick\n",
       "       2018-07-01 00:00:03.233707  XBTUSD  Sell  6383.5  15000  ZeroMinusTick\n",
       "       2018-07-01 00:00:03.358225  XBTUSD  Sell  6383.5     37  ZeroMinusTick\n",
       "       2018-07-01 00:00:03.474112  XBTUSD  Sell  6383.5    200  ZeroMinusTick\n",
       "       2018-07-01 00:00:04.418778  XBTUSD  Sell  6383.5     37      MinusTick\n",
       "6384.0 2018-07-01 00:00:03.963948  XBTUSD   Buy  6384.0      1       PlusTick\n",
       "       2018-07-01 00:00:05.038344  XBTUSD   Buy  6384.0    484       PlusTick"
      ]
     },
     "execution_count": 106,
     "metadata": {},
     "output_type": "execute_result"
    }
   ],
   "source": [
    "c.groupby(['price', 'timestamp']).apply(lambda x: x.iloc[0])"
   ]
  },
  {
   "cell_type": "code",
   "execution_count": 181,
   "metadata": {},
   "outputs": [],
   "source": [
    "c = a.resample('1min').agg({'symbol': 'last', 'price': 'ohlc', 'size': 'sum'})"
   ]
  },
  {
   "cell_type": "code",
   "execution_count": 184,
   "metadata": {},
   "outputs": [
    {
     "data": {
      "text/html": [
       "<div>\n",
       "<style scoped>\n",
       "    .dataframe tbody tr th:only-of-type {\n",
       "        vertical-align: middle;\n",
       "    }\n",
       "\n",
       "    .dataframe tbody tr th {\n",
       "        vertical-align: top;\n",
       "    }\n",
       "\n",
       "    .dataframe thead tr th {\n",
       "        text-align: left;\n",
       "    }\n",
       "\n",
       "    .dataframe thead tr:last-of-type th {\n",
       "        text-align: right;\n",
       "    }\n",
       "</style>\n",
       "<table border=\"1\" class=\"dataframe\">\n",
       "  <thead>\n",
       "    <tr>\n",
       "      <th></th>\n",
       "      <th>symbol</th>\n",
       "      <th colspan=\"4\" halign=\"left\">price</th>\n",
       "      <th>size</th>\n",
       "    </tr>\n",
       "    <tr>\n",
       "      <th></th>\n",
       "      <th>symbol</th>\n",
       "      <th>open</th>\n",
       "      <th>high</th>\n",
       "      <th>low</th>\n",
       "      <th>close</th>\n",
       "      <th>size</th>\n",
       "    </tr>\n",
       "    <tr>\n",
       "      <th>timestamp</th>\n",
       "      <th></th>\n",
       "      <th></th>\n",
       "      <th></th>\n",
       "      <th></th>\n",
       "      <th></th>\n",
       "      <th></th>\n",
       "    </tr>\n",
       "  </thead>\n",
       "  <tbody>\n",
       "    <tr>\n",
       "      <th>2018-07-01 00:00:00</th>\n",
       "      <td>XBTUSD</td>\n",
       "      <td>6383.5</td>\n",
       "      <td>6389.0</td>\n",
       "      <td>6383.5</td>\n",
       "      <td>6388.5</td>\n",
       "      <td>2005959</td>\n",
       "    </tr>\n",
       "    <tr>\n",
       "      <th>2018-07-01 00:01:00</th>\n",
       "      <td>XBTUSD</td>\n",
       "      <td>6389.0</td>\n",
       "      <td>6396.0</td>\n",
       "      <td>6388.5</td>\n",
       "      <td>6396.0</td>\n",
       "      <td>2368558</td>\n",
       "    </tr>\n",
       "    <tr>\n",
       "      <th>2018-07-01 00:02:00</th>\n",
       "      <td>XBTUSD</td>\n",
       "      <td>6395.5</td>\n",
       "      <td>6420.0</td>\n",
       "      <td>6395.5</td>\n",
       "      <td>6408.0</td>\n",
       "      <td>7427788</td>\n",
       "    </tr>\n",
       "    <tr>\n",
       "      <th>2018-07-01 00:03:00</th>\n",
       "      <td>XBTUSD</td>\n",
       "      <td>6407.5</td>\n",
       "      <td>6410.0</td>\n",
       "      <td>6395.5</td>\n",
       "      <td>6401.5</td>\n",
       "      <td>3252048</td>\n",
       "    </tr>\n",
       "    <tr>\n",
       "      <th>2018-07-01 00:04:00</th>\n",
       "      <td>XBTUSD</td>\n",
       "      <td>6401.5</td>\n",
       "      <td>6408.0</td>\n",
       "      <td>6401.0</td>\n",
       "      <td>6401.0</td>\n",
       "      <td>1272841</td>\n",
       "    </tr>\n",
       "    <tr>\n",
       "      <th>2018-07-01 00:05:00</th>\n",
       "      <td>XBTUSD</td>\n",
       "      <td>6401.0</td>\n",
       "      <td>6410.0</td>\n",
       "      <td>6401.0</td>\n",
       "      <td>6406.5</td>\n",
       "      <td>2657345</td>\n",
       "    </tr>\n",
       "    <tr>\n",
       "      <th>2018-07-01 00:06:00</th>\n",
       "      <td>XBTUSD</td>\n",
       "      <td>6406.5</td>\n",
       "      <td>6406.5</td>\n",
       "      <td>6405.0</td>\n",
       "      <td>6405.0</td>\n",
       "      <td>163149</td>\n",
       "    </tr>\n",
       "  </tbody>\n",
       "</table>\n",
       "</div>"
      ],
      "text/plain": [
       "                     symbol   price                             size\n",
       "                     symbol    open    high     low   close     size\n",
       "timestamp                                                           \n",
       "2018-07-01 00:00:00  XBTUSD  6383.5  6389.0  6383.5  6388.5  2005959\n",
       "2018-07-01 00:01:00  XBTUSD  6389.0  6396.0  6388.5  6396.0  2368558\n",
       "2018-07-01 00:02:00  XBTUSD  6395.5  6420.0  6395.5  6408.0  7427788\n",
       "2018-07-01 00:03:00  XBTUSD  6407.5  6410.0  6395.5  6401.5  3252048\n",
       "2018-07-01 00:04:00  XBTUSD  6401.5  6408.0  6401.0  6401.0  1272841\n",
       "2018-07-01 00:05:00  XBTUSD  6401.0  6410.0  6401.0  6406.5  2657345\n",
       "2018-07-01 00:06:00  XBTUSD  6406.5  6406.5  6405.0  6405.0   163149"
      ]
     },
     "execution_count": 184,
     "metadata": {},
     "output_type": "execute_result"
    }
   ],
   "source": [
    "c"
   ]
  },
  {
   "cell_type": "code",
   "execution_count": 215,
   "metadata": {},
   "outputs": [],
   "source": [
    "c.columns = c.columns.get_level_values(1)"
   ]
  },
  {
   "cell_type": "code",
   "execution_count": 216,
   "metadata": {},
   "outputs": [
    {
     "data": {
      "text/html": [
       "<div>\n",
       "<style scoped>\n",
       "    .dataframe tbody tr th:only-of-type {\n",
       "        vertical-align: middle;\n",
       "    }\n",
       "\n",
       "    .dataframe tbody tr th {\n",
       "        vertical-align: top;\n",
       "    }\n",
       "\n",
       "    .dataframe thead th {\n",
       "        text-align: right;\n",
       "    }\n",
       "</style>\n",
       "<table border=\"1\" class=\"dataframe\">\n",
       "  <thead>\n",
       "    <tr style=\"text-align: right;\">\n",
       "      <th></th>\n",
       "      <th>symbol</th>\n",
       "      <th>open</th>\n",
       "      <th>high</th>\n",
       "      <th>low</th>\n",
       "      <th>close</th>\n",
       "      <th>size</th>\n",
       "    </tr>\n",
       "    <tr>\n",
       "      <th>timestamp</th>\n",
       "      <th></th>\n",
       "      <th></th>\n",
       "      <th></th>\n",
       "      <th></th>\n",
       "      <th></th>\n",
       "      <th></th>\n",
       "    </tr>\n",
       "  </thead>\n",
       "  <tbody>\n",
       "    <tr>\n",
       "      <th>2018-07-01 00:00:00</th>\n",
       "      <td>XBTUSD</td>\n",
       "      <td>6383.5</td>\n",
       "      <td>6389.0</td>\n",
       "      <td>6383.5</td>\n",
       "      <td>6388.5</td>\n",
       "      <td>2005959</td>\n",
       "    </tr>\n",
       "    <tr>\n",
       "      <th>2018-07-01 00:01:00</th>\n",
       "      <td>XBTUSD</td>\n",
       "      <td>6389.0</td>\n",
       "      <td>6396.0</td>\n",
       "      <td>6388.5</td>\n",
       "      <td>6396.0</td>\n",
       "      <td>2368558</td>\n",
       "    </tr>\n",
       "    <tr>\n",
       "      <th>2018-07-01 00:02:00</th>\n",
       "      <td>XBTUSD</td>\n",
       "      <td>6395.5</td>\n",
       "      <td>6420.0</td>\n",
       "      <td>6395.5</td>\n",
       "      <td>6408.0</td>\n",
       "      <td>7427788</td>\n",
       "    </tr>\n",
       "    <tr>\n",
       "      <th>2018-07-01 00:03:00</th>\n",
       "      <td>XBTUSD</td>\n",
       "      <td>6407.5</td>\n",
       "      <td>6410.0</td>\n",
       "      <td>6395.5</td>\n",
       "      <td>6401.5</td>\n",
       "      <td>3252048</td>\n",
       "    </tr>\n",
       "    <tr>\n",
       "      <th>2018-07-01 00:04:00</th>\n",
       "      <td>XBTUSD</td>\n",
       "      <td>6401.5</td>\n",
       "      <td>6408.0</td>\n",
       "      <td>6401.0</td>\n",
       "      <td>6401.0</td>\n",
       "      <td>1272841</td>\n",
       "    </tr>\n",
       "    <tr>\n",
       "      <th>2018-07-01 00:05:00</th>\n",
       "      <td>XBTUSD</td>\n",
       "      <td>6401.0</td>\n",
       "      <td>6410.0</td>\n",
       "      <td>6401.0</td>\n",
       "      <td>6406.5</td>\n",
       "      <td>2657345</td>\n",
       "    </tr>\n",
       "    <tr>\n",
       "      <th>2018-07-01 00:06:00</th>\n",
       "      <td>XBTUSD</td>\n",
       "      <td>6406.5</td>\n",
       "      <td>6406.5</td>\n",
       "      <td>6405.0</td>\n",
       "      <td>6405.0</td>\n",
       "      <td>163149</td>\n",
       "    </tr>\n",
       "  </tbody>\n",
       "</table>\n",
       "</div>"
      ],
      "text/plain": [
       "                     symbol    open    high     low   close     size\n",
       "timestamp                                                           \n",
       "2018-07-01 00:00:00  XBTUSD  6383.5  6389.0  6383.5  6388.5  2005959\n",
       "2018-07-01 00:01:00  XBTUSD  6389.0  6396.0  6388.5  6396.0  2368558\n",
       "2018-07-01 00:02:00  XBTUSD  6395.5  6420.0  6395.5  6408.0  7427788\n",
       "2018-07-01 00:03:00  XBTUSD  6407.5  6410.0  6395.5  6401.5  3252048\n",
       "2018-07-01 00:04:00  XBTUSD  6401.5  6408.0  6401.0  6401.0  1272841\n",
       "2018-07-01 00:05:00  XBTUSD  6401.0  6410.0  6401.0  6406.5  2657345\n",
       "2018-07-01 00:06:00  XBTUSD  6406.5  6406.5  6405.0  6405.0   163149"
      ]
     },
     "execution_count": 216,
     "metadata": {},
     "output_type": "execute_result"
    }
   ],
   "source": [
    "c"
   ]
  },
  {
   "cell_type": "code",
   "execution_count": 218,
   "metadata": {},
   "outputs": [],
   "source": [
    "from collections import deque\n",
    "import queue"
   ]
  },
  {
   "cell_type": "code",
   "execution_count": 221,
   "metadata": {},
   "outputs": [],
   "source": [
    "q = queue.Queue()"
   ]
  },
  {
   "cell_type": "code",
   "execution_count": 223,
   "metadata": {},
   "outputs": [],
   "source": [
    "a = deque([1,2,3])"
   ]
  },
  {
   "cell_type": "code",
   "execution_count": 225,
   "metadata": {},
   "outputs": [
    {
     "name": "stdout",
     "output_type": "stream",
     "text": [
      "1\n"
     ]
    },
    {
     "ename": "RuntimeError",
     "evalue": "deque mutated during iteration",
     "output_type": "error",
     "traceback": [
      "\u001b[0;31m---------------------------------------------------------------------------\u001b[0m",
      "\u001b[0;31mRuntimeError\u001b[0m                              Traceback (most recent call last)",
      "\u001b[0;32m<ipython-input-225-cd8271793206>\u001b[0m in \u001b[0;36m<module>\u001b[0;34m()\u001b[0m\n\u001b[0;32m----> 1\u001b[0;31m \u001b[0;32mfor\u001b[0m \u001b[0mi\u001b[0m \u001b[0;32min\u001b[0m \u001b[0ma\u001b[0m\u001b[0;34m:\u001b[0m\u001b[0;34m\u001b[0m\u001b[0m\n\u001b[0m\u001b[1;32m      2\u001b[0m     \u001b[0mprint\u001b[0m\u001b[0;34m(\u001b[0m\u001b[0mi\u001b[0m\u001b[0;34m)\u001b[0m\u001b[0;34m\u001b[0m\u001b[0m\n\u001b[1;32m      3\u001b[0m     \u001b[0ma\u001b[0m\u001b[0;34m.\u001b[0m\u001b[0mpop\u001b[0m\u001b[0;34m(\u001b[0m\u001b[0;34m)\u001b[0m\u001b[0;34m\u001b[0m\u001b[0m\n",
      "\u001b[0;31mRuntimeError\u001b[0m: deque mutated during iteration"
     ]
    }
   ],
   "source": [
    "for i in a:\n",
    "    print(i)\n",
    "    a.pop()"
   ]
  },
  {
   "cell_type": "code",
   "execution_count": 19,
   "metadata": {},
   "outputs": [],
   "source": [
    "a = pd.read_csv('/Users/felipe/bitme/data/20180701-1h-trades.csv.gz')\n",
    "b = pd.read_csv('/Users/felipe/bitme/data/20180701-1h-quotes.csv.gz')"
   ]
  },
  {
   "cell_type": "code",
   "execution_count": 34,
   "metadata": {},
   "outputs": [],
   "source": [
    "a.index = pd.DatetimeIndex([pd.Timestamp(i) for i in a['timestamp']])\n",
    "b.index = pd.DatetimeIndex([pd.Timestamp(i) for i in b['timestamp']])\n",
    "b['askPrice'] = 6388"
   ]
  },
  {
   "cell_type": "code",
   "execution_count": 35,
   "metadata": {},
   "outputs": [
    {
     "data": {
      "text/plain": [
       "<matplotlib.axes._subplots.AxesSubplot at 0x124101b70>"
      ]
     },
     "execution_count": 35,
     "metadata": {},
     "output_type": "execute_result"
    },
    {
     "data": {
      "image/png": "[encoded data removed]",
      "text/plain": [
       "<matplotlib.figure.Figure at 0x11229a898>"
      ]
     },
     "metadata": {},
     "output_type": "display_data"
    }
   ],
   "source": [
    "b[['bidPrice', 'askPrice']].plot()\n",
    "a['price'].plot()"
   ]
  },
  {
   "cell_type": "code",
   "execution_count": 33,
   "metadata": {},
   "outputs": [
    {
     "data": {
      "text/plain": [
       "timestamp    2018-07-01 00:00:57.237578\n",
       "symbol                           XBTUSD\n",
       "bidSize                          131261\n",
       "bidPrice                           6388\n",
       "askPrice                           6389\n",
       "askSize                           17543\n",
       "Name: 2018-07-01 00:00:57.237578, dtype: object"
      ]
     },
     "execution_count": 33,
     "metadata": {},
     "output_type": "execute_result"
    }
   ],
   "source": [
    "b.loc[pd.\n",
    "      Timestamp('2018-07-01 00:00:57.237578')]"
   ]
  },
  {
   "cell_type": "code",
   "execution_count": 28,
   "metadata": {},
   "outputs": [],
   "source": [
    "def nearest(items, pivot):\n",
    "    return min(items, key=lambda x: abs(x - pivot))"
   ]
  },
  {
   "cell_type": "code",
   "execution_count": null,
   "metadata": {},
   "outputs": [],
   "source": []
  }
 ],
 "metadata": {
  "kernelspec": {
   "display_name": "Python 3",
   "language": "python",
   "name": "python3"
  },
  "language_info": {
   "codemirror_mode": {
    "name": "ipython",
    "version": 3
   },
   "file_extension": ".py",
   "mimetype": "text/x-python",
   "name": "python",
   "nbconvert_exporter": "python",
   "pygments_lexer": "ipython3",
   "version": "3.6.4"
  }
 },
 "nbformat": 4,
 "nbformat_minor": 2
}
